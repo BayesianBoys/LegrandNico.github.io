{
 "cells": [
  {
   "cell_type": "code",
   "execution_count": 1,
   "id": "august-remove",
   "metadata": {
    "id": "naked-volleyball"
   },
   "outputs": [],
   "source": [
    "%%capture\n",
    "! pip install arviz==0.11.00\n",
    "! pip install pymc3==3.10.0"
   ]
  },
  {
   "cell_type": "code",
   "execution_count": 2,
   "id": "chief-voltage",
   "metadata": {
    "id": "designed-insulin"
   },
   "outputs": [],
   "source": [
    "import arviz as az\n",
    "import matplotlib.pyplot as plt\n",
    "import numpy as np\n",
    "import pandas as pd\n",
    "import pymc3 as pm\n",
    "import seaborn as sns\n",
    "from pymc3 import math"
   ]
  },
  {
   "cell_type": "markdown",
   "id": "advised-optimum",
   "metadata": {
    "id": "GWMGsEDSzosM"
   },
   "source": [
    "# Psychophysics"
   ]
  },
  {
   "cell_type": "code",
   "execution_count": 3,
   "id": "deluxe-bicycle",
   "metadata": {
    "id": "QAxgnhh98LEo"
   },
   "outputs": [],
   "source": [
    "# Load data frame\r\n",
    "psychophysics_df = pd.read_csv('https://github.com/embodied-computation-group/CardioceptionPaper/raw/main/data/Del1_merged.txt')"
   ]
  },
  {
   "cell_type": "markdown",
   "id": "quality-daily",
   "metadata": {
    "id": "-z2rrtNp9MPh"
   },
   "source": [
    "While the data frame has a lot of columns, here we will mainly analyze `Alpha` (the intensity value) and `Decision` (the response made).\n",
    "\n",
    "For simplicity, in this exercise, we will only analyze the data from the first participant (`sub_0019`) during the `Extero` condition.n."
   ]
  },
  {
   "cell_type": "code",
   "execution_count": 4,
   "id": "direct-chemistry",
   "metadata": {
    "id": "70iPUt9nzZUD"
   },
   "outputs": [],
   "source": [
    "this_df = psychophysics_df[(psychophysics_df.Modality == 'Extero') & (psychophysics_df.Subject == 'sub_0019')]"
   ]
  },
  {
   "cell_type": "markdown",
   "id": "mysterious-investing",
   "metadata": {
    "id": "__V5KcOWziWr"
   },
   "source": [
    "Let's take a look at the data. This function will plot the proportion of \"Faster\" responses depending on the intensity value of the trial stimuli (expressed in BPM). Here, the size of the circle represents the number of trials that were presented for each intensity value.\n"
   ]
  },
  {
   "cell_type": "code",
   "execution_count": 5,
   "id": "compressed-theater",
   "metadata": {
    "colab": {
     "base_uri": "https://localhost:8080/",
     "height": 352
    },
    "id": "vrFlhsuX9K1n",
    "outputId": "f41830f1-18a0-4a90-9347-6eb9d9043ff0"
   },
   "outputs": [
    {
     "data": {
      "image/png": "[encoded data removed]",
      "text/plain": [
       "<Figure size 576x360 with 1 Axes>"
      ]
     },
     "metadata": {
      "needs_background": "light",
      "tags": []
     },
     "output_type": "display_data"
    }
   ],
   "source": [
    "sns.set_context('talk')\r\n",
    "fig, axs = plt.subplots(figsize=(8, 5))\r\n",
    "for ii, intensity in enumerate(np.sort(this_df.Alpha.unique())):\r\n",
    "    resp = sum((this_df.Alpha == intensity) & (this_df.Decision == 'More'))\r\n",
    "    total = sum(this_df.Alpha == intensity)\r\n",
    "    axs.plot(intensity, resp/total, 'o', alpha=0.5, color='#4c72b0', markeredgecolor='k', markersize=total*3)\r\n",
    "plt.ylabel('P$_{(Response = More|Intensity)}$')\r\n",
    "plt.xlabel('Intensity ($\\Delta$ BPM)')\r\n",
    "plt.tight_layout()\r\n",
    "sns.despine()"
   ]
  },
  {
   "cell_type": "markdown",
   "id": "likely-injury",
   "metadata": {
    "id": "kwXfRILRryN2"
   },
   "source": [
    "## Exercises\r\n",
    "\r\n",
    "* Create the following figure.\r\n",
    "\r\n",
    "![title](https://github.com/LegrandNico/CognitiveModeling/raw/master/notebooks/data/psychophysics.png)\r\n",
    "\r\n",
    "This figure use the same code as presented above, add a bold blue line representing the most probable psychometric function, and draw 50 grey lines using possible values from the trace generated during model fitting.\r\n",
    "\r\n",
    "The model was defined by:\r\n",
    "\r\n",
    "$$ r_{i} \\sim \\mathcal{Binomial}(\\theta_{i},n_{i})$$\r\n",
    "$$ \\phi(\\theta_{i}) = \\frac{1}{2} + \\frac{1}{2} * erf(\\frac{x_{i} - \\alpha}{\\beta * \\sqrt{2}})$$\r\n",
    "$$ \\mathcal{i} \\mathcal{U}(-40.5, 40.5)$$\r\n",
    "$$ \\beta \\sim  |\\mathcal{N}(0, 10)|$$\r\n",
    "\r\n",
    "Where $erf$ denotes the [error functions](https://en.wikipedia.org/wiki/Error_function). The error function is available in the `math` submodule of PyMC3 (see [here](https://docs.pymc.io/api/math.html)).\r\n",
    "\r\n",
    "$\\phi$ is the cumulative normal function."
   ]
  },
  {
   "cell_type": "code",
   "execution_count": null,
   "id": "trying-jewelry",
   "metadata": {},
   "outputs": [],
   "source": []
  }
 ],
 "metadata": {
  "colab": {
   "collapsed_sections": [],
   "name": "4- Exercicese - Psychophysiscs.ipynb",
   "provenance": []
  },
  "kernelspec": {
   "display_name": "Python 3",
   "language": "python",
   "name": "python3"
  },
  "language_info": {
   "codemirror_mode": {
    "name": "ipython",
    "version": 3
   },
   "file_extension": ".py",
   "mimetype": "text/x-python",
   "name": "python",
   "nbconvert_exporter": "python",
   "pygments_lexer": "ipython3",
   "version": "3.7.9"
  }
 },
 "nbformat": 4,
 "nbformat_minor": 5
}
