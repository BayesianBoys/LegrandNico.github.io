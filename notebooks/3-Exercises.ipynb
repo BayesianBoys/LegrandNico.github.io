{
  "nbformat": 4,
  "nbformat_minor": 0,
  "metadata": {
    "kernelspec": {
      "display_name": "Python 3",
      "language": "python",
      "name": "python3"
    },
    "language_info": {
      "codemirror_mode": {
        "name": "ipython",
        "version": 3
      },
      "file_extension": ".py",
      "mimetype": "text/x-python",
      "name": "python",
      "nbconvert_exporter": "python",
      "pygments_lexer": "ipython3",
      "version": "3.7.9"
    },
    "colab": {
      "name": "3-Exercises.ipynb",
      "provenance": []
    }
  },
  "cells": [
    {
      "cell_type": "code",
      "metadata": {
        "id": "7dJHhOsv2tzp"
      },
      "source": [
        "%%capture\r\n",
        "! pip install arviz==0.11.00\r\n",
        "! pip install pymc3==3.10.0"
      ],
      "execution_count": 3,
      "outputs": []
    },
    {
      "cell_type": "code",
      "metadata": {
        "id": "abi_AE7k2pRO"
      },
      "source": [
        "import arviz as az\n",
        "import matplotlib.pyplot as plt\n",
        "import numpy as np\n",
        "import pandas as pd\n",
        "import pymc3 as pm\n",
        "import seaborn as sns\n",
        "from pymc3 import math"
      ],
      "execution_count": 4,
      "outputs": []
    },
    {
      "cell_type": "markdown",
      "metadata": {
        "id": "Dwv0Rvfg2pRV"
      },
      "source": [
        "The mean of the Gaussian is $\\mu$ and the standard deviation is $\\sigma$. Here, the model parameterizes the Gaussian distribution in terms of the mean and precision, not the mean and variance or the mean and standard deviation. These are all simply related, with the following formula:\n",
        "\n",
        "$$\\lambda = \\frac{1}{\\sigma^{2}}$$\n",
        "\n",
        "$$\\sigma = \\frac{1}{\\sqrt{\\lambda}}$$\n",
        "\n",
        "While $\\sigma = \\lambda$ when $\\sigma = 1$,  the precision and standard deviation are inversely related for other values, $\\sigma$ being low when $\\lambda$ is high, and should not be confused. Here, a precision of 0.001 denotes a very uncertain normal prior. If this value was used as standard deviation, it would create a very narrow distribution that would be a very conservative prior for most models, as new data would barely move the distribution away from the mean."
      ]
    },
    {
      "cell_type": "code",
      "metadata": {
        "colab": {
          "base_uri": "https://localhost:8080/",
          "height": 868
        },
        "id": "gHNNztpM2pRX",
        "outputId": "b01d9c08-b2f3-4a23-e67a-17e360f5fa93"
      },
      "source": [
        "fig, axs = plt.subplots(ncols=4, figsize=(18, 5))\n",
        "for i, s in enumerate([1, 0.1, 0.01, 0.001]):\n",
        "    \n",
        "    with pm.Model():\n",
        "        precision = pm.Normal(\"precision\", mu=0., tau=s)\n",
        "        std = pm.Normal(\"std\", mu=0., sigma=s)\n",
        "        trace = pm.sample(return_inferencedata=True)\n",
        "\n",
        "    az.plot_density(trace, var_names=['std'], shade=.4, colors='b', ax=axs[i])\n",
        "    az.plot_density(trace, var_names=['precision'], shade=.4, colors='g', ax=axs[i])\n",
        "    axs[i].set_title(f'S = {s}')"
      ],
      "execution_count": 16,
      "outputs": [
        {
          "output_type": "stream",
          "text": [
            "Auto-assigning NUTS sampler...\n",
            "Initializing NUTS using jitter+adapt_diag...\n",
            "Sequential sampling (2 chains in 1 job)\n",
            "NUTS: [std, precision]\n"
          ],
          "name": "stderr"
        },
        {
          "output_type": "display_data",
          "data": {
            "text/html": [
              "\n",
              "    <div>\n",
              "        <style>\n",
              "            /* Turns off some styling */\n",
              "            progress {\n",
              "                /* gets rid of default border in Firefox and Opera. */\n",
              "                border: none;\n",
              "                /* Needs to be in here for Safari polyfill so background images work as expected. */\n",
              "                background-size: auto;\n",
              "            }\n",
              "            .progress-bar-interrupted, .progress-bar-interrupted::-webkit-progress-bar {\n",
              "                background: #F44336;\n",
              "            }\n",
              "        </style>\n",
              "      <progress value='2000' class='' max='2000' style='width:300px; height:20px; vertical-align: middle;'></progress>\n",
              "      100.00% [2000/2000 00:01<00:00 Sampling chain 0, 0 divergences]\n",
              "    </div>\n",
              "    "
            ],
            "text/plain": [
              "<IPython.core.display.HTML object>"
            ]
          },
          "metadata": {
            "tags": []
          }
        },
        {
          "output_type": "display_data",
          "data": {
            "text/html": [
              "\n",
              "    <div>\n",
              "        <style>\n",
              "            /* Turns off some styling */\n",
              "            progress {\n",
              "                /* gets rid of default border in Firefox and Opera. */\n",
              "                border: none;\n",
              "                /* Needs to be in here for Safari polyfill so background images work as expected. */\n",
              "                background-size: auto;\n",
              "            }\n",
              "            .progress-bar-interrupted, .progress-bar-interrupted::-webkit-progress-bar {\n",
              "                background: #F44336;\n",
              "            }\n",
              "        </style>\n",
              "      <progress value='2000' class='' max='2000' style='width:300px; height:20px; vertical-align: middle;'></progress>\n",
              "      100.00% [2000/2000 00:01<00:00 Sampling chain 1, 0 divergences]\n",
              "    </div>\n",
              "    "
            ],
            "text/plain": [
              "<IPython.core.display.HTML object>"
            ]
          },
          "metadata": {
            "tags": []
          }
        },
        {
          "output_type": "stream",
          "text": [
            "Sampling 2 chains for 1_000 tune and 1_000 draw iterations (2_000 + 2_000 draws total) took 2 seconds.\n",
            "Auto-assigning NUTS sampler...\n",
            "Initializing NUTS using jitter+adapt_diag...\n",
            "Sequential sampling (2 chains in 1 job)\n",
            "NUTS: [std, precision]\n"
          ],
          "name": "stderr"
        },
        {
          "output_type": "display_data",
          "data": {
            "text/html": [
              "\n",
              "    <div>\n",
              "        <style>\n",
              "            /* Turns off some styling */\n",
              "            progress {\n",
              "                /* gets rid of default border in Firefox and Opera. */\n",
              "                border: none;\n",
              "                /* Needs to be in here for Safari polyfill so background images work as expected. */\n",
              "                background-size: auto;\n",
              "            }\n",
              "            .progress-bar-interrupted, .progress-bar-interrupted::-webkit-progress-bar {\n",
              "                background: #F44336;\n",
              "            }\n",
              "        </style>\n",
              "      <progress value='2000' class='' max='2000' style='width:300px; height:20px; vertical-align: middle;'></progress>\n",
              "      100.00% [2000/2000 00:01<00:00 Sampling chain 0, 0 divergences]\n",
              "    </div>\n",
              "    "
            ],
            "text/plain": [
              "<IPython.core.display.HTML object>"
            ]
          },
          "metadata": {
            "tags": []
          }
        },
        {
          "output_type": "display_data",
          "data": {
            "text/html": [
              "\n",
              "    <div>\n",
              "        <style>\n",
              "            /* Turns off some styling */\n",
              "            progress {\n",
              "                /* gets rid of default border in Firefox and Opera. */\n",
              "                border: none;\n",
              "                /* Needs to be in here for Safari polyfill so background images work as expected. */\n",
              "                background-size: auto;\n",
              "            }\n",
              "            .progress-bar-interrupted, .progress-bar-interrupted::-webkit-progress-bar {\n",
              "                background: #F44336;\n",
              "            }\n",
              "        </style>\n",
              "      <progress value='2000' class='' max='2000' style='width:300px; height:20px; vertical-align: middle;'></progress>\n",
              "      100.00% [2000/2000 00:01<00:00 Sampling chain 1, 0 divergences]\n",
              "    </div>\n",
              "    "
            ],
            "text/plain": [
              "<IPython.core.display.HTML object>"
            ]
          },
          "metadata": {
            "tags": []
          }
        },
        {
          "output_type": "stream",
          "text": [
            "Sampling 2 chains for 1_000 tune and 1_000 draw iterations (2_000 + 2_000 draws total) took 2 seconds.\n",
            "Auto-assigning NUTS sampler...\n",
            "Initializing NUTS using jitter+adapt_diag...\n",
            "Sequential sampling (2 chains in 1 job)\n",
            "NUTS: [std, precision]\n"
          ],
          "name": "stderr"
        },
        {
          "output_type": "display_data",
          "data": {
            "text/html": [
              "\n",
              "    <div>\n",
              "        <style>\n",
              "            /* Turns off some styling */\n",
              "            progress {\n",
              "                /* gets rid of default border in Firefox and Opera. */\n",
              "                border: none;\n",
              "                /* Needs to be in here for Safari polyfill so background images work as expected. */\n",
              "                background-size: auto;\n",
              "            }\n",
              "            .progress-bar-interrupted, .progress-bar-interrupted::-webkit-progress-bar {\n",
              "                background: #F44336;\n",
              "            }\n",
              "        </style>\n",
              "      <progress value='2000' class='' max='2000' style='width:300px; height:20px; vertical-align: middle;'></progress>\n",
              "      100.00% [2000/2000 00:01<00:00 Sampling chain 0, 0 divergences]\n",
              "    </div>\n",
              "    "
            ],
            "text/plain": [
              "<IPython.core.display.HTML object>"
            ]
          },
          "metadata": {
            "tags": []
          }
        },
        {
          "output_type": "display_data",
          "data": {
            "text/html": [
              "\n",
              "    <div>\n",
              "        <style>\n",
              "            /* Turns off some styling */\n",
              "            progress {\n",
              "                /* gets rid of default border in Firefox and Opera. */\n",
              "                border: none;\n",
              "                /* Needs to be in here for Safari polyfill so background images work as expected. */\n",
              "                background-size: auto;\n",
              "            }\n",
              "            .progress-bar-interrupted, .progress-bar-interrupted::-webkit-progress-bar {\n",
              "                background: #F44336;\n",
              "            }\n",
              "        </style>\n",
              "      <progress value='2000' class='' max='2000' style='width:300px; height:20px; vertical-align: middle;'></progress>\n",
              "      100.00% [2000/2000 00:01<00:00 Sampling chain 1, 0 divergences]\n",
              "    </div>\n",
              "    "
            ],
            "text/plain": [
              "<IPython.core.display.HTML object>"
            ]
          },
          "metadata": {
            "tags": []
          }
        },
        {
          "output_type": "stream",
          "text": [
            "Sampling 2 chains for 1_000 tune and 1_000 draw iterations (2_000 + 2_000 draws total) took 4 seconds.\n",
            "Auto-assigning NUTS sampler...\n",
            "Initializing NUTS using jitter+adapt_diag...\n",
            "Sequential sampling (2 chains in 1 job)\n",
            "NUTS: [std, precision]\n"
          ],
          "name": "stderr"
        },
        {
          "output_type": "display_data",
          "data": {
            "text/html": [
              "\n",
              "    <div>\n",
              "        <style>\n",
              "            /* Turns off some styling */\n",
              "            progress {\n",
              "                /* gets rid of default border in Firefox and Opera. */\n",
              "                border: none;\n",
              "                /* Needs to be in here for Safari polyfill so background images work as expected. */\n",
              "                background-size: auto;\n",
              "            }\n",
              "            .progress-bar-interrupted, .progress-bar-interrupted::-webkit-progress-bar {\n",
              "                background: #F44336;\n",
              "            }\n",
              "        </style>\n",
              "      <progress value='2000' class='' max='2000' style='width:300px; height:20px; vertical-align: middle;'></progress>\n",
              "      100.00% [2000/2000 00:02<00:00 Sampling chain 0, 0 divergences]\n",
              "    </div>\n",
              "    "
            ],
            "text/plain": [
              "<IPython.core.display.HTML object>"
            ]
          },
          "metadata": {
            "tags": []
          }
        },
        {
          "output_type": "display_data",
          "data": {
            "text/html": [
              "\n",
              "    <div>\n",
              "        <style>\n",
              "            /* Turns off some styling */\n",
              "            progress {\n",
              "                /* gets rid of default border in Firefox and Opera. */\n",
              "                border: none;\n",
              "                /* Needs to be in here for Safari polyfill so background images work as expected. */\n",
              "                background-size: auto;\n",
              "            }\n",
              "            .progress-bar-interrupted, .progress-bar-interrupted::-webkit-progress-bar {\n",
              "                background: #F44336;\n",
              "            }\n",
              "        </style>\n",
              "      <progress value='2000' class='' max='2000' style='width:300px; height:20px; vertical-align: middle;'></progress>\n",
              "      100.00% [2000/2000 00:03<00:00 Sampling chain 1, 0 divergences]\n",
              "    </div>\n",
              "    "
            ],
            "text/plain": [
              "<IPython.core.display.HTML object>"
            ]
          },
          "metadata": {
            "tags": []
          }
        },
        {
          "output_type": "stream",
          "text": [
            "Sampling 2 chains for 1_000 tune and 1_000 draw iterations (2_000 + 2_000 draws total) took 6 seconds.\n"
          ],
          "name": "stderr"
        },
        {
          "output_type": "display_data",
          "data": {
            "image/png": "[encoded data removed]",
            "text/plain": [
              "<Figure size 1296x360 with 4 Axes>"
            ]
          },
          "metadata": {
            "tags": [],
            "needs_background": "light"
          }
        }
      ]
    },
    {
      "cell_type": "markdown",
      "metadata": {
        "id": "t0Sgehgn2pRZ"
      },
      "source": [
        "# The seven scientists problem"
      ]
    },
    {
      "cell_type": "markdown",
      "metadata": {
        "id": "wng3ErKj2pRZ"
      },
      "source": [
        "This problem is from MacKay (2003, p. 309) where it is, among other things,\n",
        "treated to a Bayesian solution, but not quite using a graphical modeling approach,\n",
        "nor relying on computational sampling methods.\n",
        "Seven scientists with wildly-differing experimental skills all make a measurement\n",
        "of the same quantity. They get the answers x = {−27.020, 3.570, 8.191, 9.898, 9.603,\n",
        "9.945, 10.056}. Intuitively, it seems clear that the first two scientists are pretty inept\n",
        "measurers, and that the true value of the quantity is probably just a bit below 10.\n",
        "The main problem is to find the posterior distribution over the measured quantity,\n",
        "telling us what we can infer from the measurement. A secondary problem is to infer\n",
        "something about the measurement skills of the seven scientists.\n",
        "The graphical model for one way of solving this problem is shown in the Figure below.\n",
        "The assumption is that all the scientists have measurements that follow a Gaussian\n",
        "distribution, but with different standard deviations. However, because they are all\n",
        "measuring the same quantity, each Gaussian has the same mean, and it is just the\n",
        "standard deviation that differs."
      ]
    },
    {
      "cell_type": "markdown",
      "metadata": {
        "id": "UjrC2UJP2pRa"
      },
      "source": [
        "![title](https://github.com/LegrandNico/CognitiveModeling/raw/master/notebooks/data/sevenscientists.png)"
      ]
    },
    {
      "cell_type": "code",
      "metadata": {
        "id": "kqxOumYf2pRb"
      },
      "source": [
        "# data\n",
        "x = np.array([-27.020, 3.570, 8.191, 9.898, 9.603, 9.945, 10.056])"
      ],
      "execution_count": 17,
      "outputs": []
    },
    {
      "cell_type": "markdown",
      "metadata": {
        "id": "oaz2nqSX2pRb"
      },
      "source": [
        "**Exercise 1** Draw posterior samples, and reach conclusions about the value of the measured quantity, and about the accuracies of the seven scientists.\n",
        "\n",
        "**Exercise 2** Change the graphical model to use a uniform prior\n",
        "over the standard deviations. Experiment with the\n",
        "effect the upper bound of this uniform prior has on inference."
      ]
    },
    {
      "cell_type": "markdown",
      "metadata": {
        "id": "8HSYdGij2pRc"
      },
      "source": [
        "# Repeated measurement of IQ"
      ]
    },
    {
      "cell_type": "markdown",
      "metadata": {
        "id": "BhRogAAg2pRd"
      },
      "source": [
        "In this example, we consider how to estimate the IQ of a set of people, each of whom\n",
        "have done multiple IQ tests. The data are the measures xij for the i = 1, . . . , n\n",
        "people and their j = 1, . . . , m repeated test scores.\n",
        "We assume that the differences in repeated test scores are distributed as Gaussian\n",
        "error terms with zero mean and unknown precision. The mean of the Gaussian of\n",
        "a person’s test scores corresponds to their latent true IQ. This will be different for\n",
        "each person. The standard deviation of the Gaussians corresponds to the accuracy\n",
        "of the testing instruments in measuring the one underlying IQ value. We assume\n",
        "this is the same for every person, since it is conceived as a property of the tests\n",
        "themselves.\n",
        "The graphical model for this problem is shown in the figure below. Because we know\n",
        "quite a bit about the IQ scale, it makes sense to set priors for the mean and standard\n",
        "deviation using this knowledge. Our first attempt to set priors (these are revisited in\n",
        "the exercises) simply assume the actual IQ values are equally likely to be anywhere\n",
        "between 0 and 300, and standard deviations are anywhere between 0 and 100."
      ]
    },
    {
      "cell_type": "markdown",
      "metadata": {
        "id": "kiKCep1-2pRe"
      },
      "source": [
        "![title](https://github.com/LegrandNico/CognitiveModeling/raw/master/notebooks/data/IQ.png)"
      ]
    },
    {
      "cell_type": "code",
      "metadata": {
        "id": "A85Arlcf2pRf"
      },
      "source": [
        "y = np.array([[90, 95, 100], [105, 110, 115], [150, 155, 160]])"
      ],
      "execution_count": null,
      "outputs": []
    },
    {
      "cell_type": "markdown",
      "metadata": {
        "id": "VF_AREBv2pRh"
      },
      "source": [
        "**Exercise 1** Use the posterior distribution for each person’s μi to estimate their IQ. What can we say about the precision of the IQ test?\n",
        "\n",
        "**Exercise 2** Now, use a more realistic prior assumption for the μi means. Theoretically, IQ distributions should have a mean of 100, and a standard deviation of 15. Make this change in the script, and re-run the inference. How do the estimates of IQ given by the means change? Why?\n",
        "\n",
        "**Exercise 3** Repeat both of the above stages (i.e., using both priors on $\\mu$)\n",
        "with a new, but closely related, data set that has scores of (94, 95, 96), (109,\n",
        "110, 111), and (154, 155, 156). How do the different prior assumptions affect\n",
        "IQ estimation for these data. Why does it not follow the same pattern as the\n",
        "previous data?"
      ]
    },
    {
      "cell_type": "code",
      "metadata": {
        "id": "7ri3eQci2pRh"
      },
      "source": [
        ""
      ],
      "execution_count": null,
      "outputs": []
    }
  ]
}