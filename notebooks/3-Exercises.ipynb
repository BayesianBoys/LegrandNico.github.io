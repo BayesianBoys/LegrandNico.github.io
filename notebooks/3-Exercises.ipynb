{
 "cells": [
  {
   "cell_type": "code",
   "execution_count": 3,
   "metadata": {},
   "outputs": [],
   "source": [
    "import arviz as az\n",
    "import matplotlib.pyplot as plt\n",
    "import numpy as np\n",
    "import pandas as pd\n",
    "import pymc3 as pm\n",
    "from pymc3 import math"
   ]
  },
  {
   "cell_type": "markdown",
   "metadata": {},
   "source": [
    "# The seven scientists problem"
   ]
  },
  {
   "cell_type": "markdown",
   "metadata": {},
   "source": [
    "This problem is from MacKay (2003, p. 309) where it is, among other things,\n",
    "treated to a Bayesian solution, but not quite using a graphical modeling approach,\n",
    "nor relying on computational sampling methods.\n",
    "Seven scientists with wildly-differing experimental skills all make a measurement\n",
    "of the same quantity. They get the answers x = {−27.020, 3.570, 8.191, 9.898, 9.603,\n",
    "9.945, 10.056}. Intuitively, it seems clear that the first two scientists are pretty inept\n",
    "measurers, and that the true value of the quantity is probably just a bit below 10.\n",
    "The main problem is to find the posterior distribution over the measured quantity,\n",
    "telling us what we can infer from the measurement. A secondary problem is to infer\n",
    "something about the measurement skills of the seven scientists.\n",
    "The graphical model for one way of solving this problem is shown in the Figure below.\n",
    "The assumption is that all the scientists have measurements that follow a Gaussian\n",
    "distribution, but with different standard deviations. However, because they are all\n",
    "measuring the same quantity, each Gaussian has the same mean, and it is just the\n",
    "standard deviation that differs."
   ]
  },
  {
   "cell_type": "markdown",
   "metadata": {},
   "source": [
    "![title](data/sevenscientists.png)"
   ]
  },
  {
   "cell_type": "markdown",
   "metadata": {},
   "source": [
    "The mean of the Gaussian is $\\mu$ and the standard deviation is $\\sigma$. Here, the model parameterizes the Gaussian distribution in terms of the mean and precision, not the mean and variance or the mean and standard deviation. These are all simply related, with the variance being $\\sigma^{2}$ and the precision being $\\lambda = \\frac{1}{\\sigma^{2}}$."
   ]
  },
  {
   "cell_type": "code",
   "execution_count": null,
   "metadata": {},
   "outputs": [],
   "source": [
    "# data\n",
    "x = np.array([-27.020, 3.570, 8.191, 9.898, 9.603, 9.945, 10.056])"
   ]
  },
  {
   "cell_type": "markdown",
   "metadata": {},
   "source": [
    "**Exercise 1** Draw posterior samples, and reach conclusions about the value of the measured quantity, and about the accuracies of the seven scientists.\n",
    "\n",
    "**Exercise 2** Change the graphical model to use a uniform prior\n",
    "over the standard deviations. Experiment with the\n",
    "effect the upper bound of this uniform prior has on inference."
   ]
  },
  {
   "cell_type": "markdown",
   "metadata": {},
   "source": [
    "# Repeated measurement of IQ"
   ]
  },
  {
   "cell_type": "markdown",
   "metadata": {},
   "source": [
    "In this example, we consider how to estimate the IQ of a set of people, each of whom\n",
    "have done multiple IQ tests. The data are the measures xij for the i = 1, . . . , n\n",
    "people and their j = 1, . . . , m repeated test scores.\n",
    "We assume that the differences in repeated test scores are distributed as Gaussian\n",
    "error terms with zero mean and unknown precision. The mean of the Gaussian of\n",
    "a person’s test scores corresponds to their latent true IQ. This will be different for\n",
    "each person. The standard deviation of the Gaussians corresponds to the accuracy\n",
    "of the testing instruments in measuring the one underlying IQ value. We assume\n",
    "this is the same for every person, since it is conceived as a property of the tests\n",
    "themselves.\n",
    "The graphical model for this problem is shown in the figure below. Because we know\n",
    "quite a bit about the IQ scale, it makes sense to set priors for the mean and standard\n",
    "deviation using this knowledge. Our first attempt to set priors (these are revisited in\n",
    "the exercises) simply assume the actual IQ values are equally likely to be anywhere\n",
    "between 0 and 300, and standard deviations are anywhere between 0 and 100."
   ]
  },
  {
   "cell_type": "markdown",
   "metadata": {},
   "source": [
    "![title](data/IQ.png)"
   ]
  },
  {
   "cell_type": "code",
   "execution_count": 10,
   "metadata": {},
   "outputs": [],
   "source": [
    "y = np.array([[90, 95, 100], [105, 110, 115], [150, 155, 160]])"
   ]
  },
  {
   "cell_type": "markdown",
   "metadata": {},
   "source": [
    "**Exercise 1** Use the posterior distribution for each person’s μi to estimate their IQ. What can we say about the precision of the IQ test?\n",
    "\n",
    "**Exercise 2** Now, use a more realistic prior assumption for the μi means. Theoretically, IQ distributions should have a mean of 100, and a standard deviation of 15. Make this change in the script, and re-run the inference. How do the estimates of IQ given by the means change? Why?\n",
    "\n",
    "**Exercise 3** Repeat both of the above stages (i.e., using both priors on $\\mu$)\n",
    "with a new, but closely related, data set that has scores of (94, 95, 96), (109,\n",
    "110, 111), and (154, 155, 156). How do the different prior assumptions affect\n",
    "IQ estimation for these data. Why does it not follow the same pattern as the\n",
    "previous data?"
   ]
  },
  {
   "cell_type": "code",
   "execution_count": null,
   "metadata": {},
   "outputs": [],
   "source": []
  }
 ],
 "metadata": {
  "kernelspec": {
   "display_name": "Python 3",
   "language": "python",
   "name": "python3"
  },
  "language_info": {
   "codemirror_mode": {
    "name": "ipython",
    "version": 3
   },
   "file_extension": ".py",
   "mimetype": "text/x-python",
   "name": "python",
   "nbconvert_exporter": "python",
   "pygments_lexer": "ipython3",
   "version": "3.7.9"
  }
 },
 "nbformat": 4,
 "nbformat_minor": 4
}
