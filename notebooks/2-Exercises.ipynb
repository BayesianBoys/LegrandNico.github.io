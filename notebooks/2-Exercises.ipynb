{
 "cells": [
  {
   "cell_type": "markdown",
   "metadata": {},
   "source": [
    "# Chapter 3 Exercises"
   ]
  },
  {
   "cell_type": "code",
   "execution_count": 2,
   "metadata": {},
   "outputs": [],
   "source": [
    "import os\n",
    "import arviz as az\n",
    "import matplotlib.pyplot as plt\n",
    "import numpy as np\n",
    "import pandas as pd\n",
    "import pymc3 as pm"
   ]
  },
  {
   "cell_type": "markdown",
   "metadata": {},
   "source": [
    "## Question 1\n",
    "***\n",
    "\n",
    "*Check the following definition of a probabilistic model. Identify the likelihood, the prior and the posterior:*\n",
    "\n",
    "\\begin{eqnarray}\n",
    "y_i \\text{~} Normal(\\mu, \\sigma) \\newline\n",
    "\\mu \\text{~} Normal(0,10) \\newline\n",
    "\\sigma \\text{~} \\left|Normal(0,25) \\right|\n",
    "\\end{eqnarray}"
   ]
  },
  {
   "cell_type": "markdown",
   "metadata": {},
   "source": [
    "## Question 2\n",
    "***\n",
    "\n",
    "*For the model in exercise 1, how many parameters will the posterior have? In other words, how many dimensions will it have?*"
   ]
  },
  {
   "cell_type": "markdown",
   "metadata": {},
   "source": [
    "## Question 3\n",
    "***\n",
    "\n",
    "*Check the following model. Identify the linear model and the likelihood. How many parameters does the posterior have?*\n",
    "\n",
    "\\begin{eqnarray}\n",
    "y \\text{~} Normal(\\mu, \\epsilon) \\newline\n",
    "\\mu = \\alpha + \\beta x \\newline\n",
    "\\alpha \\text{~} Normal(0,10) \\newline\n",
    "\\beta \\text{~} Normal(0,1) \\newline\n",
    "\\epsilon \\text{~} \\left|Normal(0,25) \\right|\n",
    "\\end{eqnarray}"
   ]
  },
  {
   "cell_type": "markdown",
   "metadata": {},
   "source": [
    "## Question 4\n",
    "***\n",
    "\n",
    "*For the model in exercise 1, assume that you have a dataset with 57 data points coming from a Gaussian with a mean of 4 and a standard deviation of 0.5. Using PyMC3, compute:*\n",
    "- The posterior distribution\n",
    "- The prior distribution\n",
    "- The posterior predictive distribution\n",
    "\n",
    "*Tip: Besides `pm.sample()`, PyMC3 has other functions to compute samples.*\n",
    "\n",
    "For this exercise we will generate 57 datapoints from a distribution of $Normal(4, 0.5)$:"
   ]
  },
  {
   "cell_type": "markdown",
   "metadata": {},
   "source": [
    "## Question 5\n",
    "***\n",
    "\n",
    "*Use the howell dataset to create a linear model of the weight ($x$) against the height ($y$). Exclude subjects that are younger than 18. Explain the results using a linar regression.*"
   ]
  },
  {
   "cell_type": "code",
   "execution_count": 4,
   "metadata": {},
   "outputs": [],
   "source": [
    "howell = pd.read_csv(\"https://raw.githubusercontent.com/LegrandNico/CognitiveModeling/master/notebooks/data/howell.csv\", delimiter=\";\")"
   ]
  }
 ],
 "metadata": {
  "kernelspec": {
   "display_name": "Python 3",
   "language": "python",
   "name": "python3"
  },
  "language_info": {
   "codemirror_mode": {
    "name": "ipython",
    "version": 3
   },
   "file_extension": ".py",
   "mimetype": "text/x-python",
   "name": "python",
   "nbconvert_exporter": "python",
   "pygments_lexer": "ipython3",
   "version": "3.7.9"
  }
 },
 "nbformat": 4,
 "nbformat_minor": 4
}
