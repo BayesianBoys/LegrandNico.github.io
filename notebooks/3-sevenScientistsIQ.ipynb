{
 "cells": [
  {
   "cell_type": "code",
   "execution_count": null,
   "metadata": {},
   "outputs": [],
   "source": [
    "%%capture\n",
    "! pip install arviz==0.11.00\n",
    "! pip install pymc3==3.10.0"
   ]
  },
  {
   "cell_type": "code",
   "execution_count": 4,
   "metadata": {
    "id": "abi_AE7k2pRO"
   },
   "outputs": [],
   "source": [
    "import arviz as az\n",
    "import matplotlib.pyplot as plt\n",
    "import numpy as np\n",
    "import pandas as pd\n",
    "import pymc3 as pm\n",
    "import seaborn as sns\n",
    "from pymc3 import math"
   ]
  },
  {
   "cell_type": "markdown",
   "metadata": {
    "id": "Dwv0Rvfg2pRV"
   },
   "source": [
    "The mean of the Gaussian is $\\mu$ and the standard deviation is $\\sigma$. Here, the model parameterizes the Gaussian distribution in terms of the mean and precision, not the mean and variance or the mean and standard deviation. These are all simply related, with the following formula:\n",
    "\n",
    "$$\\lambda = \\frac{1}{\\sigma^{2}}$$\n",
    "\n",
    "$$\\sigma = \\frac{1}{\\sqrt{\\lambda}}$$\n",
    "\n",
    "While $\\sigma = \\lambda$ when $\\sigma = 1$,  the precision and standard deviation are inversely related for other values, $\\sigma$ being low when $\\lambda$ is high, and should not be confused. Here, a precision of 0.001 denotes a very uncertain normal prior. If this value was used as standard deviation, it would create a very narrow distribution that would be a very conservative prior for most models, as new data would barely move the distribution away from the mean."
   ]
  },
  {
   "cell_type": "code",
   "execution_count": 16,
   "metadata": {
    "colab": {
     "base_uri": "https://localhost:8080/",
     "height": 868
    },
    "id": "gHNNztpM2pRX",
    "outputId": "b01d9c08-b2f3-4a23-e67a-17e360f5fa93"
   },
   "outputs": [
    {
     "name": "stderr",
     "output_type": "stream",
     "text": [
      "Auto-assigning NUTS sampler...\n",
      "Initializing NUTS using jitter+adapt_diag...\n",
      "Sequential sampling (2 chains in 1 job)\n",
      "NUTS: [std, precision]\n"
     ]
    },
    {
     "data": {
      "text/html": [
       "\n",
       "    <div>\n",
       "        <style>\n",
       "            /* Turns off some styling */\n",
       "            progress {\n",
       "                /* gets rid of default border in Firefox and Opera. */\n",
       "                border: none;\n",
       "                /* Needs to be in here for Safari polyfill so background images work as expected. */\n",
       "                background-size: auto;\n",
       "            }\n",
       "            .progress-bar-interrupted, .progress-bar-interrupted::-webkit-progress-bar {\n",
       "                background: #F44336;\n",
       "            }\n",
       "        </style>\n",
       "      <progress value='2000' class='' max='2000' style='width:300px; height:20px; vertical-align: middle;'></progress>\n",
       "      100.00% [2000/2000 00:01<00:00 Sampling chain 0, 0 divergences]\n",
       "    </div>\n",
       "    "
      ],
      "text/plain": [
       "<IPython.core.display.HTML object>"
      ]
     },
     "metadata": {
      "tags": []
     },
     "output_type": "display_data"
    },
    {
     "data": {
      "text/html": [
       "\n",
       "    <div>\n",
       "        <style>\n",
       "            /* Turns off some styling */\n",
       "            progress {\n",
       "                /* gets rid of default border in Firefox and Opera. */\n",
       "                border: none;\n",
       "                /* Needs to be in here for Safari polyfill so background images work as expected. */\n",
       "                background-size: auto;\n",
       "            }\n",
       "            .progress-bar-interrupted, .progress-bar-interrupted::-webkit-progress-bar {\n",
       "                background: #F44336;\n",
       "            }\n",
       "        </style>\n",
       "      <progress value='2000' class='' max='2000' style='width:300px; height:20px; vertical-align: middle;'></progress>\n",
       "      100.00% [2000/2000 00:01<00:00 Sampling chain 1, 0 divergences]\n",
       "    </div>\n",
       "    "
      ],
      "text/plain": [
       "<IPython.core.display.HTML object>"
      ]
     },
     "metadata": {
      "tags": []
     },
     "output_type": "display_data"
    },
    {
     "name": "stderr",
     "output_type": "stream",
     "text": [
      "Sampling 2 chains for 1_000 tune and 1_000 draw iterations (2_000 + 2_000 draws total) took 2 seconds.\n",
      "Auto-assigning NUTS sampler...\n",
      "Initializing NUTS using jitter+adapt_diag...\n",
      "Sequential sampling (2 chains in 1 job)\n",
      "NUTS: [std, precision]\n"
     ]
    },
    {
     "data": {
      "text/html": [
       "\n",
       "    <div>\n",
       "        <style>\n",
       "            /* Turns off some styling */\n",
       "            progress {\n",
       "                /* gets rid of default border in Firefox and Opera. */\n",
       "                border: none;\n",
       "                /* Needs to be in here for Safari polyfill so background images work as expected. */\n",
       "                background-size: auto;\n",
       "            }\n",
       "            .progress-bar-interrupted, .progress-bar-interrupted::-webkit-progress-bar {\n",
       "                background: #F44336;\n",
       "            }\n",
       "        </style>\n",
       "      <progress value='2000' class='' max='2000' style='width:300px; height:20px; vertical-align: middle;'></progress>\n",
       "      100.00% [2000/2000 00:01<00:00 Sampling chain 0, 0 divergences]\n",
       "    </div>\n",
       "    "
      ],
      "text/plain": [
       "<IPython.core.display.HTML object>"
      ]
     },
     "metadata": {
      "tags": []
     },
     "output_type": "display_data"
    },
    {
     "data": {
      "text/html": [
       "\n",
       "    <div>\n",
       "        <style>\n",
       "            /* Turns off some styling */\n",
       "            progress {\n",
       "                /* gets rid of default border in Firefox and Opera. */\n",
       "                border: none;\n",
       "                /* Needs to be in here for Safari polyfill so background images work as expected. */\n",
       "                background-size: auto;\n",
       "            }\n",
       "            .progress-bar-interrupted, .progress-bar-interrupted::-webkit-progress-bar {\n",
       "                background: #F44336;\n",
       "            }\n",
       "        </style>\n",
       "      <progress value='2000' class='' max='2000' style='width:300px; height:20px; vertical-align: middle;'></progress>\n",
       "      100.00% [2000/2000 00:01<00:00 Sampling chain 1, 0 divergences]\n",
       "    </div>\n",
       "    "
      ],
      "text/plain": [
       "<IPython.core.display.HTML object>"
      ]
     },
     "metadata": {
      "tags": []
     },
     "output_type": "display_data"
    },
    {
     "name": "stderr",
     "output_type": "stream",
     "text": [
      "Sampling 2 chains for 1_000 tune and 1_000 draw iterations (2_000 + 2_000 draws total) took 2 seconds.\n",
      "Auto-assigning NUTS sampler...\n",
      "Initializing NUTS using jitter+adapt_diag...\n",
      "Sequential sampling (2 chains in 1 job)\n",
      "NUTS: [std, precision]\n"
     ]
    },
    {
     "data": {
      "text/html": [
       "\n",
       "    <div>\n",
       "        <style>\n",
       "            /* Turns off some styling */\n",
       "            progress {\n",
       "                /* gets rid of default border in Firefox and Opera. */\n",
       "                border: none;\n",
       "                /* Needs to be in here for Safari polyfill so background images work as expected. */\n",
       "                background-size: auto;\n",
       "            }\n",
       "            .progress-bar-interrupted, .progress-bar-interrupted::-webkit-progress-bar {\n",
       "                background: #F44336;\n",
       "            }\n",
       "        </style>\n",
       "      <progress value='2000' class='' max='2000' style='width:300px; height:20px; vertical-align: middle;'></progress>\n",
       "      100.00% [2000/2000 00:01<00:00 Sampling chain 0, 0 divergences]\n",
       "    </div>\n",
       "    "
      ],
      "text/plain": [
       "<IPython.core.display.HTML object>"
      ]
     },
     "metadata": {
      "tags": []
     },
     "output_type": "display_data"
    },
    {
     "data": {
      "text/html": [
       "\n",
       "    <div>\n",
       "        <style>\n",
       "            /* Turns off some styling */\n",
       "            progress {\n",
       "                /* gets rid of default border in Firefox and Opera. */\n",
       "                border: none;\n",
       "                /* Needs to be in here for Safari polyfill so background images work as expected. */\n",
       "                background-size: auto;\n",
       "            }\n",
       "            .progress-bar-interrupted, .progress-bar-interrupted::-webkit-progress-bar {\n",
       "                background: #F44336;\n",
       "            }\n",
       "        </style>\n",
       "      <progress value='2000' class='' max='2000' style='width:300px; height:20px; vertical-align: middle;'></progress>\n",
       "      100.00% [2000/2000 00:01<00:00 Sampling chain 1, 0 divergences]\n",
       "    </div>\n",
       "    "
      ],
      "text/plain": [
       "<IPython.core.display.HTML object>"
      ]
     },
     "metadata": {
      "tags": []
     },
     "output_type": "display_data"
    },
    {
     "name": "stderr",
     "output_type": "stream",
     "text": [
      "Sampling 2 chains for 1_000 tune and 1_000 draw iterations (2_000 + 2_000 draws total) took 4 seconds.\n",
      "Auto-assigning NUTS sampler...\n",
      "Initializing NUTS using jitter+adapt_diag...\n",
      "Sequential sampling (2 chains in 1 job)\n",
      "NUTS: [std, precision]\n"
     ]
    },
    {
     "data": {
      "text/html": [
       "\n",
       "    <div>\n",
       "        <style>\n",
       "            /* Turns off some styling */\n",
       "            progress {\n",
       "                /* gets rid of default border in Firefox and Opera. */\n",
       "                border: none;\n",
       "                /* Needs to be in here for Safari polyfill so background images work as expected. */\n",
       "                background-size: auto;\n",
       "            }\n",
       "            .progress-bar-interrupted, .progress-bar-interrupted::-webkit-progress-bar {\n",
       "                background: #F44336;\n",
       "            }\n",
       "        </style>\n",
       "      <progress value='2000' class='' max='2000' style='width:300px; height:20px; vertical-align: middle;'></progress>\n",
       "      100.00% [2000/2000 00:02<00:00 Sampling chain 0, 0 divergences]\n",
       "    </div>\n",
       "    "
      ],
      "text/plain": [
       "<IPython.core.display.HTML object>"
      ]
     },
     "metadata": {
      "tags": []
     },
     "output_type": "display_data"
    },
    {
     "data": {
      "text/html": [
       "\n",
       "    <div>\n",
       "        <style>\n",
       "            /* Turns off some styling */\n",
       "            progress {\n",
       "                /* gets rid of default border in Firefox and Opera. */\n",
       "                border: none;\n",
       "                /* Needs to be in here for Safari polyfill so background images work as expected. */\n",
       "                background-size: auto;\n",
       "            }\n",
       "            .progress-bar-interrupted, .progress-bar-interrupted::-webkit-progress-bar {\n",
       "                background: #F44336;\n",
       "            }\n",
       "        </style>\n",
       "      <progress value='2000' class='' max='2000' style='width:300px; height:20px; vertical-align: middle;'></progress>\n",
       "      100.00% [2000/2000 00:03<00:00 Sampling chain 1, 0 divergences]\n",
       "    </div>\n",
       "    "
      ],
      "text/plain": [
       "<IPython.core.display.HTML object>"
      ]
     },
     "metadata": {
      "tags": []
     },
     "output_type": "display_data"
    },
    {
     "name": "stderr",
     "output_type": "stream",
     "text": [
      "Sampling 2 chains for 1_000 tune and 1_000 draw iterations (2_000 + 2_000 draws total) took 6 seconds.\n"
     ]
    },
    {
     "data": {
      "image/png": "[encoded data removed]",
      "text/plain": [
       "<Figure size 1296x360 with 4 Axes>"
      ]
     },
     "metadata": {
      "needs_background": "light",
      "tags": []
     },
     "output_type": "display_data"
    }
   ],
   "source": [
    "fig, axs = plt.subplots(ncols=4, figsize=(18, 5))\n",
    "for i, s in enumerate([1, 0.1, 0.01, 0.001]):\n",
    "    \n",
    "    with pm.Model():\n",
    "        precision = pm.Normal(\"precision\", mu=0., tau=s)\n",
    "        std = pm.Normal(\"std\", mu=0., sigma=s)\n",
    "        trace = pm.sample(return_inferencedata=True)\n",
    "\n",
    "    az.plot_density(trace, var_names=['std'], shade=.4, colors='b', ax=axs[i])\n",
    "    az.plot_density(trace, var_names=['precision'], shade=.4, colors='g', ax=axs[i])\n",
    "    axs[i].set_title(f'S = {s}')"
   ]
  },
  {
   "cell_type": "markdown",
   "metadata": {},
   "source": [
    "# The seven scientists problem"
   ]
  },
  {
   "cell_type": "markdown",
   "metadata": {},
   "source": [
    "This problem is from MacKay (2003, p. 309) where it is, among other things,\n",
    "treated to a Bayesian solution, but not quite using a graphical modeling approach,\n",
    "nor relying on computational sampling methods.\n",
    "Seven scientists with wildly-differing experimental skills all make a measurement\n",
    "of the same quantity. They get the answers x = {−27.020, 3.570, 8.191, 9.898, 9.603,\n",
    "9.945, 10.056}. Intuitively, it seems clear that the first two scientists are pretty inept\n",
    "measurers, and that the true value of the quantity is probably just a bit below 10.\n",
    "The main problem is to find the posterior distribution over the measured quantity,\n",
    "telling us what we can infer from the measurement. A secondary problem is to infer\n",
    "something about the measurement skills of the seven scientists.\n",
    "The graphical model for one way of solving this problem is shown in the Figure below.\n",
    "The assumption is that all the scientists have measurements that follow a Gaussian\n",
    "distribution, but with different standard deviations. However, because they are all\n",
    "measuring the same quantity, each Gaussian has the same mean, and it is just the\n",
    "standard deviation that differs."
   ]
  },
  {
   "cell_type": "markdown",
   "metadata": {},
   "source": [
    "![title](data/sevenscientists.png)"
   ]
  },
  {
   "cell_type": "markdown",
   "metadata": {},
   "source": [
    "The mean of the Gaussian is $\\mu$ and the standard deviation is $\\sigma$. Here, the model parameterizes the Gaussian distribution in terms of the mean and precision, not the mean and variance or the mean and standard deviation. These are all simply related, with the variance being $\\sigma^{2}$ and the precision being $\\lambda = \\frac{1}{\\sigma^{2}}$."
   ]
  },
  {
   "cell_type": "code",
   "execution_count": null,
   "metadata": {},
   "outputs": [],
   "source": [
    "# data\n",
    "x = np.array([-27.020, 3.570, 8.191, 9.898, 9.603, 9.945, 10.056])"
   ]
  },
  {
   "cell_type": "markdown",
   "metadata": {
    "id": "oaz2nqSX2pRb"
   },
   "source": [
    "**Exercise 1** Draw posterior samples, and reach conclusions about the value of the measured quantity, and about the accuracies of the seven scientists.\n",
    "\n",
    "**Exercise 2** Change the graphical model to use a uniform prior\n",
    "over the standard deviations. Experiment with the\n",
    "effect the upper bound of this uniform prior has on inference."
   ]
  },
  {
   "cell_type": "markdown",
   "metadata": {},
   "source": [
    "## Solutions"
   ]
  },
  {
   "cell_type": "markdown",
   "metadata": {},
   "source": [
    "The model:\n",
    "$$ \\mu \\sim \\text{Gaussian}(0, .001)  $$\n",
    "$$ \\lambda_{i} \\sim \\text{Gamma} (.001, .001)  $$\n",
    "$$ \\sigma = 1/{\\sqrt\\lambda_{i}} $$  \n",
    "$$ x_{i} \\sim \\text{Gaussian} (\\mu, \\lambda_{i})  $$\n",
    "\n",
    "The mean is the same for all seven scientists, while the standard deviations are different "
   ]
  },
  {
   "cell_type": "code",
   "execution_count": 4,
   "metadata": {},
   "outputs": [
    {
     "name": "stderr",
     "output_type": "stream",
     "text": [
      "C:\\ProgramData\\Anaconda3\\lib\\site-packages\\pymc3\\sampling.py:469: FutureWarning: In an upcoming release, pm.sample will return an `arviz.InferenceData` object instead of a `MultiTrace` by default. You can pass return_inferencedata=True or return_inferencedata=False to be safe and silence this warning.\n",
      "  FutureWarning,\n",
      "Auto-assigning NUTS sampler...\n",
      "Initializing NUTS using jitter+adapt_diag...\n",
      "Multiprocess sampling (4 chains in 4 jobs)\n",
      "NUTS: [lambda1, mu]\n"
     ]
    },
    {
     "data": {
      "text/html": [
       "\n",
       "    <div>\n",
       "        <style>\n",
       "            /* Turns off some styling */\n",
       "            progress {\n",
       "                /* gets rid of default border in Firefox and Opera. */\n",
       "                border: none;\n",
       "                /* Needs to be in here for Safari polyfill so background images work as expected. */\n",
       "                background-size: auto;\n",
       "            }\n",
       "            .progress-bar-interrupted, .progress-bar-interrupted::-webkit-progress-bar {\n",
       "                background: #F44336;\n",
       "            }\n",
       "        </style>\n",
       "      <progress value='16000' class='' max='16000' style='width:300px; height:20px; vertical-align: middle;'></progress>\n",
       "      100.00% [16000/16000 00:16<00:00 Sampling 4 chains, 5 divergences]\n",
       "    </div>\n",
       "    "
      ],
      "text/plain": [
       "<IPython.core.display.HTML object>"
      ]
     },
     "metadata": {},
     "output_type": "display_data"
    },
    {
     "name": "stderr",
     "output_type": "stream",
     "text": [
      "Sampling 4 chains for 2_000 tune and 2_000 draw iterations (8_000 + 8_000 draws total) took 220 seconds.\n",
      "There were 5 divergences after tuning. Increase `target_accept` or reparameterize.\n"
     ]
    }
   ],
   "source": [
    "n = len(x)\n",
    "\n",
    "with pm.Model() as model:\n",
    "\n",
    "    # prior\n",
    "    mu = pm.Normal(\"mu\", mu=0., tau=0.001)\n",
    "    lambda1 = pm.Gamma(\"lambda1\", alpha=0.01, beta=0.01, shape=n)\n",
    "    sigma = pm.Deterministic('sigma',1 / math.sqrt(lambda1))\n",
    "    \n",
    "    # observed\n",
    "    xi = pm.Normal(\"xi\", mu=mu, tau=lambda1, observed=x)\n",
    "\n",
    "    # inference\n",
    "    trace = pm.sample(2000, tune=2000, target_accept=0.9)"
   ]
  },
  {
   "cell_type": "code",
   "execution_count": 5,
   "metadata": {},
   "outputs": [
    {
     "name": "stderr",
     "output_type": "stream",
     "text": [
      "C:\\ProgramData\\Anaconda3\\lib\\site-packages\\arviz\\data\\io_pymc3.py:92: FutureWarning: Using `from_pymc3` without the model will be deprecated in a future release. Not using the model will return less accurate and less useful results. Make sure you use the model argument or call from_pymc3 within a model context.\n",
      "  FutureWarning,\n"
     ]
    },
    {
     "data": {
      "text/html": [
       "<div>\n",
       "<style scoped>\n",
       "    .dataframe tbody tr th:only-of-type {\n",
       "        vertical-align: middle;\n",
       "    }\n",
       "\n",
       "    .dataframe tbody tr th {\n",
       "        vertical-align: top;\n",
       "    }\n",
       "\n",
       "    .dataframe thead th {\n",
       "        text-align: right;\n",
       "    }\n",
       "</style>\n",
       "<table border=\"1\" class=\"dataframe\">\n",
       "  <thead>\n",
       "    <tr style=\"text-align: right;\">\n",
       "      <th></th>\n",
       "      <th>mean</th>\n",
       "      <th>sd</th>\n",
       "      <th>hdi_3%</th>\n",
       "      <th>hdi_97%</th>\n",
       "      <th>mcse_mean</th>\n",
       "      <th>mcse_sd</th>\n",
       "      <th>ess_mean</th>\n",
       "      <th>ess_sd</th>\n",
       "      <th>ess_bulk</th>\n",
       "      <th>ess_tail</th>\n",
       "      <th>r_hat</th>\n",
       "    </tr>\n",
       "  </thead>\n",
       "  <tbody>\n",
       "    <tr>\n",
       "      <th>mu</th>\n",
       "      <td>9.858</td>\n",
       "      <td>0.247</td>\n",
       "      <td>9.477</td>\n",
       "      <td>10.205</td>\n",
       "      <td>0.009</td>\n",
       "      <td>0.006</td>\n",
       "      <td>784.0</td>\n",
       "      <td>784.0</td>\n",
       "      <td>2241.0</td>\n",
       "      <td>1179.0</td>\n",
       "      <td>1.0</td>\n",
       "    </tr>\n",
       "    <tr>\n",
       "      <th>lambda1[0]</th>\n",
       "      <td>0.001</td>\n",
       "      <td>0.001</td>\n",
       "      <td>0.000</td>\n",
       "      <td>0.003</td>\n",
       "      <td>0.000</td>\n",
       "      <td>0.000</td>\n",
       "      <td>6339.0</td>\n",
       "      <td>6328.0</td>\n",
       "      <td>2721.0</td>\n",
       "      <td>1842.0</td>\n",
       "      <td>1.0</td>\n",
       "    </tr>\n",
       "    <tr>\n",
       "      <th>lambda1[1]</th>\n",
       "      <td>0.026</td>\n",
       "      <td>0.036</td>\n",
       "      <td>0.000</td>\n",
       "      <td>0.093</td>\n",
       "      <td>0.000</td>\n",
       "      <td>0.000</td>\n",
       "      <td>6696.0</td>\n",
       "      <td>6194.0</td>\n",
       "      <td>3055.0</td>\n",
       "      <td>2006.0</td>\n",
       "      <td>1.0</td>\n",
       "    </tr>\n",
       "    <tr>\n",
       "      <th>lambda1[2]</th>\n",
       "      <td>0.557</td>\n",
       "      <td>4.187</td>\n",
       "      <td>0.000</td>\n",
       "      <td>1.438</td>\n",
       "      <td>0.091</td>\n",
       "      <td>0.064</td>\n",
       "      <td>2120.0</td>\n",
       "      <td>2120.0</td>\n",
       "      <td>2084.0</td>\n",
       "      <td>1757.0</td>\n",
       "      <td>1.0</td>\n",
       "    </tr>\n",
       "    <tr>\n",
       "      <th>lambda1[3]</th>\n",
       "      <td>31.121</td>\n",
       "      <td>50.056</td>\n",
       "      <td>0.000</td>\n",
       "      <td>117.993</td>\n",
       "      <td>0.697</td>\n",
       "      <td>0.493</td>\n",
       "      <td>5164.0</td>\n",
       "      <td>5164.0</td>\n",
       "      <td>2998.0</td>\n",
       "      <td>2740.0</td>\n",
       "      <td>1.0</td>\n",
       "    </tr>\n",
       "    <tr>\n",
       "      <th>lambda1[4]</th>\n",
       "      <td>14.675</td>\n",
       "      <td>27.824</td>\n",
       "      <td>0.000</td>\n",
       "      <td>55.723</td>\n",
       "      <td>0.399</td>\n",
       "      <td>0.282</td>\n",
       "      <td>4870.0</td>\n",
       "      <td>4870.0</td>\n",
       "      <td>2402.0</td>\n",
       "      <td>1764.0</td>\n",
       "      <td>1.0</td>\n",
       "    </tr>\n",
       "    <tr>\n",
       "      <th>lambda1[5]</th>\n",
       "      <td>31.457</td>\n",
       "      <td>52.538</td>\n",
       "      <td>0.000</td>\n",
       "      <td>117.561</td>\n",
       "      <td>0.802</td>\n",
       "      <td>0.567</td>\n",
       "      <td>4290.0</td>\n",
       "      <td>4290.0</td>\n",
       "      <td>2013.0</td>\n",
       "      <td>1976.0</td>\n",
       "      <td>1.0</td>\n",
       "    </tr>\n",
       "    <tr>\n",
       "      <th>lambda1[6]</th>\n",
       "      <td>24.221</td>\n",
       "      <td>44.482</td>\n",
       "      <td>0.000</td>\n",
       "      <td>94.786</td>\n",
       "      <td>0.635</td>\n",
       "      <td>0.449</td>\n",
       "      <td>4909.0</td>\n",
       "      <td>4909.0</td>\n",
       "      <td>2148.0</td>\n",
       "      <td>1975.0</td>\n",
       "      <td>1.0</td>\n",
       "    </tr>\n",
       "    <tr>\n",
       "      <th>sigma[0]</th>\n",
       "      <td>755.741</td>\n",
       "      <td>16417.688</td>\n",
       "      <td>10.659</td>\n",
       "      <td>474.651</td>\n",
       "      <td>480.689</td>\n",
       "      <td>339.983</td>\n",
       "      <td>1167.0</td>\n",
       "      <td>1167.0</td>\n",
       "      <td>2721.0</td>\n",
       "      <td>1842.0</td>\n",
       "      <td>1.0</td>\n",
       "    </tr>\n",
       "    <tr>\n",
       "      <th>sigma[1]</th>\n",
       "      <td>37.149</td>\n",
       "      <td>348.127</td>\n",
       "      <td>1.569</td>\n",
       "      <td>76.662</td>\n",
       "      <td>5.789</td>\n",
       "      <td>4.094</td>\n",
       "      <td>3616.0</td>\n",
       "      <td>3616.0</td>\n",
       "      <td>3055.0</td>\n",
       "      <td>2006.0</td>\n",
       "      <td>1.0</td>\n",
       "    </tr>\n",
       "    <tr>\n",
       "      <th>sigma[2]</th>\n",
       "      <td>22.538</td>\n",
       "      <td>557.455</td>\n",
       "      <td>0.082</td>\n",
       "      <td>21.615</td>\n",
       "      <td>7.885</td>\n",
       "      <td>5.576</td>\n",
       "      <td>4998.0</td>\n",
       "      <td>4998.0</td>\n",
       "      <td>2084.0</td>\n",
       "      <td>1757.0</td>\n",
       "      <td>1.0</td>\n",
       "    </tr>\n",
       "    <tr>\n",
       "      <th>sigma[3]</th>\n",
       "      <td>1.796</td>\n",
       "      <td>25.953</td>\n",
       "      <td>0.041</td>\n",
       "      <td>2.712</td>\n",
       "      <td>0.493</td>\n",
       "      <td>0.349</td>\n",
       "      <td>2770.0</td>\n",
       "      <td>2770.0</td>\n",
       "      <td>2998.0</td>\n",
       "      <td>2740.0</td>\n",
       "      <td>1.0</td>\n",
       "    </tr>\n",
       "    <tr>\n",
       "      <th>sigma[4]</th>\n",
       "      <td>2.217</td>\n",
       "      <td>18.410</td>\n",
       "      <td>0.046</td>\n",
       "      <td>4.070</td>\n",
       "      <td>0.420</td>\n",
       "      <td>0.297</td>\n",
       "      <td>1924.0</td>\n",
       "      <td>1924.0</td>\n",
       "      <td>2402.0</td>\n",
       "      <td>1764.0</td>\n",
       "      <td>1.0</td>\n",
       "    </tr>\n",
       "    <tr>\n",
       "      <th>sigma[5]</th>\n",
       "      <td>1.074</td>\n",
       "      <td>5.637</td>\n",
       "      <td>0.037</td>\n",
       "      <td>2.788</td>\n",
       "      <td>0.110</td>\n",
       "      <td>0.077</td>\n",
       "      <td>2647.0</td>\n",
       "      <td>2647.0</td>\n",
       "      <td>2013.0</td>\n",
       "      <td>1976.0</td>\n",
       "      <td>1.0</td>\n",
       "    </tr>\n",
       "    <tr>\n",
       "      <th>sigma[6]</th>\n",
       "      <td>1.709</td>\n",
       "      <td>11.362</td>\n",
       "      <td>0.039</td>\n",
       "      <td>3.737</td>\n",
       "      <td>0.199</td>\n",
       "      <td>0.140</td>\n",
       "      <td>3271.0</td>\n",
       "      <td>3271.0</td>\n",
       "      <td>2148.0</td>\n",
       "      <td>1975.0</td>\n",
       "      <td>1.0</td>\n",
       "    </tr>\n",
       "  </tbody>\n",
       "</table>\n",
       "</div>"
      ],
      "text/plain": [
       "               mean         sd  hdi_3%  hdi_97%  mcse_mean  mcse_sd  ess_mean  \\\n",
       "mu            9.858      0.247   9.477   10.205      0.009    0.006     784.0   \n",
       "lambda1[0]    0.001      0.001   0.000    0.003      0.000    0.000    6339.0   \n",
       "lambda1[1]    0.026      0.036   0.000    0.093      0.000    0.000    6696.0   \n",
       "lambda1[2]    0.557      4.187   0.000    1.438      0.091    0.064    2120.0   \n",
       "lambda1[3]   31.121     50.056   0.000  117.993      0.697    0.493    5164.0   \n",
       "lambda1[4]   14.675     27.824   0.000   55.723      0.399    0.282    4870.0   \n",
       "lambda1[5]   31.457     52.538   0.000  117.561      0.802    0.567    4290.0   \n",
       "lambda1[6]   24.221     44.482   0.000   94.786      0.635    0.449    4909.0   \n",
       "sigma[0]    755.741  16417.688  10.659  474.651    480.689  339.983    1167.0   \n",
       "sigma[1]     37.149    348.127   1.569   76.662      5.789    4.094    3616.0   \n",
       "sigma[2]     22.538    557.455   0.082   21.615      7.885    5.576    4998.0   \n",
       "sigma[3]      1.796     25.953   0.041    2.712      0.493    0.349    2770.0   \n",
       "sigma[4]      2.217     18.410   0.046    4.070      0.420    0.297    1924.0   \n",
       "sigma[5]      1.074      5.637   0.037    2.788      0.110    0.077    2647.0   \n",
       "sigma[6]      1.709     11.362   0.039    3.737      0.199    0.140    3271.0   \n",
       "\n",
       "            ess_sd  ess_bulk  ess_tail  r_hat  \n",
       "mu           784.0    2241.0    1179.0    1.0  \n",
       "lambda1[0]  6328.0    2721.0    1842.0    1.0  \n",
       "lambda1[1]  6194.0    3055.0    2006.0    1.0  \n",
       "lambda1[2]  2120.0    2084.0    1757.0    1.0  \n",
       "lambda1[3]  5164.0    2998.0    2740.0    1.0  \n",
       "lambda1[4]  4870.0    2402.0    1764.0    1.0  \n",
       "lambda1[5]  4290.0    2013.0    1976.0    1.0  \n",
       "lambda1[6]  4909.0    2148.0    1975.0    1.0  \n",
       "sigma[0]    1167.0    2721.0    1842.0    1.0  \n",
       "sigma[1]    3616.0    3055.0    2006.0    1.0  \n",
       "sigma[2]    4998.0    2084.0    1757.0    1.0  \n",
       "sigma[3]    2770.0    2998.0    2740.0    1.0  \n",
       "sigma[4]    1924.0    2402.0    1764.0    1.0  \n",
       "sigma[5]    2647.0    2013.0    1976.0    1.0  \n",
       "sigma[6]    3271.0    2148.0    1975.0    1.0  "
      ]
     },
     "execution_count": 5,
     "metadata": {},
     "output_type": "execute_result"
    }
   ],
   "source": [
    "az.summary(trace)"
   ]
  },
  {
   "cell_type": "code",
   "execution_count": 9,
   "metadata": {},
   "outputs": [
    {
     "data": {
      "text/plain": [
       "array([[<AxesSubplot:title={'center':'lambda1'}>,\n",
       "        <AxesSubplot:title={'center':'lambda1'}>]], dtype=object)"
      ]
     },
     "execution_count": 9,
     "metadata": {},
     "output_type": "execute_result"
    },
    {
     "data": {
      "image/png": "[encoded data removed]",
      "text/plain": [
       "<Figure size 864x144 with 2 Axes>"
      ]
     },
     "metadata": {
      "needs_background": "light"
     },
     "output_type": "display_data"
    }
   ],
   "source": [
    "az.plot_trace(trace, var_names=['lambda1'])"
   ]
  },
  {
   "cell_type": "markdown",
   "metadata": {},
   "source": [
    "# Repeated measurement of IQ"
   ]
  },
  {
   "cell_type": "markdown",
   "metadata": {},
   "source": [
    "In this example, we consider how to estimate the IQ of a set of people, each of whom\n",
    "have done multiple IQ tests. The data are the measures xij for the i = 1, . . . , n\n",
    "people and their j = 1, . . . , m repeated test scores.\n",
    "We assume that the differences in repeated test scores are distributed as Gaussian\n",
    "error terms with zero mean and unknown precision. The mean of the Gaussian of\n",
    "a person’s test scores corresponds to their latent true IQ. This will be different for\n",
    "each person. The standard deviation of the Gaussians corresponds to the accuracy\n",
    "of the testing instruments in measuring the one underlying IQ value. We assume\n",
    "this is the same for every person, since it is conceived as a property of the tests\n",
    "themselves.\n",
    "The graphical model for this problem is shown in the figure below. Because we know\n",
    "quite a bit about the IQ scale, it makes sense to set priors for the mean and standard\n",
    "deviation using this knowledge. Our first attempt to set priors (these are revisited in\n",
    "the exercises) simply assume the actual IQ values are equally likely to be anywhere\n",
    "between 0 and 300, and standard deviations are anywhere between 0 and 100."
   ]
  },
  {
   "cell_type": "markdown",
   "metadata": {},
   "source": [
    "![title](data/IQ.png)"
   ]
  },
  {
   "cell_type": "code",
   "execution_count": 10,
   "metadata": {},
   "outputs": [],
   "source": [
    "y = np.array([[90, 95, 100], [105, 110, 115], [150, 155, 160]])"
   ]
  },
  {
   "cell_type": "markdown",
   "metadata": {
    "id": "VF_AREBv2pRh"
   },
   "source": [
    "**Exercise 1** Use the posterior distribution for each person’s μi to estimate their IQ. What can we say about the precision of the IQ test?\n",
    "\n",
    "**Exercise 2** Now, use a more realistic prior assumption for the μi means. Theoretically, IQ distributions should have a mean of 100, and a standard deviation of 15. Make this change in the script, and re-run the inference. How do the estimates of IQ given by the means change? Why?\n",
    "\n",
    "**Exercise 3** Repeat both of the above stages (i.e., using both priors on $\\mu$)\n",
    "with a new, but closely related, data set that has scores of (94, 95, 96), (109,\n",
    "110, 111), and (154, 155, 156). How do the different prior assumptions affect\n",
    "IQ estimation for these data. Why does it not follow the same pattern as the\n",
    "previous data?"
   ]
  },
  {
   "cell_type": "markdown",
   "metadata": {},
   "source": [
    "## Solution"
   ]
  },
  {
   "cell_type": "markdown",
   "metadata": {},
   "source": [
    "The model:\n",
    "$$ \\mu_{i} \\sim \\text{Uniform}(0, 300)  $$\n",
    "$$ \\sigma \\sim \\text{Uniform} (0, 100)  $$\n",
    "$$ x_{ij} \\sim \\text{Gaussian} (\\mu_{i}, \\frac{1}{\\sigma^2})  $$\n",
    "\n",
    "Data Come From Gaussians With Different Means But Common Precision"
   ]
  },
  {
   "cell_type": "code",
   "execution_count": null,
   "metadata": {},
   "outputs": [
    {
     "name": "stderr",
     "output_type": "stream",
     "text": [
      "C:\\ProgramData\\Anaconda3\\lib\\site-packages\\pymc3\\sampling.py:469: FutureWarning: In an upcoming release, pm.sample will return an `arviz.InferenceData` object instead of a `MultiTrace` by default. You can pass return_inferencedata=True or return_inferencedata=False to be safe and silence this warning.\n",
      "  FutureWarning,\n",
      "Auto-assigning NUTS sampler...\n",
      "Initializing NUTS using adapt_diag...\n"
     ]
    }
   ],
   "source": [
    "# Data\n",
    "y = np.array([[90, 95, 100], [105, 110, 115], [150, 155, 160]])\n",
    "ntest = 3\n",
    "nsbj = 3\n",
    "\n",
    "with pm.Model() as model2:\n",
    "    # mu_i ~ Uniform(0, 300)\n",
    "    # notices the shape here need to be properly\n",
    "    # initualized to have the right repeated measure\n",
    "    mui = pm.Uniform(\"mui\", 0., 300., shape=(nsbj, 1))\n",
    "\n",
    "    # sg ~ Uniform(0, 100)\n",
    "    # sg = pm.Uniform('sg', .0, 100)\n",
    "\n",
    "    # It is more stable to use a Gamma prior\n",
    "    lambda1 = pm.Gamma(\"lambda1\", alpha=0.01, beta=0.01)\n",
    "    sg = pm.Deterministic(\"sg\", 1 / np.sqrt(lambda1))\n",
    "\n",
    "    # y ~ Normal(mu_i, sg)\n",
    "    yd = pm.Normal(\"y\", mu=mui, sd=sg, observed=y)\n",
    "\n",
    "    trace3 = pm.sample(init=\"adapt_diag\")\n",
    "\n",
    "idata3 = az.from_pymc3(trace3)\n",
    "az.summary(idata3)"
   ]
  },
  {
   "cell_type": "code",
   "execution_count": null,
   "metadata": {},
   "outputs": [],
   "source": []
  }
 ],
 "metadata": {
  "kernelspec": {
   "display_name": "Python 3",
   "language": "python",
   "name": "python3"
  },
  "language_info": {
   "codemirror_mode": {
    "name": "ipython",
    "version": 3
   },
   "file_extension": ".py",
   "mimetype": "text/x-python",
   "name": "python",
   "nbconvert_exporter": "python",
   "pygments_lexer": "ipython3",
   "version": "3.7.9"
  }
 },
 "nbformat": 4,
 "nbformat_minor": 4
}
