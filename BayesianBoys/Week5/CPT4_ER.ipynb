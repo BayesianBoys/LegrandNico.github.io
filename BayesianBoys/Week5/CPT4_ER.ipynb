{
 "metadata": {
  "language_info": {
   "codemirror_mode": {
    "name": "ipython",
    "version": 3
   },
   "file_extension": ".py",
   "mimetype": "text/x-python",
   "name": "python",
   "nbconvert_exporter": "python",
   "pygments_lexer": "ipython3",
   "version": "3.8.5-final"
  },
  "orig_nbformat": 2,
  "kernelspec": {
   "name": "python3",
   "display_name": "Python 3.8.5 64-bit ('CM': conda)",
   "metadata": {
    "interpreter": {
     "hash": "5698216558bfa99e9d0f38da36571f7d9dccffc67e29b4443301a5ed3d75bbb7"
    }
   }
  }
 },
 "nbformat": 4,
 "nbformat_minor": 2,
 "cells": [
  {
   "cell_type": "code",
   "execution_count": 1,
   "metadata": {},
   "outputs": [],
   "source": [
    "import numpy as np \n",
    "from scipy import stats\n",
    "import pymc3 as pm\n",
    "import arviz as az\n",
    "import theano\n",
    "import matplotlib.pyplot as plt\n",
    "import pandas as pd\n",
    "import seaborn as sns\n",
    "az.style.use(\"arviz-darkgrid\")\n",
    "import warnings\n",
    "warnings.simplefilter(action='ignore', category=FutureWarning)"
   ]
  },
  {
   "source": [
    "# Exercises"
   ],
   "cell_type": "markdown",
   "metadata": {}
  },
  {
   "source": [
    "## 1:\n",
    "Rerun the first model using the petal length and then petal width variables. What\n",
    "are the main differences in the results? How wide or narrow is the 95% HPD\n",
    "interval in each case?"
   ],
   "cell_type": "markdown",
   "metadata": {}
  },
  {
   "cell_type": "code",
   "execution_count": 3,
   "metadata": {},
   "outputs": [
    {
     "output_type": "execute_result",
     "data": {
      "text/plain": [
       "   sepal_length  sepal_width  petal_length  petal_width species\n",
       "0           5.1          3.5           1.4          0.2  setosa\n",
       "1           4.9          3.0           1.4          0.2  setosa\n",
       "2           4.7          3.2           1.3          0.2  setosa\n",
       "3           4.6          3.1           1.5          0.2  setosa\n",
       "4           5.0          3.6           1.4          0.2  setosa"
      ],
      "text/html": "<div>\n<style scoped>\n    .dataframe tbody tr th:only-of-type {\n        vertical-align: middle;\n    }\n\n    .dataframe tbody tr th {\n        vertical-align: top;\n    }\n\n    .dataframe thead th {\n        text-align: right;\n    }\n</style>\n<table border=\"1\" class=\"dataframe\">\n  <thead>\n    <tr style=\"text-align: right;\">\n      <th></th>\n      <th>sepal_length</th>\n      <th>sepal_width</th>\n      <th>petal_length</th>\n      <th>petal_width</th>\n      <th>species</th>\n    </tr>\n  </thead>\n  <tbody>\n    <tr>\n      <th>0</th>\n      <td>5.1</td>\n      <td>3.5</td>\n      <td>1.4</td>\n      <td>0.2</td>\n      <td>setosa</td>\n    </tr>\n    <tr>\n      <th>1</th>\n      <td>4.9</td>\n      <td>3.0</td>\n      <td>1.4</td>\n      <td>0.2</td>\n      <td>setosa</td>\n    </tr>\n    <tr>\n      <th>2</th>\n      <td>4.7</td>\n      <td>3.2</td>\n      <td>1.3</td>\n      <td>0.2</td>\n      <td>setosa</td>\n    </tr>\n    <tr>\n      <th>3</th>\n      <td>4.6</td>\n      <td>3.1</td>\n      <td>1.5</td>\n      <td>0.2</td>\n      <td>setosa</td>\n    </tr>\n    <tr>\n      <th>4</th>\n      <td>5.0</td>\n      <td>3.6</td>\n      <td>1.4</td>\n      <td>0.2</td>\n      <td>setosa</td>\n    </tr>\n  </tbody>\n</table>\n</div>"
     },
     "metadata": {},
     "execution_count": 3
    }
   ],
   "source": [
    "# Load data\n",
    "iris = pd.read_csv('../data/iris.csv')\n",
    "iris.head()"
   ]
  },
  {
   "cell_type": "code",
   "execution_count": 4,
   "metadata": {},
   "outputs": [],
   "source": [
    "#wrangle time\n",
    "df = iris.query(\"species == ('setosa', 'versicolor')\")\n",
    "y_0 = pd.Categorical(df['species']).codes\n",
    "x_n = 'petal_length'\n",
    "x_0 = df[x_n].values\n",
    "x_c = x_0 - x_0.mean()"
   ]
  },
  {
   "cell_type": "code",
   "execution_count": 5,
   "metadata": {},
   "outputs": [
    {
     "output_type": "stream",
     "name": "stderr",
     "text": [
      "Auto-assigning NUTS sampler...\n",
      "Initializing NUTS using jitter+adapt_diag...\n",
      "Multiprocess sampling (4 chains in 4 jobs)\n",
      "NUTS: [β, α]\n"
     ]
    },
    {
     "output_type": "display_data",
     "data": {
      "text/plain": "<IPython.core.display.HTML object>",
      "text/html": "\n    <div>\n        <style>\n            /* Turns off some styling */\n            progress {\n                /* gets rid of default border in Firefox and Opera. */\n                border: none;\n                /* Needs to be in here for Safari polyfill so background images work as expected. */\n                background-size: auto;\n            }\n            .progress-bar-interrupted, .progress-bar-interrupted::-webkit-progress-bar {\n                background: #F44336;\n            }\n        </style>\n      <progress value='0' class='' max='8000' style='width:300px; height:20px; vertical-align: middle;'></progress>\n      \n    </div>\n    "
     },
     "metadata": {}
    },
    {
     "output_type": "stream",
     "name": "stderr",
     "text": [
      "Sampling 4 chains for 1_000 tune and 1_000 draw iterations (4_000 + 4_000 draws total) took 21 seconds.\n",
      "There were 165 divergences after tuning. Increase `target_accept` or reparameterize.\n",
      "There were 99 divergences after tuning. Increase `target_accept` or reparameterize.\n",
      "There were 107 divergences after tuning. Increase `target_accept` or reparameterize.\n",
      "There were 129 divergences after tuning. Increase `target_accept` or reparameterize.\n",
      "The number of effective samples is smaller than 25% for some parameters.\n"
     ]
    }
   ],
   "source": [
    "#petal length\n",
    "with pm.Model() as model_1:\n",
    "    α = pm.Normal('α', mu=0, sd=10)\n",
    "    β = pm.Normal('β', mu=0, sd=10)\n",
    "    μ = α + pm.math.dot(x_c, β)\n",
    "    θ = pm.Deterministic('θ', pm.math.sigmoid(μ))\n",
    "    bd = pm.Deterministic('bd', -α/β)\n",
    "    yl = pm.Bernoulli('yl', p=θ, observed=y_0)\n",
    "    trace_1 = pm.sample(1000)"
   ]
  },
  {
   "cell_type": "code",
   "execution_count": 6,
   "metadata": {},
   "outputs": [
    {
     "output_type": "stream",
     "name": "stderr",
     "text": [
      "Auto-assigning NUTS sampler...\n",
      "Initializing NUTS using jitter+adapt_diag...\n",
      "Multiprocess sampling (4 chains in 4 jobs)\n",
      "NUTS: [β, α]\n"
     ]
    },
    {
     "output_type": "display_data",
     "data": {
      "text/plain": "<IPython.core.display.HTML object>",
      "text/html": "\n    <div>\n        <style>\n            /* Turns off some styling */\n            progress {\n                /* gets rid of default border in Firefox and Opera. */\n                border: none;\n                /* Needs to be in here for Safari polyfill so background images work as expected. */\n                background-size: auto;\n            }\n            .progress-bar-interrupted, .progress-bar-interrupted::-webkit-progress-bar {\n                background: #F44336;\n            }\n        </style>\n      <progress value='0' class='' max='8000' style='width:300px; height:20px; vertical-align: middle;'></progress>\n      \n    </div>\n    "
     },
     "metadata": {}
    },
    {
     "output_type": "stream",
     "name": "stderr",
     "text": [
      "Sampling 4 chains for 1_000 tune and 1_000 draw iterations (4_000 + 4_000 draws total) took 18 seconds.\n",
      "There were 9 divergences after tuning. Increase `target_accept` or reparameterize.\n",
      "There were 2 divergences after tuning. Increase `target_accept` or reparameterize.\n",
      "There were 2 divergences after tuning. Increase `target_accept` or reparameterize.\n",
      "There was 1 divergence after tuning. Increase `target_accept` or reparameterize.\n"
     ]
    }
   ],
   "source": [
    "#petal width\n",
    "x_n = 'petal_width'\n",
    "x_0 = df[x_n].values\n",
    "x_c = x_0 - x_0.mean()\n",
    "\n",
    "with pm.Model() as model_2:\n",
    "    α = pm.Normal('α', mu=0, sd=10)\n",
    "    β = pm.Normal('β', mu=0, sd=10)\n",
    "    μ = α + pm.math.dot(x_c, β)\n",
    "    θ = pm.Deterministic('θ', pm.math.sigmoid(μ))\n",
    "    bd = pm.Deterministic('bd', -α/β)\n",
    "    yl = pm.Bernoulli('yl', p=θ, observed=y_0)\n",
    "    trace_2 = pm.sample(1000)"
   ]
  },
  {
   "cell_type": "code",
   "execution_count": 7,
   "metadata": {},
   "outputs": [
    {
     "output_type": "execute_result",
     "data": {
      "text/plain": [
       "         mean     sd  hdi_3%  hdi_97%  mcse_mean  mcse_sd  ess_mean  ess_sd  \\\n",
       "α       3.723  4.306  -3.389   12.295      0.157    0.116     753.0   695.0   \n",
       "β      13.854  5.701   4.640   24.110      0.196    0.139     845.0   845.0   \n",
       "θ[0]    0.000  0.001   0.000    0.001      0.000    0.000    1188.0   992.0   \n",
       "θ[1]    0.000  0.001   0.000    0.001      0.000    0.000    1188.0   992.0   \n",
       "θ[2]    0.000  0.001   0.000    0.001      0.000    0.000    1146.0   987.0   \n",
       "...       ...    ...     ...      ...        ...      ...       ...     ...   \n",
       "θ[96]   1.000  0.000   1.000    1.000      0.000    0.000    1862.0  1861.0   \n",
       "θ[97]   1.000  0.000   1.000    1.000      0.000    0.000    1952.0  1951.0   \n",
       "θ[98]   0.904  0.179   0.531    1.000      0.004    0.003    2051.0  1980.0   \n",
       "θ[99]   1.000  0.001   1.000    1.000      0.000    0.000    1777.0  1775.0   \n",
       "bd     -0.280  0.287  -0.827    0.188      0.009    0.007     956.0   894.0   \n",
       "\n",
       "       ess_bulk  ess_tail  r_hat  \n",
       "α         860.0     907.0    1.0  \n",
       "β         859.0    1053.0    1.0  \n",
       "θ[0]     1004.0    1272.0    1.0  \n",
       "θ[1]     1004.0    1272.0    1.0  \n",
       "θ[2]      990.0    1255.0    1.0  \n",
       "...         ...       ...    ...  \n",
       "θ[96]     863.0    1227.0    1.0  \n",
       "θ[97]     869.0    1217.0    1.0  \n",
       "θ[98]     882.0     903.0    1.0  \n",
       "θ[99]     861.0    1277.0    1.0  \n",
       "bd       1022.0    1490.0    1.0  \n",
       "\n",
       "[103 rows x 11 columns]"
      ],
      "text/html": "<div>\n<style scoped>\n    .dataframe tbody tr th:only-of-type {\n        vertical-align: middle;\n    }\n\n    .dataframe tbody tr th {\n        vertical-align: top;\n    }\n\n    .dataframe thead th {\n        text-align: right;\n    }\n</style>\n<table border=\"1\" class=\"dataframe\">\n  <thead>\n    <tr style=\"text-align: right;\">\n      <th></th>\n      <th>mean</th>\n      <th>sd</th>\n      <th>hdi_3%</th>\n      <th>hdi_97%</th>\n      <th>mcse_mean</th>\n      <th>mcse_sd</th>\n      <th>ess_mean</th>\n      <th>ess_sd</th>\n      <th>ess_bulk</th>\n      <th>ess_tail</th>\n      <th>r_hat</th>\n    </tr>\n  </thead>\n  <tbody>\n    <tr>\n      <th>α</th>\n      <td>3.723</td>\n      <td>4.306</td>\n      <td>-3.389</td>\n      <td>12.295</td>\n      <td>0.157</td>\n      <td>0.116</td>\n      <td>753.0</td>\n      <td>695.0</td>\n      <td>860.0</td>\n      <td>907.0</td>\n      <td>1.0</td>\n    </tr>\n    <tr>\n      <th>β</th>\n      <td>13.854</td>\n      <td>5.701</td>\n      <td>4.640</td>\n      <td>24.110</td>\n      <td>0.196</td>\n      <td>0.139</td>\n      <td>845.0</td>\n      <td>845.0</td>\n      <td>859.0</td>\n      <td>1053.0</td>\n      <td>1.0</td>\n    </tr>\n    <tr>\n      <th>θ[0]</th>\n      <td>0.000</td>\n      <td>0.001</td>\n      <td>0.000</td>\n      <td>0.001</td>\n      <td>0.000</td>\n      <td>0.000</td>\n      <td>1188.0</td>\n      <td>992.0</td>\n      <td>1004.0</td>\n      <td>1272.0</td>\n      <td>1.0</td>\n    </tr>\n    <tr>\n      <th>θ[1]</th>\n      <td>0.000</td>\n      <td>0.001</td>\n      <td>0.000</td>\n      <td>0.001</td>\n      <td>0.000</td>\n      <td>0.000</td>\n      <td>1188.0</td>\n      <td>992.0</td>\n      <td>1004.0</td>\n      <td>1272.0</td>\n      <td>1.0</td>\n    </tr>\n    <tr>\n      <th>θ[2]</th>\n      <td>0.000</td>\n      <td>0.001</td>\n      <td>0.000</td>\n      <td>0.001</td>\n      <td>0.000</td>\n      <td>0.000</td>\n      <td>1146.0</td>\n      <td>987.0</td>\n      <td>990.0</td>\n      <td>1255.0</td>\n      <td>1.0</td>\n    </tr>\n    <tr>\n      <th>...</th>\n      <td>...</td>\n      <td>...</td>\n      <td>...</td>\n      <td>...</td>\n      <td>...</td>\n      <td>...</td>\n      <td>...</td>\n      <td>...</td>\n      <td>...</td>\n      <td>...</td>\n      <td>...</td>\n    </tr>\n    <tr>\n      <th>θ[96]</th>\n      <td>1.000</td>\n      <td>0.000</td>\n      <td>1.000</td>\n      <td>1.000</td>\n      <td>0.000</td>\n      <td>0.000</td>\n      <td>1862.0</td>\n      <td>1861.0</td>\n      <td>863.0</td>\n      <td>1227.0</td>\n      <td>1.0</td>\n    </tr>\n    <tr>\n      <th>θ[97]</th>\n      <td>1.000</td>\n      <td>0.000</td>\n      <td>1.000</td>\n      <td>1.000</td>\n      <td>0.000</td>\n      <td>0.000</td>\n      <td>1952.0</td>\n      <td>1951.0</td>\n      <td>869.0</td>\n      <td>1217.0</td>\n      <td>1.0</td>\n    </tr>\n    <tr>\n      <th>θ[98]</th>\n      <td>0.904</td>\n      <td>0.179</td>\n      <td>0.531</td>\n      <td>1.000</td>\n      <td>0.004</td>\n      <td>0.003</td>\n      <td>2051.0</td>\n      <td>1980.0</td>\n      <td>882.0</td>\n      <td>903.0</td>\n      <td>1.0</td>\n    </tr>\n    <tr>\n      <th>θ[99]</th>\n      <td>1.000</td>\n      <td>0.001</td>\n      <td>1.000</td>\n      <td>1.000</td>\n      <td>0.000</td>\n      <td>0.000</td>\n      <td>1777.0</td>\n      <td>1775.0</td>\n      <td>861.0</td>\n      <td>1277.0</td>\n      <td>1.0</td>\n    </tr>\n    <tr>\n      <th>bd</th>\n      <td>-0.280</td>\n      <td>0.287</td>\n      <td>-0.827</td>\n      <td>0.188</td>\n      <td>0.009</td>\n      <td>0.007</td>\n      <td>956.0</td>\n      <td>894.0</td>\n      <td>1022.0</td>\n      <td>1490.0</td>\n      <td>1.0</td>\n    </tr>\n  </tbody>\n</table>\n<p>103 rows × 11 columns</p>\n</div>"
     },
     "metadata": {},
     "execution_count": 7
    }
   ],
   "source": [
    "az.summary(trace_1)"
   ]
  },
  {
   "cell_type": "code",
   "execution_count": 9,
   "metadata": {},
   "outputs": [
    {
     "output_type": "execute_result",
     "data": {
      "text/plain": [
       "         mean     sd  hdi_3%  hdi_97%  mcse_mean  mcse_sd  ess_mean  ess_sd  \\\n",
       "α       0.617  1.774  -2.734    4.033      0.052    0.038    1170.0  1074.0   \n",
       "β      17.898  5.384   8.855   27.993      0.159    0.115    1140.0  1092.0   \n",
       "θ[0]    0.001  0.003   0.000    0.005      0.000    0.000    1308.0   813.0   \n",
       "θ[1]    0.001  0.003   0.000    0.005      0.000    0.000    1308.0   813.0   \n",
       "θ[2]    0.001  0.003   0.000    0.005      0.000    0.000    1308.0   813.0   \n",
       "...       ...    ...     ...      ...        ...      ...       ...     ...   \n",
       "θ[96]   0.999  0.003   0.996    1.000      0.000    0.000    1474.0  1474.0   \n",
       "θ[97]   0.999  0.003   0.996    1.000      0.000    0.000    1474.0  1474.0   \n",
       "θ[98]   0.989  0.019   0.958    1.000      0.000    0.000    2092.0  2092.0   \n",
       "θ[99]   0.999  0.003   0.996    1.000      0.000    0.000    1474.0  1474.0   \n",
       "bd     -0.037  0.093  -0.207    0.124      0.002    0.002    1481.0  1481.0   \n",
       "\n",
       "       ess_bulk  ess_tail  r_hat  \n",
       "α        1180.0    1454.0   1.01  \n",
       "β        1219.0    1546.0   1.00  \n",
       "θ[0]     1348.0    1101.0   1.00  \n",
       "θ[1]     1348.0    1101.0   1.00  \n",
       "θ[2]     1348.0    1101.0   1.00  \n",
       "...         ...       ...    ...  \n",
       "θ[96]    1286.0    1646.0   1.00  \n",
       "θ[97]    1286.0    1646.0   1.00  \n",
       "θ[98]    1391.0    1424.0   1.01  \n",
       "θ[99]    1286.0    1646.0   1.00  \n",
       "bd       1499.0    2088.0   1.00  \n",
       "\n",
       "[103 rows x 11 columns]"
      ],
      "text/html": "<div>\n<style scoped>\n    .dataframe tbody tr th:only-of-type {\n        vertical-align: middle;\n    }\n\n    .dataframe tbody tr th {\n        vertical-align: top;\n    }\n\n    .dataframe thead th {\n        text-align: right;\n    }\n</style>\n<table border=\"1\" class=\"dataframe\">\n  <thead>\n    <tr style=\"text-align: right;\">\n      <th></th>\n      <th>mean</th>\n      <th>sd</th>\n      <th>hdi_3%</th>\n      <th>hdi_97%</th>\n      <th>mcse_mean</th>\n      <th>mcse_sd</th>\n      <th>ess_mean</th>\n      <th>ess_sd</th>\n      <th>ess_bulk</th>\n      <th>ess_tail</th>\n      <th>r_hat</th>\n    </tr>\n  </thead>\n  <tbody>\n    <tr>\n      <th>α</th>\n      <td>0.617</td>\n      <td>1.774</td>\n      <td>-2.734</td>\n      <td>4.033</td>\n      <td>0.052</td>\n      <td>0.038</td>\n      <td>1170.0</td>\n      <td>1074.0</td>\n      <td>1180.0</td>\n      <td>1454.0</td>\n      <td>1.01</td>\n    </tr>\n    <tr>\n      <th>β</th>\n      <td>17.898</td>\n      <td>5.384</td>\n      <td>8.855</td>\n      <td>27.993</td>\n      <td>0.159</td>\n      <td>0.115</td>\n      <td>1140.0</td>\n      <td>1092.0</td>\n      <td>1219.0</td>\n      <td>1546.0</td>\n      <td>1.00</td>\n    </tr>\n    <tr>\n      <th>θ[0]</th>\n      <td>0.001</td>\n      <td>0.003</td>\n      <td>0.000</td>\n      <td>0.005</td>\n      <td>0.000</td>\n      <td>0.000</td>\n      <td>1308.0</td>\n      <td>813.0</td>\n      <td>1348.0</td>\n      <td>1101.0</td>\n      <td>1.00</td>\n    </tr>\n    <tr>\n      <th>θ[1]</th>\n      <td>0.001</td>\n      <td>0.003</td>\n      <td>0.000</td>\n      <td>0.005</td>\n      <td>0.000</td>\n      <td>0.000</td>\n      <td>1308.0</td>\n      <td>813.0</td>\n      <td>1348.0</td>\n      <td>1101.0</td>\n      <td>1.00</td>\n    </tr>\n    <tr>\n      <th>θ[2]</th>\n      <td>0.001</td>\n      <td>0.003</td>\n      <td>0.000</td>\n      <td>0.005</td>\n      <td>0.000</td>\n      <td>0.000</td>\n      <td>1308.0</td>\n      <td>813.0</td>\n      <td>1348.0</td>\n      <td>1101.0</td>\n      <td>1.00</td>\n    </tr>\n    <tr>\n      <th>...</th>\n      <td>...</td>\n      <td>...</td>\n      <td>...</td>\n      <td>...</td>\n      <td>...</td>\n      <td>...</td>\n      <td>...</td>\n      <td>...</td>\n      <td>...</td>\n      <td>...</td>\n      <td>...</td>\n    </tr>\n    <tr>\n      <th>θ[96]</th>\n      <td>0.999</td>\n      <td>0.003</td>\n      <td>0.996</td>\n      <td>1.000</td>\n      <td>0.000</td>\n      <td>0.000</td>\n      <td>1474.0</td>\n      <td>1474.0</td>\n      <td>1286.0</td>\n      <td>1646.0</td>\n      <td>1.00</td>\n    </tr>\n    <tr>\n      <th>θ[97]</th>\n      <td>0.999</td>\n      <td>0.003</td>\n      <td>0.996</td>\n      <td>1.000</td>\n      <td>0.000</td>\n      <td>0.000</td>\n      <td>1474.0</td>\n      <td>1474.0</td>\n      <td>1286.0</td>\n      <td>1646.0</td>\n      <td>1.00</td>\n    </tr>\n    <tr>\n      <th>θ[98]</th>\n      <td>0.989</td>\n      <td>0.019</td>\n      <td>0.958</td>\n      <td>1.000</td>\n      <td>0.000</td>\n      <td>0.000</td>\n      <td>2092.0</td>\n      <td>2092.0</td>\n      <td>1391.0</td>\n      <td>1424.0</td>\n      <td>1.01</td>\n    </tr>\n    <tr>\n      <th>θ[99]</th>\n      <td>0.999</td>\n      <td>0.003</td>\n      <td>0.996</td>\n      <td>1.000</td>\n      <td>0.000</td>\n      <td>0.000</td>\n      <td>1474.0</td>\n      <td>1474.0</td>\n      <td>1286.0</td>\n      <td>1646.0</td>\n      <td>1.00</td>\n    </tr>\n    <tr>\n      <th>bd</th>\n      <td>-0.037</td>\n      <td>0.093</td>\n      <td>-0.207</td>\n      <td>0.124</td>\n      <td>0.002</td>\n      <td>0.002</td>\n      <td>1481.0</td>\n      <td>1481.0</td>\n      <td>1499.0</td>\n      <td>2088.0</td>\n      <td>1.00</td>\n    </tr>\n  </tbody>\n</table>\n<p>103 rows × 11 columns</p>\n</div>"
     },
     "metadata": {},
     "execution_count": 9
    }
   ],
   "source": [
    "az.summary(trace_2)"
   ]
  },
  {
   "cell_type": "code",
   "execution_count": null,
   "metadata": {},
   "outputs": [],
   "source": [
    "## Exercise 2\n"
   ]
  }
 ]
}