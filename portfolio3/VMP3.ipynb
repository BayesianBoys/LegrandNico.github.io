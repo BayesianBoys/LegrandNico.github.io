{
 "cells": [
  {
   "cell_type": "code",
   "execution_count": 376,
   "metadata": {},
   "outputs": [],
   "source": [
    "import pandas as pd\n",
    "import pymc3 as pm\n",
    "import numpy as np\n",
    "import theano\n",
    "import theano.tensor as tt"
   ]
  },
  {
   "cell_type": "code",
   "execution_count": 377,
   "metadata": {},
   "outputs": [],
   "source": [
    "data = pd.read_csv(\"HerrmannThoeniGaechterDATA.csv\", skiprows=3)"
   ]
  },
  {
   "cell_type": "code",
   "execution_count": 378,
   "metadata": {},
   "outputs": [
    {
     "data": {
      "text/plain": [
       "65880"
      ]
     },
     "execution_count": 378,
     "metadata": {},
     "output_type": "execute_result"
    }
   ],
   "source": [
    "len(data)"
   ]
  },
  {
   "cell_type": "code",
   "execution_count": 379,
   "metadata": {},
   "outputs": [
    {
     "data": {
      "text/html": [
       "<div>\n",
       "<style scoped>\n",
       "    .dataframe tbody tr th:only-of-type {\n",
       "        vertical-align: middle;\n",
       "    }\n",
       "\n",
       "    .dataframe tbody tr th {\n",
       "        vertical-align: top;\n",
       "    }\n",
       "\n",
       "    .dataframe thead th {\n",
       "        text-align: right;\n",
       "    }\n",
       "</style>\n",
       "<table border=\"1\" class=\"dataframe\">\n",
       "  <thead>\n",
       "    <tr style=\"text-align: right;\">\n",
       "      <th></th>\n",
       "      <th>sessionid</th>\n",
       "      <th>groupid</th>\n",
       "      <th>mgroupid</th>\n",
       "      <th>subjectid</th>\n",
       "      <th>p</th>\n",
       "      <th>secseq</th>\n",
       "      <th>city</th>\n",
       "      <th>period</th>\n",
       "      <th>senderscontribution</th>\n",
       "      <th>otherscontribution</th>\n",
       "      <th>...</th>\n",
       "      <th>civic</th>\n",
       "      <th>ruleoflaw</th>\n",
       "      <th>female</th>\n",
       "      <th>age</th>\n",
       "      <th>numknown</th>\n",
       "      <th>singlechild</th>\n",
       "      <th>ageu21</th>\n",
       "      <th>urbanbackground</th>\n",
       "      <th>middleclass</th>\n",
       "      <th>membership</th>\n",
       "    </tr>\n",
       "  </thead>\n",
       "  <tbody>\n",
       "    <tr>\n",
       "      <th>0</th>\n",
       "      <td>011108KA</td>\n",
       "      <td>703</td>\n",
       "      <td>703</td>\n",
       "      <td>701</td>\n",
       "      <td>N-experiment</td>\n",
       "      <td>0</td>\n",
       "      <td>Samara</td>\n",
       "      <td>1</td>\n",
       "      <td>20</td>\n",
       "      <td>18</td>\n",
       "      <td>...</td>\n",
       "      <td>8.050114</td>\n",
       "      <td>-0.884283</td>\n",
       "      <td>1</td>\n",
       "      <td>22.0</td>\n",
       "      <td>16.0</td>\n",
       "      <td>0.0</td>\n",
       "      <td>0</td>\n",
       "      <td>1.0</td>\n",
       "      <td>0.0</td>\n",
       "      <td>0.0</td>\n",
       "    </tr>\n",
       "    <tr>\n",
       "      <th>1</th>\n",
       "      <td>011108KA</td>\n",
       "      <td>703</td>\n",
       "      <td>703</td>\n",
       "      <td>701</td>\n",
       "      <td>N-experiment</td>\n",
       "      <td>0</td>\n",
       "      <td>Samara</td>\n",
       "      <td>1</td>\n",
       "      <td>20</td>\n",
       "      <td>10</td>\n",
       "      <td>...</td>\n",
       "      <td>8.050114</td>\n",
       "      <td>-0.884283</td>\n",
       "      <td>1</td>\n",
       "      <td>22.0</td>\n",
       "      <td>16.0</td>\n",
       "      <td>0.0</td>\n",
       "      <td>0</td>\n",
       "      <td>1.0</td>\n",
       "      <td>0.0</td>\n",
       "      <td>0.0</td>\n",
       "    </tr>\n",
       "    <tr>\n",
       "      <th>2</th>\n",
       "      <td>011108KA</td>\n",
       "      <td>703</td>\n",
       "      <td>703</td>\n",
       "      <td>701</td>\n",
       "      <td>N-experiment</td>\n",
       "      <td>0</td>\n",
       "      <td>Samara</td>\n",
       "      <td>1</td>\n",
       "      <td>20</td>\n",
       "      <td>10</td>\n",
       "      <td>...</td>\n",
       "      <td>8.050114</td>\n",
       "      <td>-0.884283</td>\n",
       "      <td>1</td>\n",
       "      <td>22.0</td>\n",
       "      <td>16.0</td>\n",
       "      <td>0.0</td>\n",
       "      <td>0</td>\n",
       "      <td>1.0</td>\n",
       "      <td>0.0</td>\n",
       "      <td>0.0</td>\n",
       "    </tr>\n",
       "    <tr>\n",
       "      <th>3</th>\n",
       "      <td>011108KA</td>\n",
       "      <td>702</td>\n",
       "      <td>702</td>\n",
       "      <td>702</td>\n",
       "      <td>N-experiment</td>\n",
       "      <td>0</td>\n",
       "      <td>Samara</td>\n",
       "      <td>1</td>\n",
       "      <td>10</td>\n",
       "      <td>10</td>\n",
       "      <td>...</td>\n",
       "      <td>8.050114</td>\n",
       "      <td>-0.884283</td>\n",
       "      <td>1</td>\n",
       "      <td>21.0</td>\n",
       "      <td>10.0</td>\n",
       "      <td>0.0</td>\n",
       "      <td>0</td>\n",
       "      <td>1.0</td>\n",
       "      <td>1.0</td>\n",
       "      <td>1.0</td>\n",
       "    </tr>\n",
       "    <tr>\n",
       "      <th>4</th>\n",
       "      <td>011108KA</td>\n",
       "      <td>702</td>\n",
       "      <td>702</td>\n",
       "      <td>702</td>\n",
       "      <td>N-experiment</td>\n",
       "      <td>0</td>\n",
       "      <td>Samara</td>\n",
       "      <td>1</td>\n",
       "      <td>10</td>\n",
       "      <td>20</td>\n",
       "      <td>...</td>\n",
       "      <td>8.050114</td>\n",
       "      <td>-0.884283</td>\n",
       "      <td>1</td>\n",
       "      <td>21.0</td>\n",
       "      <td>10.0</td>\n",
       "      <td>0.0</td>\n",
       "      <td>0</td>\n",
       "      <td>1.0</td>\n",
       "      <td>1.0</td>\n",
       "      <td>1.0</td>\n",
       "    </tr>\n",
       "  </tbody>\n",
       "</table>\n",
       "<p>5 rows × 22 columns</p>\n",
       "</div>"
      ],
      "text/plain": [
       "  sessionid  groupid  mgroupid  subjectid             p  secseq    city  \\\n",
       "0  011108KA      703       703        701  N-experiment       0  Samara   \n",
       "1  011108KA      703       703        701  N-experiment       0  Samara   \n",
       "2  011108KA      703       703        701  N-experiment       0  Samara   \n",
       "3  011108KA      702       702        702  N-experiment       0  Samara   \n",
       "4  011108KA      702       702        702  N-experiment       0  Samara   \n",
       "\n",
       "   period  senderscontribution  otherscontribution  ...     civic  ruleoflaw  \\\n",
       "0       1                   20                  18  ...  8.050114  -0.884283   \n",
       "1       1                   20                  10  ...  8.050114  -0.884283   \n",
       "2       1                   20                  10  ...  8.050114  -0.884283   \n",
       "3       1                   10                  10  ...  8.050114  -0.884283   \n",
       "4       1                   10                  20  ...  8.050114  -0.884283   \n",
       "\n",
       "   female   age  numknown  singlechild  ageu21  urbanbackground  middleclass  \\\n",
       "0       1  22.0      16.0          0.0       0              1.0          0.0   \n",
       "1       1  22.0      16.0          0.0       0              1.0          0.0   \n",
       "2       1  22.0      16.0          0.0       0              1.0          0.0   \n",
       "3       1  21.0      10.0          0.0       0              1.0          1.0   \n",
       "4       1  21.0      10.0          0.0       0              1.0          1.0   \n",
       "\n",
       "   membership  \n",
       "0         0.0  \n",
       "1         0.0  \n",
       "2         0.0  \n",
       "3         1.0  \n",
       "4         1.0  \n",
       "\n",
       "[5 rows x 22 columns]"
      ]
     },
     "execution_count": 379,
     "metadata": {},
     "output_type": "execute_result"
    }
   ],
   "source": [
    "data.head()"
   ]
  },
  {
   "cell_type": "code",
   "execution_count": 380,
   "metadata": {},
   "outputs": [],
   "source": [
    "## constants\n",
    "groupSize = 4\n",
    "ntrials = 10\n",
    "pi = 1.4\n",
    "ntokens = 20\n",
    "vals = list(range(21)) #possible values to contribute - from 0 to 20 tokens"
   ]
  },
  {
   "cell_type": "markdown",
   "metadata": {},
   "source": [
    "## Prelim checks"
   ]
  },
  {
   "cell_type": "code",
   "execution_count": 381,
   "metadata": {},
   "outputs": [
    {
     "data": {
      "text/plain": [
       "1120"
      ]
     },
     "execution_count": 381,
     "metadata": {},
     "output_type": "execute_result"
    }
   ],
   "source": [
    "len(set(data[\"subjectid\"])) #should be 1120"
   ]
  },
  {
   "cell_type": "code",
   "execution_count": 382,
   "metadata": {},
   "outputs": [
    {
     "data": {
      "text/plain": [
       "280"
      ]
     },
     "execution_count": 382,
     "metadata": {},
     "output_type": "execute_result"
    }
   ],
   "source": [
    "len(set(data[\"groupid\"]))"
   ]
  },
  {
   "cell_type": "code",
   "execution_count": 383,
   "metadata": {},
   "outputs": [
    {
     "data": {
      "text/plain": [
       "sessionid               object\n",
       "groupid                  int64\n",
       "mgroupid                 int64\n",
       "subjectid                int64\n",
       "p                       object\n",
       "secseq                   int64\n",
       "city                    object\n",
       "period                   int64\n",
       "senderscontribution      int64\n",
       "otherscontribution       int64\n",
       "punishment             float64\n",
       "recpun                 float64\n",
       "civic                  float64\n",
       "ruleoflaw              float64\n",
       "female                   int64\n",
       "age                    float64\n",
       "numknown               float64\n",
       "singlechild            float64\n",
       "ageu21                   int64\n",
       "urbanbackground        float64\n",
       "middleclass            float64\n",
       "membership             float64\n",
       "dtype: object"
      ]
     },
     "execution_count": 383,
     "metadata": {},
     "output_type": "execute_result"
    }
   ],
   "source": [
    "data.dtypes"
   ]
  },
  {
   "cell_type": "code",
   "execution_count": 384,
   "metadata": {},
   "outputs": [],
   "source": [
    "def get_gini(city):\n",
    "    if city == \"Melbourne\":\n",
    "        return 34.3\n",
    "    if city == \"Minsk\":\n",
    "        return 25.3\n",
    "    if city == \"Chengdu\":\n",
    "        return 38.5\n",
    "    if city == \"Copenhagen\":\n",
    "        return 28.7\n",
    "    if city == \"Bonn\":\n",
    "        return 31.9\n",
    "    if city == \"Athens\":\n",
    "        return 34.4\n",
    "    if city == \"Seoul\":\n",
    "        return 31.6\n",
    "    if city == \"Samara\":\n",
    "        return 37.5\n",
    "    if city == \"Zurich\":\n",
    "        return 32.7\n",
    "    if city == \"St. Gallen\":\n",
    "        return 32.7\n",
    "    if city == \"Istanbul\":\n",
    "        return 41.9\n",
    "    if city == \"Nottingham\":\n",
    "        return 34.8\n",
    "    if city == \"Dnipropetrovs'k\":\n",
    "        return 26.1\n",
    "    if city == \"Boston\":\n",
    "        return 41.1\n",
    "    \n",
    "data[\"gini\"] = data[\"city\"].apply(lambda x: get_gini(x))"
   ]
  },
  {
   "cell_type": "code",
   "execution_count": 9,
   "metadata": {},
   "outputs": [],
   "source": [
    "#data = data[data[\"gini\"].isna() == False]\n",
    "#data = data.dropna()"
   ]
  },
  {
   "cell_type": "code",
   "execution_count": 385,
   "metadata": {},
   "outputs": [
    {
     "data": {
      "text/plain": [
       "65880"
      ]
     },
     "execution_count": 385,
     "metadata": {},
     "output_type": "execute_result"
    }
   ],
   "source": [
    "len(data)"
   ]
  },
  {
   "cell_type": "code",
   "execution_count": 386,
   "metadata": {},
   "outputs": [],
   "source": [
    "redDat = data.iloc[::3, :] #get only every third row, the others are other responses that we don't need"
   ]
  },
  {
   "cell_type": "code",
   "execution_count": 387,
   "metadata": {},
   "outputs": [],
   "source": [
    "redDat.reset_index(inplace = True, drop = True)"
   ]
  },
  {
   "cell_type": "code",
   "execution_count": 388,
   "metadata": {},
   "outputs": [],
   "source": [
    "group_names = set(redDat[\"groupid\"])\n",
    "group_names = sorted(list(group_names))\n",
    "ngroups = len(group_names)\n",
    "\n",
    "### DOES SOMETHING FUCKED HERE\n",
    "\n",
    "subject_names = set(redDat[\"subjectid\"])\n",
    "nsubjects = len(subject_names)\n",
    "ngroups = 269"
   ]
  },
  {
   "cell_type": "code",
   "execution_count": 389,
   "metadata": {},
   "outputs": [],
   "source": [
    "## No punish initialized\n",
    "c_no_punish = np.zeros(shape = (groupSize, ntrials, ngroups))\n",
    "Ga_no_punish = np.zeros(shape = (ntrials, ngroups))\n",
    "Gc_no_punish = np.zeros(shape = (groupSize, ntrials, ngroups))\n",
    "\n",
    "#punished initialized\n",
    "c_punish = np.zeros(shape = (groupSize, ntrials, ngroups))\n",
    "Ga_punish = np.zeros(shape = (ntrials, ngroups))\n",
    "Gc_punish = np.zeros(shape = (groupSize, ntrials, ngroups))\n",
    "\n",
    "#missing vector\n",
    "missing = np.zeros(shape = (ngroups))"
   ]
  },
  {
   "cell_type": "code",
   "execution_count": 390,
   "metadata": {},
   "outputs": [],
   "source": [
    "for g in range(ngroups):\n",
    "    ### fancy way of fixing missing data - they will just become 0, \n",
    "    # and their position is then logged in \"missing\"-vector\n",
    "    try: \n",
    "        #no punish\n",
    "        c_no_punish[:,:,g][0] = redDat[(redDat[\"groupid\"] == group_names[g]) & (redDat[\"p\"] == \"N-experiment\")][\"senderscontribution\"][0:10].values\n",
    "        c_no_punish[:,:,g][1] = redDat[(redDat[\"groupid\"] == group_names[g]) & (redDat[\"p\"] == \"N-experiment\")][\"senderscontribution\"][10:20].values\n",
    "        c_no_punish[:,:,g][2] = redDat[(redDat[\"groupid\"] == group_names[g]) & (redDat[\"p\"] == \"N-experiment\")][\"senderscontribution\"][20:30].values\n",
    "        c_no_punish[:,:,g][3] = redDat[(redDat[\"groupid\"] == group_names[g]) & (redDat[\"p\"] == \"N-experiment\")][\"senderscontribution\"][30:40].values\n",
    "        \n",
    "        #punish\n",
    "        c_punish[:,:,g][0] = redDat[(redDat[\"groupid\"] == group_names[g]) & (redDat[\"p\"] == \"P-experiment\")][\"senderscontribution\"][0:10].values\n",
    "        c_punish[:,:,g][1] = redDat[(redDat[\"groupid\"] == group_names[g]) & (redDat[\"p\"] == \"P-experiment\")][\"senderscontribution\"][10:20].values\n",
    "        c_punish[:,:,g][2] = redDat[(redDat[\"groupid\"] == group_names[g]) & (redDat[\"p\"] == \"P-experiment\")][\"senderscontribution\"][20:30].values\n",
    "        c_punish[:,:,g][3] = redDat[(redDat[\"groupid\"] == group_names[g]) & (redDat[\"p\"] == \"P-experiment\")][\"senderscontribution\"][30:40].values\n",
    "    \n",
    "    except: #could be more general... \n",
    "        missing[g] = 1\n",
    "    \n",
    "    #make \"Ga\"\n",
    "    \n",
    "    Ga_no_punish[:,g] = c_no_punish[:,:,g].mean(axis=0)\n",
    "    Ga_punish[:,g] = c_punish[:,:,g].mean(axis=0)\n",
    "    \n",
    "    #make \"Gc\"\n",
    "    for s in range(groupSize):\n",
    "        Gc_no_punish[:,:,g][s] = np.delete(c_no_punish[:,:,g], s, 0).sum(axis=0) #just gives a single number though...\n",
    "        Gc_punish[:,:,g][s] = np.delete(c_punish[:,:,g], s, 0).sum(axis=0)"
   ]
  },
  {
   "cell_type": "markdown",
   "metadata": {},
   "source": [
    "### Concat the different conditions"
   ]
  },
  {
   "cell_type": "code",
   "execution_count": 391,
   "metadata": {},
   "outputs": [],
   "source": [
    "c = np.zeros(shape = (groupSize, ntrials, ngroups, 2))\n",
    "Ga = np.zeros(shape = (ntrials, ngroups, 2))"
   ]
  },
  {
   "cell_type": "code",
   "execution_count": 392,
   "metadata": {},
   "outputs": [
    {
     "data": {
      "text/plain": [
       "(4, 10, 269, 2)"
      ]
     },
     "execution_count": 392,
     "metadata": {},
     "output_type": "execute_result"
    }
   ],
   "source": [
    "c.shape"
   ]
  },
  {
   "cell_type": "code",
   "execution_count": 393,
   "metadata": {},
   "outputs": [],
   "source": [
    "c[:,:,:,0] = c_no_punish\n",
    "c[:,:,:,1] = c_punish\n",
    "\n",
    "Ga[:,:,0] = Ga_no_punish\n",
    "Ga[:,:,1] = Ga_punish"
   ]
  },
  {
   "cell_type": "markdown",
   "metadata": {},
   "source": [
    "### Gini Coefficient"
   ]
  },
  {
   "cell_type": "code",
   "execution_count": 394,
   "metadata": {},
   "outputs": [],
   "source": [
    "Gini = np.zeros(shape = ngroups)\n",
    "for g in range(ngroups):\n",
    "    Gini[g] = redDat[(redDat[\"groupid\"] == group_names[g]) & (redDat[\"p\"] == \"P-experiment\")][\"gini\"].values.mean()"
   ]
  },
  {
   "cell_type": "code",
   "execution_count": 395,
   "metadata": {},
   "outputs": [],
   "source": [
    "mask = np.isnan(Gini) == False"
   ]
  },
  {
   "cell_type": "code",
   "execution_count": 396,
   "metadata": {},
   "outputs": [],
   "source": [
    "Ga_punish = Ga_punish[:,mask]\n",
    "Ga_no_punish = Ga_no_punish[:,mask]\n",
    "\n",
    "c = c[:,:,mask,:]\n",
    "Ga = Ga[:,mask,:]\n",
    "#Gc = Gc[:,:,mask,:]\n",
    "Gini = Gini[mask]\n",
    "\n",
    "#get new ngroups\n",
    "ngroups = len(Gini)"
   ]
  },
  {
   "cell_type": "markdown",
   "metadata": {},
   "source": [
    "### Prelim check\n",
    "\n",
    "First we need to add all contributions in a group and multiply them by 1.4 and calculate the Pearson correlation between Gini coefficients and the earnings.\n"
   ]
  },
  {
   "cell_type": "markdown",
   "metadata": {},
   "source": [
    "### Heat map\n",
    "\n",
    "Lower Quartile (Gini < 31.6)\n",
    "Upper Quartile (Gini > 37.5)"
   ]
  },
  {
   "cell_type": "markdown",
   "metadata": {},
   "source": [
    "## Decay model\n",
    "\n",
    "$$c_{g,s,t}^\\mu = c^0_{g,s} \\cdot e^{-\\gamma_{s,g} \\cdot t}$$\n",
    "\n",
    "$$c^0_{g,s} = \\beta^c_0 + \\beta^c_{Gini} \\cdot Gini_g$$\n",
    "\n",
    "$$\\gamma_{s,g} = \\beta^\\gamma_0 + \\beta^\\gamma_{Gini} \\cdot Gini_g$$"
   ]
  },
  {
   "cell_type": "code",
   "execution_count": 397,
   "metadata": {},
   "outputs": [],
   "source": [
    "y = c[:,:,:,0]"
   ]
  },
  {
   "cell_type": "code",
   "execution_count": 398,
   "metadata": {},
   "outputs": [],
   "source": [
    "idx_g = np.arange(ngroups)\n",
    "idx_s = np.array([0,1,2,3])\n",
    "t = np.arange(ntrials)"
   ]
  },
  {
   "cell_type": "code",
   "execution_count": 399,
   "metadata": {},
   "outputs": [],
   "source": [
    "t_stack = np.stack((t,t,t,t))\n",
    "t_stack = t_stack.T\n"
   ]
  },
  {
   "cell_type": "code",
   "execution_count": 400,
   "metadata": {},
   "outputs": [],
   "source": [
    "Gini_stack = np.stack((Gini, Gini, Gini, Gini))\n",
    "Gini_stack = Gini_stack.T"
   ]
  },
  {
   "cell_type": "code",
   "execution_count": 401,
   "metadata": {},
   "outputs": [
    {
     "data": {
      "text/plain": [
       "(4, 10, 244)"
      ]
     },
     "execution_count": 401,
     "metadata": {},
     "output_type": "execute_result"
    }
   ],
   "source": [
    "y.shape"
   ]
  },
  {
   "cell_type": "code",
   "execution_count": 402,
   "metadata": {},
   "outputs": [
    {
     "data": {
      "text/plain": [
       "(244, 4)"
      ]
     },
     "execution_count": 402,
     "metadata": {},
     "output_type": "execute_result"
    }
   ],
   "source": [
    "Gini_stack.shape"
   ]
  },
  {
   "cell_type": "code",
   "execution_count": 403,
   "metadata": {},
   "outputs": [],
   "source": [
    "idx_s = idx_s[:, None]\n",
    "#idx_g = idx_g[:,None]"
   ]
  },
  {
   "cell_type": "code",
   "execution_count": 404,
   "metadata": {},
   "outputs": [],
   "source": [
    "idx_s;"
   ]
  },
  {
   "cell_type": "code",
   "execution_count": 405,
   "metadata": {},
   "outputs": [],
   "source": [
    "idx_g;"
   ]
  },
  {
   "cell_type": "code",
   "execution_count": 406,
   "metadata": {},
   "outputs": [],
   "source": [
    "Gini_stack[idx_g, idx_s];"
   ]
  },
  {
   "cell_type": "code",
   "execution_count": 407,
   "metadata": {
    "scrolled": true
   },
   "outputs": [],
   "source": [
    "Gini_stack;"
   ]
  },
  {
   "cell_type": "code",
   "execution_count": 408,
   "metadata": {},
   "outputs": [
    {
     "data": {
      "text/plain": [
       "(4, 244)"
      ]
     },
     "execution_count": 408,
     "metadata": {},
     "output_type": "execute_result"
    }
   ],
   "source": [
    "Gini_stack.T.shape"
   ]
  },
  {
   "cell_type": "code",
   "execution_count": 409,
   "metadata": {},
   "outputs": [],
   "source": [
    "import math"
   ]
  },
  {
   "cell_type": "code",
   "execution_count": 410,
   "metadata": {},
   "outputs": [],
   "source": [
    "arr1 = np.array([[1, 2], [1, 2], [1, 2]]).T\n",
    "arr2 = np.array([[1, 2], [3, 4], [5, 6]]).T\n",
    "t_vector = np.array([1, 2, 3, 4])"
   ]
  },
  {
   "cell_type": "code",
   "execution_count": 411,
   "metadata": {},
   "outputs": [],
   "source": [
    "arr3 = []\n",
    "for scalar in t_vector: \n",
    "    arr3.append(arr1 * np.exp((-arr2 * scalar)))\n",
    "arr3 = np.array(arr3)"
   ]
  },
  {
   "cell_type": "code",
   "execution_count": 412,
   "metadata": {},
   "outputs": [],
   "source": [
    "reshaped = np.reshape(arr3, (2, 4, 3))"
   ]
  },
  {
   "cell_type": "code",
   "execution_count": 413,
   "metadata": {},
   "outputs": [
    {
     "data": {
      "text/plain": [
       "(10, 1)"
      ]
     },
     "execution_count": 413,
     "metadata": {},
     "output_type": "execute_result"
    }
   ],
   "source": [
    "t_test = t[:, None]\n",
    "t_test.shape"
   ]
  },
  {
   "cell_type": "code",
   "execution_count": 414,
   "metadata": {},
   "outputs": [
    {
     "data": {
      "text/plain": [
       "(2, 3)"
      ]
     },
     "execution_count": 414,
     "metadata": {},
     "output_type": "execute_result"
    }
   ],
   "source": [
    "arr1 = np.array([[1, 2, 3], [1, 2, 3]])\n",
    "arr1.shape"
   ]
  },
  {
   "cell_type": "code",
   "execution_count": 415,
   "metadata": {},
   "outputs": [],
   "source": [
    "t_stacky = t_stack[:, :, None]"
   ]
  },
  {
   "cell_type": "code",
   "execution_count": 416,
   "metadata": {},
   "outputs": [
    {
     "data": {
      "text/plain": [
       "(4, 244)"
      ]
     },
     "execution_count": 416,
     "metadata": {},
     "output_type": "execute_result"
    }
   ],
   "source": [
    "Gini_stack.T.shape"
   ]
  },
  {
   "cell_type": "code",
   "execution_count": 417,
   "metadata": {},
   "outputs": [],
   "source": [
    "test2 = Gini_stack[idx_g, idx_s] * t_stacky"
   ]
  },
  {
   "cell_type": "code",
   "execution_count": 370,
   "metadata": {},
   "outputs": [],
   "source": [
    "gini47 = Gini[47]"
   ]
  },
  {
   "cell_type": "code",
   "execution_count": 371,
   "metadata": {},
   "outputs": [
    {
     "data": {
      "text/plain": [
       "array([[37.5],\n",
       "       [37.5],\n",
       "       [37.5],\n",
       "       [37.5]])"
      ]
     },
     "execution_count": 371,
     "metadata": {},
     "output_type": "execute_result"
    }
   ],
   "source": [
    "Gini_stack[idx_g[47], idx_s]"
   ]
  },
  {
   "cell_type": "code",
   "execution_count": 250,
   "metadata": {},
   "outputs": [],
   "source": [
    "y = np.reshape(y, (10, 4, 244));"
   ]
  },
  {
   "cell_type": "code",
   "execution_count": 358,
   "metadata": {},
   "outputs": [],
   "source": [
    "Gini_stack[idx_g, idx_s];"
   ]
  },
  {
   "cell_type": "code",
   "execution_count": 375,
   "metadata": {},
   "outputs": [
    {
     "name": "stdout",
     "output_type": "stream",
     "text": [
      "Gini_stack = (244, 4)\n",
      "idx_g = (244,)\n",
      "idx_s = (4, 1)\n",
      "t_stacky = (10, 4, 1)\n"
     ]
    }
   ],
   "source": [
    "print(f\"Gini_stack = {Gini_stack.shape}\")\n",
    "print(f\"idx_g = {idx_g.shape}\")\n",
    "print(f\"idx_s = {idx_s.shape}\")\n",
    "print(f\"t_stacky = {t_stacky.shape}\")\n"
   ]
  },
  {
   "cell_type": "code",
   "execution_count": 299,
   "metadata": {
    "scrolled": true
   },
   "outputs": [],
   "source": [
    "with pm.Model() as m:\n",
    "    ## priors\n",
    "    beta0_c0 = pm.HalfNormal(\"beta0_c0\", sigma = 1)\n",
    "    betaGini_c0 = pm.Normal(\"betaGini_c0\", 0, 1)\n",
    "    \n",
    "    beta0_gamma = pm.HalfNormal(\"beta0_gamma\", sigma = 1)\n",
    "    betaGini_gamma = pm.Normal(\"betaGini_gamma\", 0, 1)\n",
    "    \n",
    "    ## group_level\n",
    "    sigma_c = pm.Gamma(\"sigma_c\", 1, 1)#, shape = (1, len(idx_s), len(idx_g)))\n",
    "    \n",
    "    c_0 = pm.Deterministic(\"c_0\", beta0_c0 + betaGini_c0 * Gini_stack[idx_g, idx_s])\n",
    "    \n",
    "    gamma = pm.Deterministic(\"gamma\", beta0_gamma + betaGini_gamma * Gini_stack[idx_g, idx_s])\n",
    "    \n",
    "    ## mu. \n",
    "    mu_c = c_0 * pm.math.exp(-gamma * t_stacky)\n",
    "\n",
    "    ## likelihood\n",
    "    y_pred = pm.Normal(\"y_pred\", mu = mu_c, sigma = sigma_c, observed = y)\n",
    "    \n",
    "    "
   ]
  },
  {
   "cell_type": "code",
   "execution_count": 301,
   "metadata": {
    "scrolled": true
   },
   "outputs": [
    {
     "name": "stderr",
     "output_type": "stream",
     "text": [
      "Auto-assigning NUTS sampler...\n",
      "Initializing NUTS using jitter+adapt_diag...\n",
      "Sequential sampling (1 chains in 1 job)\n",
      "NUTS: [sigma_c, betaGini_gamma, beta0_gamma, betaGini_c0, beta0_c0]\n"
     ]
    },
    {
     "data": {
      "text/html": [
       "\n",
       "    <div>\n",
       "        <style>\n",
       "            /* Turns off some styling */\n",
       "            progress {\n",
       "                /* gets rid of default border in Firefox and Opera. */\n",
       "                border: none;\n",
       "                /* Needs to be in here for Safari polyfill so background images work as expected. */\n",
       "                background-size: auto;\n",
       "            }\n",
       "            .progress-bar-interrupted, .progress-bar-interrupted::-webkit-progress-bar {\n",
       "                background: #F44336;\n",
       "            }\n",
       "        </style>\n",
       "      <progress value='2000' class='' max='2000' style='width:300px; height:20px; vertical-align: middle;'></progress>\n",
       "      100.00% [2000/2000 00:42<00:00 Sampling chain 0, 0 divergences]\n",
       "    </div>\n",
       "    "
      ],
      "text/plain": [
       "<IPython.core.display.HTML object>"
      ]
     },
     "metadata": {},
     "output_type": "display_data"
    },
    {
     "name": "stderr",
     "output_type": "stream",
     "text": [
      "Sampling 1 chain for 1_000 tune and 1_000 draw iterations (1_000 + 1_000 draws total) took 43 seconds.\n",
      "Only one chain was sampled, this makes it impossible to run some convergence checks\n"
     ]
    }
   ],
   "source": [
    "with m: \n",
    "    m_idata = pm.sample(chains = 1, # breaks with 2 chains.\n",
    "                       return_inferencedata = True) "
   ]
  },
  {
   "cell_type": "code",
   "execution_count": 302,
   "metadata": {},
   "outputs": [],
   "source": [
    "import arviz as az"
   ]
  },
  {
   "cell_type": "code",
   "execution_count": 303,
   "metadata": {
    "scrolled": true
   },
   "outputs": [
    {
     "data": {
      "text/plain": [
       "array([[<AxesSubplot:title={'center':'betaGini_c0'}>,\n",
       "        <AxesSubplot:title={'center':'betaGini_c0'}>],\n",
       "       [<AxesSubplot:title={'center':'betaGini_gamma'}>,\n",
       "        <AxesSubplot:title={'center':'betaGini_gamma'}>],\n",
       "       [<AxesSubplot:title={'center':'beta0_c0'}>,\n",
       "        <AxesSubplot:title={'center':'beta0_c0'}>],\n",
       "       [<AxesSubplot:title={'center':'beta0_gamma'}>,\n",
       "        <AxesSubplot:title={'center':'beta0_gamma'}>],\n",
       "       [<AxesSubplot:title={'center':'sigma_c'}>,\n",
       "        <AxesSubplot:title={'center':'sigma_c'}>]], dtype=object)"
      ]
     },
     "execution_count": 303,
     "metadata": {},
     "output_type": "execute_result"
    },
    {
     "data": {
      "image/png": "[encoded data removed]",
      "text/plain": [
       "<Figure size 864x720 with 10 Axes>"
      ]
     },
     "metadata": {
      "needs_background": "light"
     },
     "output_type": "display_data"
    }
   ],
   "source": [
    "az.plot_trace(m_idata, var_names = [\"betaGini_c0\",\n",
    "                                   \"betaGini_gamma\",\n",
    "                                   \"beta0_c0\",\n",
    "                                   \"beta0_gamma\",\n",
    "                                   \"sigma_c\"])"
   ]
  },
  {
   "cell_type": "code",
   "execution_count": 304,
   "metadata": {},
   "outputs": [
    {
     "data": {
      "image/svg+xml": [
       "<?xml version=\"1.0\" encoding=\"UTF-8\" standalone=\"no\"?>\n",
       "<!DOCTYPE svg PUBLIC \"-//W3C//DTD SVG 1.1//EN\"\n",
       " \"http://www.w3.org/Graphics/SVG/1.1/DTD/svg11.dtd\">\n",
       "<!-- Generated by graphviz version 2.47.1 (20210418.0311)\n",
       " -->\n",
       "<!-- Pages: 1 -->\n",
       "<svg width=\"713pt\" height=\"344pt\"\n",
       " viewBox=\"0.00 0.00 712.98 343.88\" xmlns=\"http://www.w3.org/2000/svg\" xmlns:xlink=\"http://www.w3.org/1999/xlink\">\n",
       "<g id=\"graph0\" class=\"graph\" transform=\"scale(1 1) rotate(0) translate(4 339.88)\">\n",
       "<polygon fill=\"white\" stroke=\"transparent\" points=\"-4,4 -4,-339.88 708.98,-339.88 708.98,4 -4,4\"/>\n",
       "<g id=\"clust1\" class=\"cluster\">\n",
       "<title>cluster4 x 244</title>\n",
       "<path fill=\"none\" stroke=\"black\" d=\"M206.42,-129.95C206.42,-129.95 440.42,-129.95 440.42,-129.95 446.42,-129.95 452.42,-135.95 452.42,-141.95 452.42,-141.95 452.42,-209.95 452.42,-209.95 452.42,-215.95 446.42,-221.95 440.42,-221.95 440.42,-221.95 206.42,-221.95 206.42,-221.95 200.42,-221.95 194.42,-215.95 194.42,-209.95 194.42,-209.95 194.42,-141.95 194.42,-141.95 194.42,-135.95 200.42,-129.95 206.42,-129.95\"/>\n",
       "<text text-anchor=\"middle\" x=\"417.42\" y=\"-137.75\" font-family=\"Times-Roman\" font-size=\"14.00\">4 x 244</text>\n",
       "</g>\n",
       "<g id=\"clust2\" class=\"cluster\">\n",
       "<title>cluster10 x 4 x 244</title>\n",
       "<path fill=\"none\" stroke=\"black\" d=\"M343.42,-8C343.42,-8 433.42,-8 433.42,-8 439.42,-8 445.42,-14 445.42,-20 445.42,-20 445.42,-109.95 445.42,-109.95 445.42,-115.95 439.42,-121.95 433.42,-121.95 433.42,-121.95 343.42,-121.95 343.42,-121.95 337.42,-121.95 331.42,-115.95 331.42,-109.95 331.42,-109.95 331.42,-20 331.42,-20 331.42,-14 337.42,-8 343.42,-8\"/>\n",
       "<text text-anchor=\"middle\" x=\"392.92\" y=\"-15.8\" font-family=\"Times-Roman\" font-size=\"14.00\">10 x 4 x 244</text>\n",
       "</g>\n",
       "<!-- betaGini_c0 -->\n",
       "<g id=\"node1\" class=\"node\">\n",
       "<title>betaGini_c0</title>\n",
       "<ellipse fill=\"none\" stroke=\"black\" cx=\"71.42\" cy=\"-298.41\" rx=\"71.34\" ry=\"37.45\"/>\n",
       "<text text-anchor=\"middle\" x=\"71.42\" y=\"-309.71\" font-family=\"Times-Roman\" font-size=\"14.00\">betaGini_c0</text>\n",
       "<text text-anchor=\"middle\" x=\"71.42\" y=\"-294.71\" font-family=\"Times-Roman\" font-size=\"14.00\">~</text>\n",
       "<text text-anchor=\"middle\" x=\"71.42\" y=\"-279.71\" font-family=\"Times-Roman\" font-size=\"14.00\">Normal</text>\n",
       "</g>\n",
       "<!-- c_0 -->\n",
       "<g id=\"node6\" class=\"node\">\n",
       "<title>c_0</title>\n",
       "<polygon fill=\"none\" stroke=\"black\" points=\"314.42,-213.95 202.42,-213.95 202.42,-160.95 314.42,-160.95 314.42,-213.95\"/>\n",
       "<text text-anchor=\"middle\" x=\"258.42\" y=\"-198.75\" font-family=\"Times-Roman\" font-size=\"14.00\">c_0</text>\n",
       "<text text-anchor=\"middle\" x=\"258.42\" y=\"-183.75\" font-family=\"Times-Roman\" font-size=\"14.00\">~</text>\n",
       "<text text-anchor=\"middle\" x=\"258.42\" y=\"-168.75\" font-family=\"Times-Roman\" font-size=\"14.00\">Deterministic</text>\n",
       "</g>\n",
       "<!-- betaGini_c0&#45;&gt;c_0 -->\n",
       "<g id=\"edge2\" class=\"edge\">\n",
       "<title>betaGini_c0&#45;&gt;c_0</title>\n",
       "<path fill=\"none\" stroke=\"black\" d=\"M118.61,-269.91C145.16,-254.44 178.39,-235.08 205.78,-219.12\"/>\n",
       "<polygon fill=\"black\" stroke=\"black\" points=\"207.58,-222.13 214.46,-214.07 204.05,-216.08 207.58,-222.13\"/>\n",
       "</g>\n",
       "<!-- beta0_c0 -->\n",
       "<g id=\"node2\" class=\"node\">\n",
       "<title>beta0_c0</title>\n",
       "<ellipse fill=\"none\" stroke=\"black\" cx=\"230.42\" cy=\"-298.41\" rx=\"69.09\" ry=\"37.45\"/>\n",
       "<text text-anchor=\"middle\" x=\"230.42\" y=\"-309.71\" font-family=\"Times-Roman\" font-size=\"14.00\">beta0_c0</text>\n",
       "<text text-anchor=\"middle\" x=\"230.42\" y=\"-294.71\" font-family=\"Times-Roman\" font-size=\"14.00\">~</text>\n",
       "<text text-anchor=\"middle\" x=\"230.42\" y=\"-279.71\" font-family=\"Times-Roman\" font-size=\"14.00\">HalfNormal</text>\n",
       "</g>\n",
       "<!-- beta0_c0&#45;&gt;c_0 -->\n",
       "<g id=\"edge1\" class=\"edge\">\n",
       "<title>beta0_c0&#45;&gt;c_0</title>\n",
       "<path fill=\"none\" stroke=\"black\" d=\"M239.74,-261.13C242.79,-249.25 246.18,-236.08 249.22,-224.24\"/>\n",
       "<polygon fill=\"black\" stroke=\"black\" points=\"252.69,-224.8 251.79,-214.25 245.91,-223.06 252.69,-224.8\"/>\n",
       "</g>\n",
       "<!-- sigma_c -->\n",
       "<g id=\"node3\" class=\"node\">\n",
       "<title>sigma_c</title>\n",
       "<ellipse fill=\"none\" stroke=\"black\" cx=\"515.42\" cy=\"-187.45\" rx=\"53.07\" ry=\"37.45\"/>\n",
       "<text text-anchor=\"middle\" x=\"515.42\" y=\"-198.75\" font-family=\"Times-Roman\" font-size=\"14.00\">sigma_c</text>\n",
       "<text text-anchor=\"middle\" x=\"515.42\" y=\"-183.75\" font-family=\"Times-Roman\" font-size=\"14.00\">~</text>\n",
       "<text text-anchor=\"middle\" x=\"515.42\" y=\"-168.75\" font-family=\"Times-Roman\" font-size=\"14.00\">Gamma</text>\n",
       "</g>\n",
       "<!-- y_pred -->\n",
       "<g id=\"node8\" class=\"node\">\n",
       "<title>y_pred</title>\n",
       "<ellipse fill=\"lightgrey\" stroke=\"black\" cx=\"388.42\" cy=\"-76.48\" rx=\"48.58\" ry=\"37.45\"/>\n",
       "<text text-anchor=\"middle\" x=\"388.42\" y=\"-87.78\" font-family=\"Times-Roman\" font-size=\"14.00\">y_pred</text>\n",
       "<text text-anchor=\"middle\" x=\"388.42\" y=\"-72.78\" font-family=\"Times-Roman\" font-size=\"14.00\">~</text>\n",
       "<text text-anchor=\"middle\" x=\"388.42\" y=\"-57.78\" font-family=\"Times-Roman\" font-size=\"14.00\">Normal</text>\n",
       "</g>\n",
       "<!-- sigma_c&#45;&gt;y_pred -->\n",
       "<g id=\"edge6\" class=\"edge\">\n",
       "<title>sigma_c&#45;&gt;y_pred</title>\n",
       "<path fill=\"none\" stroke=\"black\" d=\"M485.37,-156.49C476.26,-147.73 466.09,-138.28 456.42,-129.95 448.45,-123.1 439.72,-116.04 431.24,-109.41\"/>\n",
       "<polygon fill=\"black\" stroke=\"black\" points=\"433.28,-106.56 423.23,-103.21 428.99,-112.1 433.28,-106.56\"/>\n",
       "</g>\n",
       "<!-- betaGini_gamma -->\n",
       "<g id=\"node4\" class=\"node\">\n",
       "<title>betaGini_gamma</title>\n",
       "<ellipse fill=\"none\" stroke=\"black\" cx=\"416.42\" cy=\"-298.41\" rx=\"98.99\" ry=\"37.45\"/>\n",
       "<text text-anchor=\"middle\" x=\"416.42\" y=\"-309.71\" font-family=\"Times-Roman\" font-size=\"14.00\">betaGini_gamma</text>\n",
       "<text text-anchor=\"middle\" x=\"416.42\" y=\"-294.71\" font-family=\"Times-Roman\" font-size=\"14.00\">~</text>\n",
       "<text text-anchor=\"middle\" x=\"416.42\" y=\"-279.71\" font-family=\"Times-Roman\" font-size=\"14.00\">Normal</text>\n",
       "</g>\n",
       "<!-- gamma -->\n",
       "<g id=\"node7\" class=\"node\">\n",
       "<title>gamma</title>\n",
       "<polygon fill=\"none\" stroke=\"black\" points=\"444.42,-213.95 332.42,-213.95 332.42,-160.95 444.42,-160.95 444.42,-213.95\"/>\n",
       "<text text-anchor=\"middle\" x=\"388.42\" y=\"-198.75\" font-family=\"Times-Roman\" font-size=\"14.00\">gamma</text>\n",
       "<text text-anchor=\"middle\" x=\"388.42\" y=\"-183.75\" font-family=\"Times-Roman\" font-size=\"14.00\">~</text>\n",
       "<text text-anchor=\"middle\" x=\"388.42\" y=\"-168.75\" font-family=\"Times-Roman\" font-size=\"14.00\">Deterministic</text>\n",
       "</g>\n",
       "<!-- betaGini_gamma&#45;&gt;gamma -->\n",
       "<g id=\"edge4\" class=\"edge\">\n",
       "<title>betaGini_gamma&#45;&gt;gamma</title>\n",
       "<path fill=\"none\" stroke=\"black\" d=\"M407.02,-260.82C403.97,-248.97 400.59,-235.84 397.57,-224.05\"/>\n",
       "<polygon fill=\"black\" stroke=\"black\" points=\"400.89,-222.92 395.01,-214.11 394.11,-224.66 400.89,-222.92\"/>\n",
       "</g>\n",
       "<!-- beta0_gamma -->\n",
       "<g id=\"node5\" class=\"node\">\n",
       "<title>beta0_gamma</title>\n",
       "<ellipse fill=\"none\" stroke=\"black\" cx=\"619.42\" cy=\"-298.41\" rx=\"85.62\" ry=\"37.45\"/>\n",
       "<text text-anchor=\"middle\" x=\"619.42\" y=\"-309.71\" font-family=\"Times-Roman\" font-size=\"14.00\">beta0_gamma</text>\n",
       "<text text-anchor=\"middle\" x=\"619.42\" y=\"-294.71\" font-family=\"Times-Roman\" font-size=\"14.00\">~</text>\n",
       "<text text-anchor=\"middle\" x=\"619.42\" y=\"-279.71\" font-family=\"Times-Roman\" font-size=\"14.00\">HalfNormal</text>\n",
       "</g>\n",
       "<!-- beta0_gamma&#45;&gt;gamma -->\n",
       "<g id=\"edge3\" class=\"edge\">\n",
       "<title>beta0_gamma&#45;&gt;gamma</title>\n",
       "<path fill=\"none\" stroke=\"black\" d=\"M557.65,-272.17C526.11,-258.85 487.35,-241.8 453.42,-224.93 449.47,-222.96 445.41,-220.88 441.36,-218.73\"/>\n",
       "<polygon fill=\"black\" stroke=\"black\" points=\"442.97,-215.62 432.51,-213.97 439.66,-221.79 442.97,-215.62\"/>\n",
       "</g>\n",
       "<!-- c_0&#45;&gt;y_pred -->\n",
       "<g id=\"edge5\" class=\"edge\">\n",
       "<title>c_0&#45;&gt;y_pred</title>\n",
       "<path fill=\"none\" stroke=\"black\" d=\"M287.34,-160.91C298.54,-151.14 311.5,-139.94 323.42,-129.95 331.09,-123.53 339.35,-116.75 347.32,-110.28\"/>\n",
       "<polygon fill=\"black\" stroke=\"black\" points=\"349.59,-112.95 355.16,-103.94 345.18,-107.51 349.59,-112.95\"/>\n",
       "</g>\n",
       "<!-- gamma&#45;&gt;y_pred -->\n",
       "<g id=\"edge7\" class=\"edge\">\n",
       "<title>gamma&#45;&gt;y_pred</title>\n",
       "<path fill=\"none\" stroke=\"black\" d=\"M388.42,-160.9C388.42,-149.99 388.42,-136.9 388.42,-124.36\"/>\n",
       "<polygon fill=\"black\" stroke=\"black\" points=\"391.92,-124.01 388.42,-114.01 384.92,-124.01 391.92,-124.01\"/>\n",
       "</g>\n",
       "</g>\n",
       "</svg>\n"
      ],
      "text/plain": [
       "<graphviz.dot.Digraph at 0x7ff052161d30>"
      ]
     },
     "execution_count": 304,
     "metadata": {},
     "output_type": "execute_result"
    }
   ],
   "source": [
    "pm.model_to_graphviz(m)"
   ]
  },
  {
   "cell_type": "code",
   "execution_count": 306,
   "metadata": {},
   "outputs": [
    {
     "data": {
      "text/html": [
       "\n",
       "    <div>\n",
       "        <style>\n",
       "            /* Turns off some styling */\n",
       "            progress {\n",
       "                /* gets rid of default border in Firefox and Opera. */\n",
       "                border: none;\n",
       "                /* Needs to be in here for Safari polyfill so background images work as expected. */\n",
       "                background-size: auto;\n",
       "            }\n",
       "            .progress-bar-interrupted, .progress-bar-interrupted::-webkit-progress-bar {\n",
       "                background: #F44336;\n",
       "            }\n",
       "        </style>\n",
       "      <progress value='1000' class='' max='1000' style='width:300px; height:20px; vertical-align: middle;'></progress>\n",
       "      100.00% [1000/1000 00:09<00:00]\n",
       "    </div>\n",
       "    "
      ],
      "text/plain": [
       "<IPython.core.display.HTML object>"
      ]
     },
     "metadata": {},
     "output_type": "display_data"
    }
   ],
   "source": [
    "with m: \n",
    "    m_post = pm.sample_posterior_predictive(m_idata)"
   ]
  },
  {
   "cell_type": "code",
   "execution_count": 311,
   "metadata": {},
   "outputs": [
    {
     "data": {
      "text/plain": [
       "(1000, 10, 4, 244)"
      ]
     },
     "execution_count": 311,
     "metadata": {},
     "output_type": "execute_result"
    }
   ],
   "source": [
    "m_post[\"y_pred\"].shape"
   ]
  },
  {
   "cell_type": "code",
   "execution_count": 333,
   "metadata": {},
   "outputs": [],
   "source": [
    "maxs = np.where(Gini == Gini.max())\n",
    "mins = np.where(Gini == Gini.min())"
   ]
  },
  {
   "cell_type": "code",
   "execution_count": 332,
   "metadata": {},
   "outputs": [
    {
     "data": {
      "text/plain": [
       "(10, 244)"
      ]
     },
     "execution_count": 332,
     "metadata": {},
     "output_type": "execute_result"
    }
   ],
   "source": [
    "y_mean = m_post[\"y_pred\"].mean(axis = 0) # mean over samples\n",
    "y_mean = y_mean.mean(axis = 1) # mean over participants \n",
    "y_mean.shape"
   ]
  },
  {
   "cell_type": "code",
   "execution_count": 344,
   "metadata": {},
   "outputs": [],
   "source": [
    "y_high = y_mean[:, maxs[0]]\n",
    "y_low = y_mean[:, mins[0]]"
   ]
  },
  {
   "cell_type": "code",
   "execution_count": 349,
   "metadata": {},
   "outputs": [],
   "source": [
    "y_high_mean = y_high.mean(axis = 1)\n",
    "y_low_mean = y_low.mean(axis = 1)"
   ]
  },
  {
   "cell_type": "code",
   "execution_count": 351,
   "metadata": {},
   "outputs": [],
   "source": [
    "import matplotlib.pyplot as plt"
   ]
  },
  {
   "cell_type": "code",
   "execution_count": 356,
   "metadata": {},
   "outputs": [
    {
     "data": {
      "text/plain": [
       "[<matplotlib.lines.Line2D at 0x7ff052b7c4f0>]"
      ]
     },
     "execution_count": 356,
     "metadata": {},
     "output_type": "execute_result"
    },
    {
     "data": {
      "image/png": "[encoded data removed]",
      "text/plain": [
       "<Figure size 432x288 with 1 Axes>"
      ]
     },
     "metadata": {
      "needs_background": "light"
     },
     "output_type": "display_data"
    }
   ],
   "source": [
    "# reproducing Josh. \n",
    "plt.plot(y_high_mean, color = \"r\")\n",
    "plt.plot(y_low_mean, color = \"b\")"
   ]
  },
  {
   "cell_type": "markdown",
   "metadata": {},
   "source": [
    "### Preferences:\n",
    "\n",
    "$$pvec = p_0 + \\beta_p \\cdot tokenvalues $$\n",
    "\n",
    "$$p_t = pvec[Gb_t]$$\n",
    "\n",
    "where Gb_t is the belief of what the other person will do at time T"
   ]
  },
  {
   "cell_type": "markdown",
   "metadata": {},
   "source": [
    "$$Gb_t = \\gamma ( Gb_{t-1}) + (1-\\gamma) (G_{a_{t-1}})$$"
   ]
  },
  {
   "cell_type": "markdown",
   "metadata": {},
   "source": [
    "$$c_t = \\omega_t (Gb_t) + (1-\\omega_t) (p_t)$$\n",
    "\n",
    "$$\\omega_t = \\omega_{t-1}(1-\\lambda)$$"
   ]
  },
  {
   "cell_type": "markdown",
   "metadata": {},
   "source": [
    "### Getting the hierachical model\n",
    "\n",
    "$$B^P_{g,s} \\sim Beta(Shape_{g,s,1}, Shape_{g,s,2})$$"
   ]
  },
  {
   "cell_type": "markdown",
   "metadata": {},
   "source": [
    "$$Shape_1 = \\mu B^P_{g,s} + \\sigma_{g,s}$$\n",
    "$$Shape_2 = (1 - \\mu B^P_{g,s}) + \\sigma_{g,s}$$\n",
    "\n",
    "$$Probit(\\mu B^P_{g,s}) = \\beta_0^P + \\beta^P_{Gini} \\cdot Gini$$"
   ]
  }
 ],
 "metadata": {
  "kernelspec": {
   "display_name": "Python 3",
   "language": "python",
   "name": "python3"
  },
  "language_info": {
   "codemirror_mode": {
    "name": "ipython",
    "version": 3
   },
   "file_extension": ".py",
   "mimetype": "text/x-python",
   "name": "python",
   "nbconvert_exporter": "python",
   "pygments_lexer": "ipython3",
   "version": "3.9.2"
  }
 },
 "nbformat": 4,
 "nbformat_minor": 4
}
