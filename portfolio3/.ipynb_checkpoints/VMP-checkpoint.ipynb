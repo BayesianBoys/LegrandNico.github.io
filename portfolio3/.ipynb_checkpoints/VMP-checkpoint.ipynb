{
 "cells": [
  {
   "cell_type": "code",
   "execution_count": 3,
   "metadata": {},
   "outputs": [],
   "source": [
    "import pandas as pd\n",
    "import pymc3 as pm\n",
    "import numpy as np\n",
    "import theano\n",
    "import theano.tensor as tt"
   ]
  },
  {
   "cell_type": "code",
   "execution_count": 4,
   "metadata": {},
   "outputs": [],
   "source": [
    "data = pd.read_csv(\"HerrmannThoeniGaechterDATA.csv\", skiprows=3)"
   ]
  },
  {
   "cell_type": "code",
   "execution_count": 5,
   "metadata": {},
   "outputs": [
    {
     "data": {
      "text/plain": [
       "65880"
      ]
     },
     "execution_count": 5,
     "metadata": {},
     "output_type": "execute_result"
    }
   ],
   "source": [
    "len(data)"
   ]
  },
  {
   "cell_type": "code",
   "execution_count": 6,
   "metadata": {},
   "outputs": [
    {
     "data": {
      "text/html": [
       "<div>\n",
       "<style scoped>\n",
       "    .dataframe tbody tr th:only-of-type {\n",
       "        vertical-align: middle;\n",
       "    }\n",
       "\n",
       "    .dataframe tbody tr th {\n",
       "        vertical-align: top;\n",
       "    }\n",
       "\n",
       "    .dataframe thead th {\n",
       "        text-align: right;\n",
       "    }\n",
       "</style>\n",
       "<table border=\"1\" class=\"dataframe\">\n",
       "  <thead>\n",
       "    <tr style=\"text-align: right;\">\n",
       "      <th></th>\n",
       "      <th>sessionid</th>\n",
       "      <th>groupid</th>\n",
       "      <th>mgroupid</th>\n",
       "      <th>subjectid</th>\n",
       "      <th>p</th>\n",
       "      <th>secseq</th>\n",
       "      <th>city</th>\n",
       "      <th>period</th>\n",
       "      <th>senderscontribution</th>\n",
       "      <th>otherscontribution</th>\n",
       "      <th>...</th>\n",
       "      <th>civic</th>\n",
       "      <th>ruleoflaw</th>\n",
       "      <th>female</th>\n",
       "      <th>age</th>\n",
       "      <th>numknown</th>\n",
       "      <th>singlechild</th>\n",
       "      <th>ageu21</th>\n",
       "      <th>urbanbackground</th>\n",
       "      <th>middleclass</th>\n",
       "      <th>membership</th>\n",
       "    </tr>\n",
       "  </thead>\n",
       "  <tbody>\n",
       "    <tr>\n",
       "      <th>0</th>\n",
       "      <td>011108KA</td>\n",
       "      <td>703</td>\n",
       "      <td>703</td>\n",
       "      <td>701</td>\n",
       "      <td>N-experiment</td>\n",
       "      <td>0</td>\n",
       "      <td>Samara</td>\n",
       "      <td>1</td>\n",
       "      <td>20</td>\n",
       "      <td>18</td>\n",
       "      <td>...</td>\n",
       "      <td>8.050114</td>\n",
       "      <td>-0.884283</td>\n",
       "      <td>1</td>\n",
       "      <td>22.0</td>\n",
       "      <td>16.0</td>\n",
       "      <td>0.0</td>\n",
       "      <td>0</td>\n",
       "      <td>1.0</td>\n",
       "      <td>0.0</td>\n",
       "      <td>0.0</td>\n",
       "    </tr>\n",
       "    <tr>\n",
       "      <th>1</th>\n",
       "      <td>011108KA</td>\n",
       "      <td>703</td>\n",
       "      <td>703</td>\n",
       "      <td>701</td>\n",
       "      <td>N-experiment</td>\n",
       "      <td>0</td>\n",
       "      <td>Samara</td>\n",
       "      <td>1</td>\n",
       "      <td>20</td>\n",
       "      <td>10</td>\n",
       "      <td>...</td>\n",
       "      <td>8.050114</td>\n",
       "      <td>-0.884283</td>\n",
       "      <td>1</td>\n",
       "      <td>22.0</td>\n",
       "      <td>16.0</td>\n",
       "      <td>0.0</td>\n",
       "      <td>0</td>\n",
       "      <td>1.0</td>\n",
       "      <td>0.0</td>\n",
       "      <td>0.0</td>\n",
       "    </tr>\n",
       "    <tr>\n",
       "      <th>2</th>\n",
       "      <td>011108KA</td>\n",
       "      <td>703</td>\n",
       "      <td>703</td>\n",
       "      <td>701</td>\n",
       "      <td>N-experiment</td>\n",
       "      <td>0</td>\n",
       "      <td>Samara</td>\n",
       "      <td>1</td>\n",
       "      <td>20</td>\n",
       "      <td>10</td>\n",
       "      <td>...</td>\n",
       "      <td>8.050114</td>\n",
       "      <td>-0.884283</td>\n",
       "      <td>1</td>\n",
       "      <td>22.0</td>\n",
       "      <td>16.0</td>\n",
       "      <td>0.0</td>\n",
       "      <td>0</td>\n",
       "      <td>1.0</td>\n",
       "      <td>0.0</td>\n",
       "      <td>0.0</td>\n",
       "    </tr>\n",
       "    <tr>\n",
       "      <th>3</th>\n",
       "      <td>011108KA</td>\n",
       "      <td>702</td>\n",
       "      <td>702</td>\n",
       "      <td>702</td>\n",
       "      <td>N-experiment</td>\n",
       "      <td>0</td>\n",
       "      <td>Samara</td>\n",
       "      <td>1</td>\n",
       "      <td>10</td>\n",
       "      <td>10</td>\n",
       "      <td>...</td>\n",
       "      <td>8.050114</td>\n",
       "      <td>-0.884283</td>\n",
       "      <td>1</td>\n",
       "      <td>21.0</td>\n",
       "      <td>10.0</td>\n",
       "      <td>0.0</td>\n",
       "      <td>0</td>\n",
       "      <td>1.0</td>\n",
       "      <td>1.0</td>\n",
       "      <td>1.0</td>\n",
       "    </tr>\n",
       "    <tr>\n",
       "      <th>4</th>\n",
       "      <td>011108KA</td>\n",
       "      <td>702</td>\n",
       "      <td>702</td>\n",
       "      <td>702</td>\n",
       "      <td>N-experiment</td>\n",
       "      <td>0</td>\n",
       "      <td>Samara</td>\n",
       "      <td>1</td>\n",
       "      <td>10</td>\n",
       "      <td>20</td>\n",
       "      <td>...</td>\n",
       "      <td>8.050114</td>\n",
       "      <td>-0.884283</td>\n",
       "      <td>1</td>\n",
       "      <td>21.0</td>\n",
       "      <td>10.0</td>\n",
       "      <td>0.0</td>\n",
       "      <td>0</td>\n",
       "      <td>1.0</td>\n",
       "      <td>1.0</td>\n",
       "      <td>1.0</td>\n",
       "    </tr>\n",
       "  </tbody>\n",
       "</table>\n",
       "<p>5 rows × 22 columns</p>\n",
       "</div>"
      ],
      "text/plain": [
       "  sessionid  groupid  mgroupid  subjectid             p  secseq    city  \\\n",
       "0  011108KA      703       703        701  N-experiment       0  Samara   \n",
       "1  011108KA      703       703        701  N-experiment       0  Samara   \n",
       "2  011108KA      703       703        701  N-experiment       0  Samara   \n",
       "3  011108KA      702       702        702  N-experiment       0  Samara   \n",
       "4  011108KA      702       702        702  N-experiment       0  Samara   \n",
       "\n",
       "   period  senderscontribution  otherscontribution  ...     civic  ruleoflaw  \\\n",
       "0       1                   20                  18  ...  8.050114  -0.884283   \n",
       "1       1                   20                  10  ...  8.050114  -0.884283   \n",
       "2       1                   20                  10  ...  8.050114  -0.884283   \n",
       "3       1                   10                  10  ...  8.050114  -0.884283   \n",
       "4       1                   10                  20  ...  8.050114  -0.884283   \n",
       "\n",
       "   female   age  numknown  singlechild  ageu21  urbanbackground  middleclass  \\\n",
       "0       1  22.0      16.0          0.0       0              1.0          0.0   \n",
       "1       1  22.0      16.0          0.0       0              1.0          0.0   \n",
       "2       1  22.0      16.0          0.0       0              1.0          0.0   \n",
       "3       1  21.0      10.0          0.0       0              1.0          1.0   \n",
       "4       1  21.0      10.0          0.0       0              1.0          1.0   \n",
       "\n",
       "   membership  \n",
       "0         0.0  \n",
       "1         0.0  \n",
       "2         0.0  \n",
       "3         1.0  \n",
       "4         1.0  \n",
       "\n",
       "[5 rows x 22 columns]"
      ]
     },
     "execution_count": 6,
     "metadata": {},
     "output_type": "execute_result"
    }
   ],
   "source": [
    "data.head()"
   ]
  },
  {
   "cell_type": "code",
   "execution_count": 7,
   "metadata": {},
   "outputs": [],
   "source": [
    "## constants\n",
    "groupSize = 4\n",
    "ntrials = 10\n",
    "pi = 1.4\n",
    "ntokens = 20\n",
    "vals = list(range(21)) #possible values to contribute - from 0 to 20 tokens"
   ]
  },
  {
   "cell_type": "markdown",
   "metadata": {},
   "source": [
    "## Prelim checks"
   ]
  },
  {
   "cell_type": "code",
   "execution_count": 8,
   "metadata": {},
   "outputs": [
    {
     "data": {
      "text/plain": [
       "1120"
      ]
     },
     "execution_count": 8,
     "metadata": {},
     "output_type": "execute_result"
    }
   ],
   "source": [
    "len(set(data[\"subjectid\"])) #should be 1120"
   ]
  },
  {
   "cell_type": "code",
   "execution_count": 9,
   "metadata": {},
   "outputs": [
    {
     "data": {
      "text/plain": [
       "280"
      ]
     },
     "execution_count": 9,
     "metadata": {},
     "output_type": "execute_result"
    }
   ],
   "source": [
    "len(set(data[\"groupid\"]))"
   ]
  },
  {
   "cell_type": "code",
   "execution_count": 11,
   "metadata": {},
   "outputs": [],
   "source": [
    "#data.dtypes"
   ]
  },
  {
   "cell_type": "code",
   "execution_count": 12,
   "metadata": {},
   "outputs": [],
   "source": [
    "def get_gini(city):\n",
    "    if city == \"Melbourne\":\n",
    "        return 34.3\n",
    "    if city == \"Minsk\":\n",
    "        return 25.3\n",
    "    if city == \"Chengdu\":\n",
    "        return 38.5\n",
    "    if city == \"Copenhagen\":\n",
    "        return 28.7\n",
    "    if city == \"Bonn\":\n",
    "        return 31.9\n",
    "    if city == \"Athens\":\n",
    "        return 34.4\n",
    "    if city == \"Seoul\":\n",
    "        return 31.6\n",
    "    if city == \"Samara\":\n",
    "        return 37.5\n",
    "    if city == \"Zurich\":\n",
    "        return 32.7\n",
    "    if city == \"St. Gallen\":\n",
    "        return 32.7\n",
    "    if city == \"Istanbul\":\n",
    "        return 41.9\n",
    "    if city == \"Nottingham\":\n",
    "        return 34.8\n",
    "    if city == \"Dnipropetrovs'k\":\n",
    "        return 26.1\n",
    "    if city == \"Boston\":\n",
    "        return 41.1\n",
    "    \n",
    "data[\"gini\"] = data[\"city\"].apply(lambda x: get_gini(x))"
   ]
  },
  {
   "cell_type": "code",
   "execution_count": 9,
   "metadata": {},
   "outputs": [],
   "source": [
    "#data = data[data[\"gini\"].isna() == False]\n",
    "#data = data.dropna()"
   ]
  },
  {
   "cell_type": "code",
   "execution_count": 13,
   "metadata": {},
   "outputs": [
    {
     "data": {
      "text/plain": [
       "65880"
      ]
     },
     "execution_count": 13,
     "metadata": {},
     "output_type": "execute_result"
    }
   ],
   "source": [
    "len(data)"
   ]
  },
  {
   "cell_type": "code",
   "execution_count": 14,
   "metadata": {},
   "outputs": [],
   "source": [
    "redDat = data.iloc[::3, :] #get only every third row, the others are other responses that we don't need"
   ]
  },
  {
   "cell_type": "code",
   "execution_count": 15,
   "metadata": {},
   "outputs": [],
   "source": [
    "redDat.reset_index(inplace = True, drop = True)"
   ]
  },
  {
   "cell_type": "code",
   "execution_count": 16,
   "metadata": {},
   "outputs": [],
   "source": [
    "group_names = set(redDat[\"groupid\"])\n",
    "group_names = sorted(list(group_names))\n",
    "ngroups = len(group_names)\n",
    "\n",
    "### DOES SOMETHING FUCKED HERE\n",
    "\n",
    "subject_names = set(redDat[\"subjectid\"])\n",
    "nsubjects = len(subject_names)\n",
    "ngroups = 269"
   ]
  },
  {
   "cell_type": "code",
   "execution_count": 17,
   "metadata": {},
   "outputs": [],
   "source": [
    "## No punish initialized\n",
    "c_no_punish = np.zeros(shape = (groupSize, ntrials, ngroups))\n",
    "Ga_no_punish = np.zeros(shape = (ntrials, ngroups))\n",
    "Gc_no_punish = np.zeros(shape = (groupSize, ntrials, ngroups))\n",
    "\n",
    "#punished initialized\n",
    "c_punish = np.zeros(shape = (groupSize, ntrials, ngroups))\n",
    "Ga_punish = np.zeros(shape = (ntrials, ngroups))\n",
    "Gc_punish = np.zeros(shape = (groupSize, ntrials, ngroups))\n",
    "\n",
    "#missing vector\n",
    "missing = np.zeros(shape = (ngroups))"
   ]
  },
  {
   "cell_type": "code",
   "execution_count": 18,
   "metadata": {},
   "outputs": [],
   "source": [
    "for g in range(ngroups):\n",
    "    ### fancy way of fixing missing data - they will just become 0, \n",
    "    # and their position is then logged in \"missing\"-vector\n",
    "    try: \n",
    "        #no punish\n",
    "        c_no_punish[:,:,g][0] = redDat[(redDat[\"groupid\"] == group_names[g]) & (redDat[\"p\"] == \"N-experiment\")][\"senderscontribution\"][0:10].values\n",
    "        c_no_punish[:,:,g][1] = redDat[(redDat[\"groupid\"] == group_names[g]) & (redDat[\"p\"] == \"N-experiment\")][\"senderscontribution\"][10:20].values\n",
    "        c_no_punish[:,:,g][2] = redDat[(redDat[\"groupid\"] == group_names[g]) & (redDat[\"p\"] == \"N-experiment\")][\"senderscontribution\"][20:30].values\n",
    "        c_no_punish[:,:,g][3] = redDat[(redDat[\"groupid\"] == group_names[g]) & (redDat[\"p\"] == \"N-experiment\")][\"senderscontribution\"][30:40].values\n",
    "        \n",
    "        #punish\n",
    "        c_punish[:,:,g][0] = redDat[(redDat[\"groupid\"] == group_names[g]) & (redDat[\"p\"] == \"P-experiment\")][\"senderscontribution\"][0:10].values\n",
    "        c_punish[:,:,g][1] = redDat[(redDat[\"groupid\"] == group_names[g]) & (redDat[\"p\"] == \"P-experiment\")][\"senderscontribution\"][10:20].values\n",
    "        c_punish[:,:,g][2] = redDat[(redDat[\"groupid\"] == group_names[g]) & (redDat[\"p\"] == \"P-experiment\")][\"senderscontribution\"][20:30].values\n",
    "        c_punish[:,:,g][3] = redDat[(redDat[\"groupid\"] == group_names[g]) & (redDat[\"p\"] == \"P-experiment\")][\"senderscontribution\"][30:40].values\n",
    "    \n",
    "    except: #could be more general... \n",
    "        missing[g] = 1\n",
    "    \n",
    "    #make \"Ga\"\n",
    "    \n",
    "    Ga_no_punish[:,g] = c_no_punish[:,:,g].mean(axis=0)\n",
    "    Ga_punish[:,g] = c_punish[:,:,g].mean(axis=0)\n",
    "    \n",
    "    #make \"Gc\"\n",
    "    for s in range(groupSize):\n",
    "        Gc_no_punish[:,:,g][s] = np.delete(c_no_punish[:,:,g], s, 0).sum(axis=0) #just gives a single number though...\n",
    "        Gc_punish[:,:,g][s] = np.delete(c_punish[:,:,g], s, 0).sum(axis=0)"
   ]
  },
  {
   "cell_type": "markdown",
   "metadata": {},
   "source": [
    "### Concat the different conditions"
   ]
  },
  {
   "cell_type": "code",
   "execution_count": 19,
   "metadata": {},
   "outputs": [],
   "source": [
    "c = np.zeros(shape = (groupSize, ntrials, ngroups, 2))\n",
    "Ga = np.zeros(shape = (ntrials, ngroups, 2))"
   ]
  },
  {
   "cell_type": "code",
   "execution_count": 20,
   "metadata": {},
   "outputs": [
    {
     "data": {
      "text/plain": [
       "(4, 10, 269, 2)"
      ]
     },
     "execution_count": 20,
     "metadata": {},
     "output_type": "execute_result"
    }
   ],
   "source": [
    "c.shape"
   ]
  },
  {
   "cell_type": "code",
   "execution_count": 21,
   "metadata": {},
   "outputs": [],
   "source": [
    "c[:,:,:,0] = c_no_punish\n",
    "c[:,:,:,1] = c_punish\n",
    "\n",
    "Ga[:,:,0] = Ga_no_punish\n",
    "Ga[:,:,1] = Ga_punish"
   ]
  },
  {
   "cell_type": "markdown",
   "metadata": {},
   "source": [
    "### Gini Coefficient"
   ]
  },
  {
   "cell_type": "code",
   "execution_count": 22,
   "metadata": {},
   "outputs": [],
   "source": [
    "Gini = np.zeros(shape = ngroups)\n",
    "for g in range(ngroups):\n",
    "    Gini[g] = redDat[(redDat[\"groupid\"] == group_names[g]) & (redDat[\"p\"] == \"P-experiment\")][\"gini\"].values.mean()"
   ]
  },
  {
   "cell_type": "code",
   "execution_count": 23,
   "metadata": {},
   "outputs": [],
   "source": [
    "mask = np.isnan(Gini) == False"
   ]
  },
  {
   "cell_type": "code",
   "execution_count": 24,
   "metadata": {},
   "outputs": [],
   "source": [
    "Ga_punish = Ga_punish[:,mask]\n",
    "Ga_no_punish = Ga_no_punish[:,mask]\n",
    "\n",
    "c = c[:,:,mask,:]\n",
    "Ga = Ga[:,mask,:]\n",
    "#Gc = Gc[:,:,mask,:]\n",
    "Gini = Gini[mask]\n",
    "\n",
    "#get new ngroups\n",
    "ngroups = len(Gini)"
   ]
  },
  {
   "cell_type": "markdown",
   "metadata": {},
   "source": [
    "### Prelim check\n",
    "\n",
    "First we need to add all contributions in a group and multiply them by 1.4 and calculate the Pearson correlation between Gini coefficients and the earnings.\n"
   ]
  },
  {
   "cell_type": "markdown",
   "metadata": {},
   "source": [
    "### Heat map\n",
    "\n",
    "Lower Quartile (Gini < 31.6)\n",
    "Upper Quartile (Gini > 37.5)"
   ]
  },
  {
   "cell_type": "markdown",
   "metadata": {},
   "source": [
    "## Decay model\n",
    "\n",
    "$$c_{g,s,t}^\\mu = c^0_{g,s} \\cdot e^{-\\gamma_{s,g} \\cdot t}$$\n",
    "\n",
    "$$c^0_{g,s} = \\beta^c_0 + \\beta^c_{Gini} \\cdot Gini_g$$\n",
    "\n",
    "$$\\gamma_{s,g} = \\beta^\\gamma_0 + \\beta^\\gamma_{Gini} \\cdot Gini_g$$"
   ]
  },
  {
   "cell_type": "code",
   "execution_count": 274,
   "metadata": {},
   "outputs": [
    {
     "data": {
      "text/plain": [
       "(244,)"
      ]
     },
     "execution_count": 274,
     "metadata": {},
     "output_type": "execute_result"
    }
   ],
   "source": [
    "Gini.shape"
   ]
  },
  {
   "cell_type": "code",
   "execution_count": 270,
   "metadata": {},
   "outputs": [],
   "source": [
    "idx_g = np.arange(ngroups)\n",
    "idx_s = np.array([0,1,2,3])\n",
    "t = np.arange(ntrials)"
   ]
  },
  {
   "cell_type": "code",
   "execution_count": 275,
   "metadata": {},
   "outputs": [
    {
     "data": {
      "text/plain": [
       "array([0, 1, 2, 3])"
      ]
     },
     "execution_count": 275,
     "metadata": {},
     "output_type": "execute_result"
    }
   ],
   "source": [
    "idx_s"
   ]
  },
  {
   "cell_type": "code",
   "execution_count": null,
   "metadata": {},
   "outputs": [],
   "source": [
    "## trying something out. "
   ]
  },
  {
   "cell_type": "code",
   "execution_count": 304,
   "metadata": {},
   "outputs": [],
   "source": [
    "gini_dat = np.array([[Gini for i in range(len(t))] for j in range(len(idx_s))])\n",
    "time_dat = np.array([[np.repeat(i, len(Gini)) for i in range(len(t))] for j in range(len(idx_s))])"
   ]
  },
  {
   "cell_type": "code",
   "execution_count": 305,
   "metadata": {},
   "outputs": [
    {
     "name": "stdout",
     "output_type": "stream",
     "text": [
      "(4, 10, 244)\n",
      "(4, 10, 244)\n"
     ]
    }
   ],
   "source": [
    "print(gini_dat.shape)\n",
    "print(time_dat.shape)"
   ]
  },
  {
   "cell_type": "code",
   "execution_count": 314,
   "metadata": {},
   "outputs": [],
   "source": [
    "time_formatted = t[:, None]\n",
    "time_formatted.shape;"
   ]
  },
  {
   "cell_type": "code",
   "execution_count": 311,
   "metadata": {},
   "outputs": [],
   "source": [
    "idx_g_formatted = idx_g[:, None]\n",
    "idx_g_formatted = idx_g_formatted[:, None]"
   ]
  },
  {
   "cell_type": "code",
   "execution_count": 332,
   "metadata": {},
   "outputs": [],
   "source": [
    "gini_dat[idx_s, time_formatted, idx_g_formatted];"
   ]
  },
  {
   "cell_type": "code",
   "execution_count": 333,
   "metadata": {},
   "outputs": [],
   "source": [
    "time_dat[idx_s, time_formatted, idx_g_formatted];"
   ]
  },
  {
   "cell_type": "code",
   "execution_count": 350,
   "metadata": {},
   "outputs": [],
   "source": [
    "gini_dat * time_dat;"
   ]
  },
  {
   "cell_type": "code",
   "execution_count": 357,
   "metadata": {},
   "outputs": [],
   "source": [
    "test1 = time_dat"
   ]
  },
  {
   "cell_type": "code",
   "execution_count": 360,
   "metadata": {},
   "outputs": [],
   "source": [
    "test2 = gini_dat[idx_s, time_formatted, idx_g_formatted]"
   ]
  },
  {
   "cell_type": "code",
   "execution_count": 338,
   "metadata": {},
   "outputs": [
    {
     "ename": "ValueError",
     "evalue": "Input dimension mis-match. (input[0].shape[0] = 4, input[1].shape[0] = 244)",
     "output_type": "error",
     "traceback": [
      "\u001b[0;31m--------------------------------------------------------------\u001b[0m",
      "\u001b[0;31mValueError\u001b[0m                   Traceback (most recent call last)",
      "\u001b[0;32m<ipython-input-338-5909fb6dfc40>\u001b[0m in \u001b[0;36m<module>\u001b[0;34m\u001b[0m\n\u001b[1;32m     19\u001b[0m \u001b[0;34m\u001b[0m\u001b[0m\n\u001b[1;32m     20\u001b[0m     \u001b[0;31m### with time\u001b[0m\u001b[0;34m\u001b[0m\u001b[0;34m\u001b[0m\u001b[0;34m\u001b[0m\u001b[0m\n\u001b[0;32m---> 21\u001b[0;31m     \u001b[0mtester\u001b[0m \u001b[0;34m=\u001b[0m \u001b[0mtime_dat\u001b[0m \u001b[0;34m*\u001b[0m \u001b[0mgamma\u001b[0m\u001b[0;34m\u001b[0m\u001b[0;34m\u001b[0m\u001b[0m\n\u001b[0m\u001b[1;32m     22\u001b[0m     \u001b[0mtester\u001b[0m \u001b[0;34m=\u001b[0m \u001b[0mpm\u001b[0m\u001b[0;34m.\u001b[0m\u001b[0mDeterministic\u001b[0m\u001b[0;34m(\u001b[0m\u001b[0;34m\"tester\"\u001b[0m\u001b[0;34m,\u001b[0m \u001b[0mtime_dat\u001b[0m \u001b[0;34m*\u001b[0m \u001b[0mgamma\u001b[0m\u001b[0;34m)\u001b[0m\u001b[0;34m\u001b[0m\u001b[0;34m\u001b[0m\u001b[0m\n\u001b[1;32m     23\u001b[0m \u001b[0;34m\u001b[0m\u001b[0m\n",
      "\u001b[0;32m~/.local/lib/python3.9/site-packages/theano/tensor/var.py\u001b[0m in \u001b[0;36m__rmul__\u001b[0;34m(self, other)\u001b[0m\n\u001b[1;32m    202\u001b[0m \u001b[0;34m\u001b[0m\u001b[0m\n\u001b[1;32m    203\u001b[0m     \u001b[0;32mdef\u001b[0m \u001b[0m__rmul__\u001b[0m\u001b[0;34m(\u001b[0m\u001b[0mself\u001b[0m\u001b[0;34m,\u001b[0m \u001b[0mother\u001b[0m\u001b[0;34m)\u001b[0m\u001b[0;34m:\u001b[0m\u001b[0;34m\u001b[0m\u001b[0;34m\u001b[0m\u001b[0m\n\u001b[0;32m--> 204\u001b[0;31m         \u001b[0;32mreturn\u001b[0m \u001b[0mtheano\u001b[0m\u001b[0;34m.\u001b[0m\u001b[0mtensor\u001b[0m\u001b[0;34m.\u001b[0m\u001b[0mbasic\u001b[0m\u001b[0;34m.\u001b[0m\u001b[0mmul\u001b[0m\u001b[0;34m(\u001b[0m\u001b[0mother\u001b[0m\u001b[0;34m,\u001b[0m \u001b[0mself\u001b[0m\u001b[0;34m)\u001b[0m\u001b[0;34m\u001b[0m\u001b[0;34m\u001b[0m\u001b[0m\n\u001b[0m\u001b[1;32m    205\u001b[0m \u001b[0;34m\u001b[0m\u001b[0m\n\u001b[1;32m    206\u001b[0m     \u001b[0;32mdef\u001b[0m \u001b[0m__rdiv__\u001b[0m\u001b[0;34m(\u001b[0m\u001b[0mself\u001b[0m\u001b[0;34m,\u001b[0m \u001b[0mother\u001b[0m\u001b[0;34m)\u001b[0m\u001b[0;34m:\u001b[0m\u001b[0;34m\u001b[0m\u001b[0;34m\u001b[0m\u001b[0m\n",
      "\u001b[0;32m~/.local/lib/python3.9/site-packages/theano/graph/op.py\u001b[0m in \u001b[0;36m__call__\u001b[0;34m(self, *inputs, **kwargs)\u001b[0m\n\u001b[1;32m    251\u001b[0m \u001b[0;34m\u001b[0m\u001b[0m\n\u001b[1;32m    252\u001b[0m         \u001b[0;32mif\u001b[0m \u001b[0mconfig\u001b[0m\u001b[0;34m.\u001b[0m\u001b[0mcompute_test_value\u001b[0m \u001b[0;34m!=\u001b[0m \u001b[0;34m\"off\"\u001b[0m\u001b[0;34m:\u001b[0m\u001b[0;34m\u001b[0m\u001b[0;34m\u001b[0m\u001b[0m\n\u001b[0;32m--> 253\u001b[0;31m             \u001b[0mcompute_test_value\u001b[0m\u001b[0;34m(\u001b[0m\u001b[0mnode\u001b[0m\u001b[0;34m)\u001b[0m\u001b[0;34m\u001b[0m\u001b[0;34m\u001b[0m\u001b[0m\n\u001b[0m\u001b[1;32m    254\u001b[0m \u001b[0;34m\u001b[0m\u001b[0m\n\u001b[1;32m    255\u001b[0m         \u001b[0;32mif\u001b[0m \u001b[0mself\u001b[0m\u001b[0;34m.\u001b[0m\u001b[0mdefault_output\u001b[0m \u001b[0;32mis\u001b[0m \u001b[0;32mnot\u001b[0m \u001b[0;32mNone\u001b[0m\u001b[0;34m:\u001b[0m\u001b[0;34m\u001b[0m\u001b[0;34m\u001b[0m\u001b[0m\n",
      "\u001b[0;32m~/.local/lib/python3.9/site-packages/theano/graph/op.py\u001b[0m in \u001b[0;36mcompute_test_value\u001b[0;34m(node)\u001b[0m\n\u001b[1;32m    128\u001b[0m     \u001b[0mthunk\u001b[0m\u001b[0;34m.\u001b[0m\u001b[0moutputs\u001b[0m \u001b[0;34m=\u001b[0m \u001b[0;34m[\u001b[0m\u001b[0mstorage_map\u001b[0m\u001b[0;34m[\u001b[0m\u001b[0mv\u001b[0m\u001b[0;34m]\u001b[0m \u001b[0;32mfor\u001b[0m \u001b[0mv\u001b[0m \u001b[0;32min\u001b[0m \u001b[0mnode\u001b[0m\u001b[0;34m.\u001b[0m\u001b[0moutputs\u001b[0m\u001b[0;34m]\u001b[0m\u001b[0;34m\u001b[0m\u001b[0;34m\u001b[0m\u001b[0m\n\u001b[1;32m    129\u001b[0m \u001b[0;34m\u001b[0m\u001b[0m\n\u001b[0;32m--> 130\u001b[0;31m     \u001b[0mrequired\u001b[0m \u001b[0;34m=\u001b[0m \u001b[0mthunk\u001b[0m\u001b[0;34m(\u001b[0m\u001b[0;34m)\u001b[0m\u001b[0;34m\u001b[0m\u001b[0;34m\u001b[0m\u001b[0m\n\u001b[0m\u001b[1;32m    131\u001b[0m     \u001b[0;32massert\u001b[0m \u001b[0;32mnot\u001b[0m \u001b[0mrequired\u001b[0m  \u001b[0;31m# We provided all inputs\u001b[0m\u001b[0;34m\u001b[0m\u001b[0;34m\u001b[0m\u001b[0m\n\u001b[1;32m    132\u001b[0m \u001b[0;34m\u001b[0m\u001b[0m\n",
      "\u001b[0;32m~/.local/lib/python3.9/site-packages/theano/graph/op.py\u001b[0m in \u001b[0;36mrval\u001b[0;34m()\u001b[0m\n\u001b[1;32m    604\u001b[0m \u001b[0;34m\u001b[0m\u001b[0m\n\u001b[1;32m    605\u001b[0m         \u001b[0;32mdef\u001b[0m \u001b[0mrval\u001b[0m\u001b[0;34m(\u001b[0m\u001b[0;34m)\u001b[0m\u001b[0;34m:\u001b[0m\u001b[0;34m\u001b[0m\u001b[0;34m\u001b[0m\u001b[0m\n\u001b[0;32m--> 606\u001b[0;31m             \u001b[0mthunk\u001b[0m\u001b[0;34m(\u001b[0m\u001b[0;34m)\u001b[0m\u001b[0;34m\u001b[0m\u001b[0;34m\u001b[0m\u001b[0m\n\u001b[0m\u001b[1;32m    607\u001b[0m             \u001b[0;32mfor\u001b[0m \u001b[0mo\u001b[0m \u001b[0;32min\u001b[0m \u001b[0mnode\u001b[0m\u001b[0;34m.\u001b[0m\u001b[0moutputs\u001b[0m\u001b[0;34m:\u001b[0m\u001b[0;34m\u001b[0m\u001b[0;34m\u001b[0m\u001b[0m\n\u001b[1;32m    608\u001b[0m                 \u001b[0mcompute_map\u001b[0m\u001b[0;34m[\u001b[0m\u001b[0mo\u001b[0m\u001b[0;34m]\u001b[0m\u001b[0;34m[\u001b[0m\u001b[0;36m0\u001b[0m\u001b[0;34m]\u001b[0m \u001b[0;34m=\u001b[0m \u001b[0;32mTrue\u001b[0m\u001b[0;34m\u001b[0m\u001b[0;34m\u001b[0m\u001b[0m\n",
      "\u001b[0;32m~/.local/lib/python3.9/site-packages/theano/link/c/basic.py\u001b[0m in \u001b[0;36m__call__\u001b[0;34m(self)\u001b[0m\n\u001b[1;32m   1769\u001b[0m                 \u001b[0mprint\u001b[0m\u001b[0;34m(\u001b[0m\u001b[0mself\u001b[0m\u001b[0;34m.\u001b[0m\u001b[0merror_storage\u001b[0m\u001b[0;34m,\u001b[0m \u001b[0mfile\u001b[0m\u001b[0;34m=\u001b[0m\u001b[0msys\u001b[0m\u001b[0;34m.\u001b[0m\u001b[0mstderr\u001b[0m\u001b[0;34m)\u001b[0m\u001b[0;34m\u001b[0m\u001b[0;34m\u001b[0m\u001b[0m\n\u001b[1;32m   1770\u001b[0m                 \u001b[0;32mraise\u001b[0m\u001b[0;34m\u001b[0m\u001b[0;34m\u001b[0m\u001b[0m\n\u001b[0;32m-> 1771\u001b[0;31m             \u001b[0;32mraise\u001b[0m \u001b[0mexc_value\u001b[0m\u001b[0;34m.\u001b[0m\u001b[0mwith_traceback\u001b[0m\u001b[0;34m(\u001b[0m\u001b[0mexc_trace\u001b[0m\u001b[0;34m)\u001b[0m\u001b[0;34m\u001b[0m\u001b[0;34m\u001b[0m\u001b[0m\n\u001b[0m\u001b[1;32m   1772\u001b[0m \u001b[0;34m\u001b[0m\u001b[0m\n\u001b[1;32m   1773\u001b[0m \u001b[0;34m\u001b[0m\u001b[0m\n",
      "\u001b[0;31mValueError\u001b[0m: Input dimension mis-match. (input[0].shape[0] = 4, input[1].shape[0] = 244)"
     ]
    }
   ],
   "source": [
    "with pm.Model() as m:\n",
    "    ## priors\n",
    "    beta0_c0 = pm.HalfNormal(\"beta0_c0\", 1)\n",
    "    betaGini_c0 = pm.Normal(\"betaGini_c0\", 0, 1)\n",
    "    \n",
    "    beta0_gamma = pm.HalfNormal(\"beta0_gamma\", 1)\n",
    "    betaGini_gamma = pm.Normal(\"betaGini_gamma\", 0, 1)\n",
    "    \n",
    "    ## group_level\n",
    "    sigma_c = pm.Gamma(\"sigma_c\", 1, 1, shape = (ngroups, groupSize))\n",
    "    \n",
    "    c_0 = pm.Deterministic(\"c_0\", beta0_c0 + betaGini_c0 * gini_dat[idx_s, \n",
    "                                                                    time_formatted, \n",
    "                                                                    idx_g_formatted])\n",
    "    \n",
    "    gamma = pm.Deterministic(\"gamma\", beta0_gamma + betaGini_gamma * gini_dat[idx_s, \n",
    "                                                                              time_formatted, \n",
    "                                                                              idx_g_formatted])\n",
    "    \n",
    "    ### with time \n",
    "    tester = time_dat * gamma\n",
    "    tester = pm.Deterministic(\"tester\", time_dat * gamma)\n",
    "    \n",
    "    test_2 = pm.math.dot(tester, c_0)\n",
    "    \n",
    "    mu_c = pm.Deterministic(\"mu_c\", \n",
    "                            c_0 * pm.math.exp(pm.math.dot(t_stack, -gamma))) ## this is gonna be fucked\n",
    "    \n",
    "    ## likelihood\n",
    "    \n",
    "    y_pred = pm.Normal(\"y_pred\", mu = mu_c, sigma = sigma_c, observed = y)\n",
    "    \n",
    "    "
   ]
  },
  {
   "cell_type": "markdown",
   "metadata": {},
   "source": [
    "### Preferences:\n",
    "\n",
    "$$pvec = p_0 + \\beta_p \\cdot tokenvalues $$\n",
    "\n",
    "$$p_t = pvec[Gb_t]$$\n",
    "\n",
    "where Gb_t is the belief of what the other person will do at time T"
   ]
  },
  {
   "cell_type": "markdown",
   "metadata": {},
   "source": [
    "$$Gb_t = \\gamma ( Gb_{t-1}) + (1-\\gamma) (G_{a_{t-1}})$$"
   ]
  },
  {
   "cell_type": "markdown",
   "metadata": {},
   "source": [
    "$$c_t = \\omega_t (Gb_t) + (1-\\omega_t) (p_t)$$\n",
    "\n",
    "$$\\omega_t = \\omega_{t-1}(1-\\lambda)$$"
   ]
  },
  {
   "cell_type": "markdown",
   "metadata": {},
   "source": [
    "### Getting the hierachical model\n",
    "\n",
    "$$B^P_{g,s} \\sim Beta(Shape_{g,s,1}, Shape_{g,s,2})$$"
   ]
  },
  {
   "cell_type": "markdown",
   "metadata": {},
   "source": [
    "$$Shape_1 = \\mu B^P_{g,s} + \\sigma_{g,s}$$\n",
    "$$Shape_2 = (1 - \\mu B^P_{g,s}) + \\sigma_{g,s}$$\n",
    "\n",
    "$$Probit(\\mu B^P_{g,s}) = \\beta_0^P + \\beta^P_{Gini} \\cdot Gini$$"
   ]
  },
  {
   "cell_type": "code",
   "execution_count": 229,
   "metadata": {},
   "outputs": [],
   "source": [
    "arr1 = [1, 2, 3]"
   ]
  },
  {
   "cell_type": "code",
   "execution_count": 230,
   "metadata": {},
   "outputs": [],
   "source": [
    "arr2 = [0, 0, 0]"
   ]
  },
  {
   "cell_type": "code",
   "execution_count": 232,
   "metadata": {},
   "outputs": [
    {
     "data": {
      "text/plain": [
       "array([[1, 2, 3],\n",
       "       [0, 0, 0]])"
      ]
     },
     "execution_count": 232,
     "metadata": {},
     "output_type": "execute_result"
    }
   ],
   "source": [
    "np.array([arr1, arr2])"
   ]
  },
  {
   "cell_type": "code",
   "execution_count": 259,
   "metadata": {},
   "outputs": [],
   "source": [
    "arr1 = np.ones((2, 3, 4))\n",
    "arr2 = np.ones((2, 3, 4))"
   ]
  },
  {
   "cell_type": "code",
   "execution_count": 262,
   "metadata": {},
   "outputs": [
    {
     "data": {
      "text/plain": [
       "array([[[1., 1., 1., 1.],\n",
       "        [1., 1., 1., 1.],\n",
       "        [1., 1., 1., 1.]],\n",
       "\n",
       "       [[1., 1., 1., 1.],\n",
       "        [1., 1., 1., 1.],\n",
       "        [1., 1., 1., 1.]]])"
      ]
     },
     "execution_count": 262,
     "metadata": {},
     "output_type": "execute_result"
    }
   ],
   "source": [
    "(arr1 * arr2)"
   ]
  }
 ],
 "metadata": {
  "kernelspec": {
   "display_name": "Python 3",
   "language": "python",
   "name": "python3"
  },
  "language_info": {
   "codemirror_mode": {
    "name": "ipython",
    "version": 3
   },
   "file_extension": ".py",
   "mimetype": "text/x-python",
   "name": "python",
   "nbconvert_exporter": "python",
   "pygments_lexer": "ipython3",
   "version": "3.9.2"
  }
 },
 "nbformat": 4,
 "nbformat_minor": 4
}
