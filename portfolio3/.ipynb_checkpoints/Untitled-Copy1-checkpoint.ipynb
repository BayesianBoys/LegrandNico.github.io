{
 "cells": [
  {
   "cell_type": "code",
   "execution_count": 1,
   "metadata": {},
   "outputs": [],
   "source": [
    "import pandas as pd\n",
    "import pymc3 as pm\n",
    "import numpy as np\n",
    "import theano\n",
    "import theano.tensor as tt"
   ]
  },
  {
   "cell_type": "code",
   "execution_count": 82,
   "metadata": {},
   "outputs": [],
   "source": [
    "data = pd.read_csv(\"HerrmannThoeniGaechterDATA.csv\", skiprows=3)"
   ]
  },
  {
   "cell_type": "code",
   "execution_count": 3,
   "metadata": {},
   "outputs": [
    {
     "data": {
      "text/plain": [
       "65880"
      ]
     },
     "execution_count": 3,
     "metadata": {},
     "output_type": "execute_result"
    }
   ],
   "source": [
    "len(data)"
   ]
  },
  {
   "cell_type": "code",
   "execution_count": 83,
   "metadata": {},
   "outputs": [
    {
     "data": {
      "text/html": [
       "<div>\n",
       "<style scoped>\n",
       "    .dataframe tbody tr th:only-of-type {\n",
       "        vertical-align: middle;\n",
       "    }\n",
       "\n",
       "    .dataframe tbody tr th {\n",
       "        vertical-align: top;\n",
       "    }\n",
       "\n",
       "    .dataframe thead th {\n",
       "        text-align: right;\n",
       "    }\n",
       "</style>\n",
       "<table border=\"1\" class=\"dataframe\">\n",
       "  <thead>\n",
       "    <tr style=\"text-align: right;\">\n",
       "      <th></th>\n",
       "      <th>sessionid</th>\n",
       "      <th>groupid</th>\n",
       "      <th>mgroupid</th>\n",
       "      <th>subjectid</th>\n",
       "      <th>p</th>\n",
       "      <th>secseq</th>\n",
       "      <th>city</th>\n",
       "      <th>period</th>\n",
       "      <th>senderscontribution</th>\n",
       "      <th>otherscontribution</th>\n",
       "      <th>...</th>\n",
       "      <th>civic</th>\n",
       "      <th>ruleoflaw</th>\n",
       "      <th>female</th>\n",
       "      <th>age</th>\n",
       "      <th>numknown</th>\n",
       "      <th>singlechild</th>\n",
       "      <th>ageu21</th>\n",
       "      <th>urbanbackground</th>\n",
       "      <th>middleclass</th>\n",
       "      <th>membership</th>\n",
       "    </tr>\n",
       "  </thead>\n",
       "  <tbody>\n",
       "    <tr>\n",
       "      <th>0</th>\n",
       "      <td>011108KA</td>\n",
       "      <td>703</td>\n",
       "      <td>703</td>\n",
       "      <td>701</td>\n",
       "      <td>N-experiment</td>\n",
       "      <td>0</td>\n",
       "      <td>Samara</td>\n",
       "      <td>1</td>\n",
       "      <td>20</td>\n",
       "      <td>18</td>\n",
       "      <td>...</td>\n",
       "      <td>8.050114</td>\n",
       "      <td>-0.884283</td>\n",
       "      <td>1</td>\n",
       "      <td>22.0</td>\n",
       "      <td>16.0</td>\n",
       "      <td>0.0</td>\n",
       "      <td>0</td>\n",
       "      <td>1.0</td>\n",
       "      <td>0.0</td>\n",
       "      <td>0.0</td>\n",
       "    </tr>\n",
       "    <tr>\n",
       "      <th>1</th>\n",
       "      <td>011108KA</td>\n",
       "      <td>703</td>\n",
       "      <td>703</td>\n",
       "      <td>701</td>\n",
       "      <td>N-experiment</td>\n",
       "      <td>0</td>\n",
       "      <td>Samara</td>\n",
       "      <td>1</td>\n",
       "      <td>20</td>\n",
       "      <td>10</td>\n",
       "      <td>...</td>\n",
       "      <td>8.050114</td>\n",
       "      <td>-0.884283</td>\n",
       "      <td>1</td>\n",
       "      <td>22.0</td>\n",
       "      <td>16.0</td>\n",
       "      <td>0.0</td>\n",
       "      <td>0</td>\n",
       "      <td>1.0</td>\n",
       "      <td>0.0</td>\n",
       "      <td>0.0</td>\n",
       "    </tr>\n",
       "    <tr>\n",
       "      <th>2</th>\n",
       "      <td>011108KA</td>\n",
       "      <td>703</td>\n",
       "      <td>703</td>\n",
       "      <td>701</td>\n",
       "      <td>N-experiment</td>\n",
       "      <td>0</td>\n",
       "      <td>Samara</td>\n",
       "      <td>1</td>\n",
       "      <td>20</td>\n",
       "      <td>10</td>\n",
       "      <td>...</td>\n",
       "      <td>8.050114</td>\n",
       "      <td>-0.884283</td>\n",
       "      <td>1</td>\n",
       "      <td>22.0</td>\n",
       "      <td>16.0</td>\n",
       "      <td>0.0</td>\n",
       "      <td>0</td>\n",
       "      <td>1.0</td>\n",
       "      <td>0.0</td>\n",
       "      <td>0.0</td>\n",
       "    </tr>\n",
       "    <tr>\n",
       "      <th>3</th>\n",
       "      <td>011108KA</td>\n",
       "      <td>702</td>\n",
       "      <td>702</td>\n",
       "      <td>702</td>\n",
       "      <td>N-experiment</td>\n",
       "      <td>0</td>\n",
       "      <td>Samara</td>\n",
       "      <td>1</td>\n",
       "      <td>10</td>\n",
       "      <td>10</td>\n",
       "      <td>...</td>\n",
       "      <td>8.050114</td>\n",
       "      <td>-0.884283</td>\n",
       "      <td>1</td>\n",
       "      <td>21.0</td>\n",
       "      <td>10.0</td>\n",
       "      <td>0.0</td>\n",
       "      <td>0</td>\n",
       "      <td>1.0</td>\n",
       "      <td>1.0</td>\n",
       "      <td>1.0</td>\n",
       "    </tr>\n",
       "    <tr>\n",
       "      <th>4</th>\n",
       "      <td>011108KA</td>\n",
       "      <td>702</td>\n",
       "      <td>702</td>\n",
       "      <td>702</td>\n",
       "      <td>N-experiment</td>\n",
       "      <td>0</td>\n",
       "      <td>Samara</td>\n",
       "      <td>1</td>\n",
       "      <td>10</td>\n",
       "      <td>20</td>\n",
       "      <td>...</td>\n",
       "      <td>8.050114</td>\n",
       "      <td>-0.884283</td>\n",
       "      <td>1</td>\n",
       "      <td>21.0</td>\n",
       "      <td>10.0</td>\n",
       "      <td>0.0</td>\n",
       "      <td>0</td>\n",
       "      <td>1.0</td>\n",
       "      <td>1.0</td>\n",
       "      <td>1.0</td>\n",
       "    </tr>\n",
       "  </tbody>\n",
       "</table>\n",
       "<p>5 rows × 22 columns</p>\n",
       "</div>"
      ],
      "text/plain": [
       "  sessionid  groupid  mgroupid  subjectid             p  secseq    city  \\\n",
       "0  011108KA      703       703        701  N-experiment       0  Samara   \n",
       "1  011108KA      703       703        701  N-experiment       0  Samara   \n",
       "2  011108KA      703       703        701  N-experiment       0  Samara   \n",
       "3  011108KA      702       702        702  N-experiment       0  Samara   \n",
       "4  011108KA      702       702        702  N-experiment       0  Samara   \n",
       "\n",
       "   period  senderscontribution  otherscontribution  ...     civic  ruleoflaw  \\\n",
       "0       1                   20                  18  ...  8.050114  -0.884283   \n",
       "1       1                   20                  10  ...  8.050114  -0.884283   \n",
       "2       1                   20                  10  ...  8.050114  -0.884283   \n",
       "3       1                   10                  10  ...  8.050114  -0.884283   \n",
       "4       1                   10                  20  ...  8.050114  -0.884283   \n",
       "\n",
       "   female   age  numknown  singlechild  ageu21  urbanbackground  middleclass  \\\n",
       "0       1  22.0      16.0          0.0       0              1.0          0.0   \n",
       "1       1  22.0      16.0          0.0       0              1.0          0.0   \n",
       "2       1  22.0      16.0          0.0       0              1.0          0.0   \n",
       "3       1  21.0      10.0          0.0       0              1.0          1.0   \n",
       "4       1  21.0      10.0          0.0       0              1.0          1.0   \n",
       "\n",
       "   membership  \n",
       "0         0.0  \n",
       "1         0.0  \n",
       "2         0.0  \n",
       "3         1.0  \n",
       "4         1.0  \n",
       "\n",
       "[5 rows x 22 columns]"
      ]
     },
     "execution_count": 83,
     "metadata": {},
     "output_type": "execute_result"
    }
   ],
   "source": [
    "data.head()"
   ]
  },
  {
   "cell_type": "code",
   "execution_count": 4,
   "metadata": {},
   "outputs": [],
   "source": [
    "## constants\n",
    "groupSize = 4\n",
    "ntrials = 10\n",
    "pi = 1.4\n",
    "ntokens = 20\n",
    "vals = list(range(21)) #possible values to contribute - from 0 to 20 tokens"
   ]
  },
  {
   "cell_type": "markdown",
   "metadata": {},
   "source": [
    "## Prelim checks"
   ]
  },
  {
   "cell_type": "code",
   "execution_count": 5,
   "metadata": {},
   "outputs": [
    {
     "data": {
      "text/plain": [
       "1120"
      ]
     },
     "execution_count": 5,
     "metadata": {},
     "output_type": "execute_result"
    }
   ],
   "source": [
    "len(set(data[\"subjectid\"])) #should be 1120"
   ]
  },
  {
   "cell_type": "code",
   "execution_count": 6,
   "metadata": {},
   "outputs": [
    {
     "data": {
      "text/plain": [
       "280"
      ]
     },
     "execution_count": 6,
     "metadata": {},
     "output_type": "execute_result"
    }
   ],
   "source": [
    "len(set(data[\"groupid\"]))"
   ]
  },
  {
   "cell_type": "code",
   "execution_count": 7,
   "metadata": {},
   "outputs": [
    {
     "data": {
      "text/plain": [
       "sessionid               object\n",
       "groupid                  int64\n",
       "mgroupid                 int64\n",
       "subjectid                int64\n",
       "p                       object\n",
       "secseq                   int64\n",
       "city                    object\n",
       "period                   int64\n",
       "senderscontribution      int64\n",
       "otherscontribution       int64\n",
       "punishment             float64\n",
       "recpun                 float64\n",
       "civic                  float64\n",
       "ruleoflaw              float64\n",
       "female                   int64\n",
       "age                    float64\n",
       "numknown               float64\n",
       "singlechild            float64\n",
       "ageu21                   int64\n",
       "urbanbackground        float64\n",
       "middleclass            float64\n",
       "membership             float64\n",
       "dtype: object"
      ]
     },
     "execution_count": 7,
     "metadata": {},
     "output_type": "execute_result"
    }
   ],
   "source": [
    "data.dtypes"
   ]
  },
  {
   "cell_type": "code",
   "execution_count": 8,
   "metadata": {},
   "outputs": [],
   "source": [
    "def get_gini(city):\n",
    "    if city == \"Melbourne\":\n",
    "        return 34.3\n",
    "    if city == \"Minsk\":\n",
    "        return 25.3\n",
    "    if city == \"Chengdu\":\n",
    "        return 38.5\n",
    "    if city == \"Copenhagen\":\n",
    "        return 28.7\n",
    "    if city == \"Bonn\":\n",
    "        return 31.9\n",
    "    if city == \"Athens\":\n",
    "        return 34.4\n",
    "    if city == \"Seoul\":\n",
    "        return 31.6\n",
    "    if city == \"Samara\":\n",
    "        return 37.5\n",
    "    if city == \"Zurich\":\n",
    "        return 32.7\n",
    "    if city == \"St. Gallen\":\n",
    "        return 32.7\n",
    "    if city == \"Istanbul\":\n",
    "        return 41.9\n",
    "    if city == \"Nottingham\":\n",
    "        return 34.8\n",
    "    if city == \"Dnipropetrovs'k\":\n",
    "        return 26.1\n",
    "    if city == \"Boston\":\n",
    "        return 41.1\n",
    "    \n",
    "data[\"gini\"] = data[\"city\"].apply(lambda x: get_gini(x))"
   ]
  },
  {
   "cell_type": "code",
   "execution_count": 9,
   "metadata": {},
   "outputs": [],
   "source": [
    "#data = data[data[\"gini\"].isna() == False]\n",
    "#data = data.dropna()"
   ]
  },
  {
   "cell_type": "code",
   "execution_count": 10,
   "metadata": {},
   "outputs": [
    {
     "data": {
      "text/plain": [
       "65880"
      ]
     },
     "execution_count": 10,
     "metadata": {},
     "output_type": "execute_result"
    }
   ],
   "source": [
    "len(data)"
   ]
  },
  {
   "cell_type": "code",
   "execution_count": 11,
   "metadata": {},
   "outputs": [],
   "source": [
    "redDat = data.iloc[::3, :] #get only every third row, the others are other responses that we don't need"
   ]
  },
  {
   "cell_type": "code",
   "execution_count": 12,
   "metadata": {},
   "outputs": [],
   "source": [
    "redDat.reset_index(inplace = True, drop = True)"
   ]
  },
  {
   "cell_type": "code",
   "execution_count": 13,
   "metadata": {},
   "outputs": [],
   "source": [
    "group_names = set(redDat[\"groupid\"])\n",
    "group_names = sorted(list(group_names))\n",
    "ngroups = len(group_names)\n",
    "\n",
    "### DOES SOMETHING FUCKED HERE\n",
    "\n",
    "subject_names = set(redDat[\"subjectid\"])\n",
    "nsubjects = len(subject_names)\n",
    "ngroups = 269"
   ]
  },
  {
   "cell_type": "code",
   "execution_count": 14,
   "metadata": {},
   "outputs": [],
   "source": [
    "## No punish initialized\n",
    "c_no_punish = np.zeros(shape = (groupSize, ntrials, ngroups))\n",
    "Ga_no_punish = np.zeros(shape = (ntrials, ngroups))\n",
    "Gc_no_punish = np.zeros(shape = (groupSize, ntrials, ngroups))\n",
    "\n",
    "#punished initialized\n",
    "c_punish = np.zeros(shape = (groupSize, ntrials, ngroups))\n",
    "Ga_punish = np.zeros(shape = (ntrials, ngroups))\n",
    "Gc_punish = np.zeros(shape = (groupSize, ntrials, ngroups))\n",
    "\n",
    "#missing vector\n",
    "missing = np.zeros(shape = (ngroups))"
   ]
  },
  {
   "cell_type": "code",
   "execution_count": 15,
   "metadata": {},
   "outputs": [],
   "source": [
    "for g in range(ngroups):\n",
    "    ### fancy way of fixing missing data - they will just become 0, \n",
    "    # and their position is then logged in \"missing\"-vector\n",
    "    try: \n",
    "        #no punish\n",
    "        c_no_punish[:,:,g][0] = redDat[(redDat[\"groupid\"] == group_names[g]) & (redDat[\"p\"] == \"N-experiment\")][\"senderscontribution\"][0:10].values\n",
    "        c_no_punish[:,:,g][1] = redDat[(redDat[\"groupid\"] == group_names[g]) & (redDat[\"p\"] == \"N-experiment\")][\"senderscontribution\"][10:20].values\n",
    "        c_no_punish[:,:,g][2] = redDat[(redDat[\"groupid\"] == group_names[g]) & (redDat[\"p\"] == \"N-experiment\")][\"senderscontribution\"][20:30].values\n",
    "        c_no_punish[:,:,g][3] = redDat[(redDat[\"groupid\"] == group_names[g]) & (redDat[\"p\"] == \"N-experiment\")][\"senderscontribution\"][30:40].values\n",
    "        \n",
    "        #punish\n",
    "        c_punish[:,:,g][0] = redDat[(redDat[\"groupid\"] == group_names[g]) & (redDat[\"p\"] == \"P-experiment\")][\"senderscontribution\"][0:10].values\n",
    "        c_punish[:,:,g][1] = redDat[(redDat[\"groupid\"] == group_names[g]) & (redDat[\"p\"] == \"P-experiment\")][\"senderscontribution\"][10:20].values\n",
    "        c_punish[:,:,g][2] = redDat[(redDat[\"groupid\"] == group_names[g]) & (redDat[\"p\"] == \"P-experiment\")][\"senderscontribution\"][20:30].values\n",
    "        c_punish[:,:,g][3] = redDat[(redDat[\"groupid\"] == group_names[g]) & (redDat[\"p\"] == \"P-experiment\")][\"senderscontribution\"][30:40].values\n",
    "    \n",
    "    except: #could be more general... \n",
    "        missing[g] = 1\n",
    "    \n",
    "    #make \"Ga\"\n",
    "    \n",
    "    Ga_no_punish[:,g] = c_no_punish[:,:,g].mean(axis=0)\n",
    "    Ga_punish[:,g] = c_punish[:,:,g].mean(axis=0)\n",
    "    \n",
    "    #make \"Gc\"\n",
    "    for s in range(groupSize):\n",
    "        Gc_no_punish[:,:,g][s] = np.delete(c_no_punish[:,:,g], s, 0).sum(axis=0) #just gives a single number though...\n",
    "        Gc_punish[:,:,g][s] = np.delete(c_punish[:,:,g], s, 0).sum(axis=0)"
   ]
  },
  {
   "cell_type": "markdown",
   "metadata": {},
   "source": [
    "### Concat the different conditions"
   ]
  },
  {
   "cell_type": "code",
   "execution_count": 16,
   "metadata": {},
   "outputs": [],
   "source": [
    "c = np.zeros(shape = (groupSize, ntrials, ngroups, 2))\n",
    "Ga = np.zeros(shape = (ntrials, ngroups, 2))"
   ]
  },
  {
   "cell_type": "code",
   "execution_count": 17,
   "metadata": {},
   "outputs": [
    {
     "data": {
      "text/plain": [
       "(4, 10, 269, 2)"
      ]
     },
     "execution_count": 17,
     "metadata": {},
     "output_type": "execute_result"
    }
   ],
   "source": [
    "c.shape"
   ]
  },
  {
   "cell_type": "code",
   "execution_count": 18,
   "metadata": {},
   "outputs": [],
   "source": [
    "c[:,:,:,0] = c_no_punish\n",
    "c[:,:,:,1] = c_punish\n",
    "\n",
    "Ga[:,:,0] = Ga_no_punish\n",
    "Ga[:,:,1] = Ga_punish"
   ]
  },
  {
   "cell_type": "markdown",
   "metadata": {},
   "source": [
    "### Gini Coefficient"
   ]
  },
  {
   "cell_type": "code",
   "execution_count": 19,
   "metadata": {},
   "outputs": [],
   "source": [
    "Gini = np.zeros(shape = ngroups)\n",
    "for g in range(ngroups):\n",
    "    Gini[g] = redDat[(redDat[\"groupid\"] == group_names[g]) & (redDat[\"p\"] == \"P-experiment\")][\"gini\"].values.mean()"
   ]
  },
  {
   "cell_type": "code",
   "execution_count": 20,
   "metadata": {},
   "outputs": [],
   "source": [
    "mask = np.isnan(Gini) == False"
   ]
  },
  {
   "cell_type": "code",
   "execution_count": 21,
   "metadata": {},
   "outputs": [],
   "source": [
    "Ga_punish = Ga_punish[:,mask]\n",
    "Ga_no_punish = Ga_no_punish[:,mask]\n",
    "\n",
    "c = c[:,:,mask,:]\n",
    "Ga = Ga[:,mask,:]\n",
    "#Gc = Gc[:,:,mask,:]\n",
    "Gini = Gini[mask]\n",
    "\n",
    "#get new ngroups\n",
    "ngroups = len(Gini)"
   ]
  },
  {
   "cell_type": "markdown",
   "metadata": {},
   "source": [
    "### Prelim check\n",
    "\n",
    "First we need to add all contributions in a group and multiply them by 1.4 and calculate the Pearson correlation between Gini coefficients and the earnings.\n"
   ]
  },
  {
   "cell_type": "markdown",
   "metadata": {},
   "source": [
    "### Heat map\n",
    "\n",
    "Lower Quartile (Gini < 31.6)\n",
    "Upper Quartile (Gini > 37.5)"
   ]
  },
  {
   "cell_type": "markdown",
   "metadata": {},
   "source": [
    "## Decay model\n",
    "\n",
    "$$c_{g,s,t}^\\mu = c^0_{g,s} \\cdot e^{-\\gamma_{s,g} \\cdot t}$$\n",
    "\n",
    "$$c^0_{g,s} = \\beta^c_0 + \\beta^c_{Gini} \\cdot Gini_g$$\n",
    "\n",
    "$$\\gamma_{s,g} = \\beta^\\gamma_0 + \\beta^\\gamma_{Gini} \\cdot Gini_g$$"
   ]
  },
  {
   "cell_type": "code",
   "execution_count": 58,
   "metadata": {},
   "outputs": [],
   "source": [
    "y = c[:,:,:,0]"
   ]
  },
  {
   "cell_type": "code",
   "execution_count": 59,
   "metadata": {},
   "outputs": [],
   "source": [
    "idx_g = np.arange(ngroups)\n",
    "idx_s = np.array([0,1,2,3])\n",
    "t = np.arange(ntrials)"
   ]
  },
  {
   "cell_type": "code",
   "execution_count": 60,
   "metadata": {},
   "outputs": [],
   "source": [
    "t_stack = np.stack((t,t,t,t))\n",
    "t_stack = t_stack.T\n"
   ]
  },
  {
   "cell_type": "code",
   "execution_count": 81,
   "metadata": {},
   "outputs": [
    {
     "data": {
      "text/plain": [
       "array([[32.7, 32.7, 32.7, 32.7],\n",
       "       [32.7, 32.7, 32.7, 32.7],\n",
       "       [32.7, 32.7, 32.7, 32.7],\n",
       "       [32.7, 32.7, 32.7, 32.7],\n",
       "       [32.7, 32.7, 32.7, 32.7],\n",
       "       [32.7, 32.7, 32.7, 32.7],\n",
       "       [32.7, 32.7, 32.7, 32.7],\n",
       "       [32.7, 32.7, 32.7, 32.7],\n",
       "       [32.7, 32.7, 32.7, 32.7],\n",
       "       [32.7, 32.7, 32.7, 32.7],\n",
       "       [32.7, 32.7, 32.7, 32.7],\n",
       "       [32.7, 32.7, 32.7, 32.7],\n",
       "       [32.7, 32.7, 32.7, 32.7],\n",
       "       [32.7, 32.7, 32.7, 32.7],\n",
       "       [32.7, 32.7, 32.7, 32.7],\n",
       "       [32.7, 32.7, 32.7, 32.7],\n",
       "       [32.7, 32.7, 32.7, 32.7],\n",
       "       [32.7, 32.7, 32.7, 32.7],\n",
       "       [32.7, 32.7, 32.7, 32.7],\n",
       "       [32.7, 32.7, 32.7, 32.7],\n",
       "       [32.7, 32.7, 32.7, 32.7],\n",
       "       [32.7, 32.7, 32.7, 32.7],\n",
       "       [32.7, 32.7, 32.7, 32.7],\n",
       "       [37.5, 37.5, 37.5, 37.5],\n",
       "       [37.5, 37.5, 37.5, 37.5],\n",
       "       [37.5, 37.5, 37.5, 37.5],\n",
       "       [37.5, 37.5, 37.5, 37.5],\n",
       "       [37.5, 37.5, 37.5, 37.5],\n",
       "       [37.5, 37.5, 37.5, 37.5],\n",
       "       [37.5, 37.5, 37.5, 37.5],\n",
       "       [37.5, 37.5, 37.5, 37.5],\n",
       "       [37.5, 37.5, 37.5, 37.5],\n",
       "       [37.5, 37.5, 37.5, 37.5],\n",
       "       [37.5, 37.5, 37.5, 37.5],\n",
       "       [37.5, 37.5, 37.5, 37.5],\n",
       "       [37.5, 37.5, 37.5, 37.5],\n",
       "       [37.5, 37.5, 37.5, 37.5],\n",
       "       [37.5, 37.5, 37.5, 37.5],\n",
       "       [37.5, 37.5, 37.5, 37.5],\n",
       "       [37.5, 37.5, 37.5, 37.5],\n",
       "       [37.5, 37.5, 37.5, 37.5],\n",
       "       [37.5, 37.5, 37.5, 37.5],\n",
       "       [37.5, 37.5, 37.5, 37.5],\n",
       "       [37.5, 37.5, 37.5, 37.5],\n",
       "       [37.5, 37.5, 37.5, 37.5],\n",
       "       [37.5, 37.5, 37.5, 37.5],\n",
       "       [37.5, 37.5, 37.5, 37.5],\n",
       "       [37.5, 37.5, 37.5, 37.5],\n",
       "       [37.5, 37.5, 37.5, 37.5],\n",
       "       [37.5, 37.5, 37.5, 37.5],\n",
       "       [37.5, 37.5, 37.5, 37.5],\n",
       "       [37.5, 37.5, 37.5, 37.5],\n",
       "       [37.5, 37.5, 37.5, 37.5],\n",
       "       [37.5, 37.5, 37.5, 37.5],\n",
       "       [37.5, 37.5, 37.5, 37.5],\n",
       "       [37.5, 37.5, 37.5, 37.5],\n",
       "       [37.5, 37.5, 37.5, 37.5],\n",
       "       [37.5, 37.5, 37.5, 37.5],\n",
       "       [37.5, 37.5, 37.5, 37.5],\n",
       "       [37.5, 37.5, 37.5, 37.5],\n",
       "       [37.5, 37.5, 37.5, 37.5],\n",
       "       [25.3, 25.3, 25.3, 25.3],\n",
       "       [25.3, 25.3, 25.3, 25.3],\n",
       "       [25.3, 25.3, 25.3, 25.3],\n",
       "       [25.3, 25.3, 25.3, 25.3],\n",
       "       [25.3, 25.3, 25.3, 25.3],\n",
       "       [25.3, 25.3, 25.3, 25.3],\n",
       "       [25.3, 25.3, 25.3, 25.3],\n",
       "       [25.3, 25.3, 25.3, 25.3],\n",
       "       [25.3, 25.3, 25.3, 25.3],\n",
       "       [25.3, 25.3, 25.3, 25.3],\n",
       "       [25.3, 25.3, 25.3, 25.3],\n",
       "       [25.3, 25.3, 25.3, 25.3],\n",
       "       [25.3, 25.3, 25.3, 25.3],\n",
       "       [25.3, 25.3, 25.3, 25.3],\n",
       "       [25.3, 25.3, 25.3, 25.3],\n",
       "       [25.3, 25.3, 25.3, 25.3],\n",
       "       [25.3, 25.3, 25.3, 25.3],\n",
       "       [41.1, 41.1, 41.1, 41.1],\n",
       "       [41.1, 41.1, 41.1, 41.1],\n",
       "       [41.1, 41.1, 41.1, 41.1],\n",
       "       [41.1, 41.1, 41.1, 41.1],\n",
       "       [41.1, 41.1, 41.1, 41.1],\n",
       "       [41.1, 41.1, 41.1, 41.1],\n",
       "       [41.1, 41.1, 41.1, 41.1],\n",
       "       [41.1, 41.1, 41.1, 41.1],\n",
       "       [41.1, 41.1, 41.1, 41.1],\n",
       "       [41.1, 41.1, 41.1, 41.1],\n",
       "       [41.1, 41.1, 41.1, 41.1],\n",
       "       [41.1, 41.1, 41.1, 41.1],\n",
       "       [41.1, 41.1, 41.1, 41.1],\n",
       "       [41.1, 41.1, 41.1, 41.1],\n",
       "       [32.7, 32.7, 32.7, 32.7],\n",
       "       [32.7, 32.7, 32.7, 32.7],\n",
       "       [32.7, 32.7, 32.7, 32.7],\n",
       "       [32.7, 32.7, 32.7, 32.7],\n",
       "       [32.7, 32.7, 32.7, 32.7],\n",
       "       [32.7, 32.7, 32.7, 32.7],\n",
       "       [32.7, 32.7, 32.7, 32.7],\n",
       "       [32.7, 32.7, 32.7, 32.7],\n",
       "       [32.7, 32.7, 32.7, 32.7],\n",
       "       [32.7, 32.7, 32.7, 32.7],\n",
       "       [32.7, 32.7, 32.7, 32.7],\n",
       "       [32.7, 32.7, 32.7, 32.7],\n",
       "       [28.7, 28.7, 28.7, 28.7],\n",
       "       [28.7, 28.7, 28.7, 28.7],\n",
       "       [28.7, 28.7, 28.7, 28.7],\n",
       "       [28.7, 28.7, 28.7, 28.7],\n",
       "       [28.7, 28.7, 28.7, 28.7],\n",
       "       [34.8, 34.8, 34.8, 34.8],\n",
       "       [34.8, 34.8, 34.8, 34.8],\n",
       "       [34.8, 34.8, 34.8, 34.8],\n",
       "       [34.8, 34.8, 34.8, 34.8],\n",
       "       [34.8, 34.8, 34.8, 34.8],\n",
       "       [34.8, 34.8, 34.8, 34.8],\n",
       "       [32.7, 32.7, 32.7, 32.7],\n",
       "       [32.7, 32.7, 32.7, 32.7],\n",
       "       [32.7, 32.7, 32.7, 32.7],\n",
       "       [32.7, 32.7, 32.7, 32.7],\n",
       "       [32.7, 32.7, 32.7, 32.7],\n",
       "       [32.7, 32.7, 32.7, 32.7],\n",
       "       [32.7, 32.7, 32.7, 32.7],\n",
       "       [32.7, 32.7, 32.7, 32.7],\n",
       "       [32.7, 32.7, 32.7, 32.7],\n",
       "       [32.7, 32.7, 32.7, 32.7],\n",
       "       [32.7, 32.7, 32.7, 32.7],\n",
       "       [32.7, 32.7, 32.7, 32.7],\n",
       "       [28.7, 28.7, 28.7, 28.7],\n",
       "       [28.7, 28.7, 28.7, 28.7],\n",
       "       [26.1, 26.1, 26.1, 26.1],\n",
       "       [26.1, 26.1, 26.1, 26.1],\n",
       "       [26.1, 26.1, 26.1, 26.1],\n",
       "       [26.1, 26.1, 26.1, 26.1],\n",
       "       [26.1, 26.1, 26.1, 26.1],\n",
       "       [26.1, 26.1, 26.1, 26.1],\n",
       "       [26.1, 26.1, 26.1, 26.1],\n",
       "       [26.1, 26.1, 26.1, 26.1],\n",
       "       [26.1, 26.1, 26.1, 26.1],\n",
       "       [26.1, 26.1, 26.1, 26.1],\n",
       "       [26.1, 26.1, 26.1, 26.1],\n",
       "       [34.8, 34.8, 34.8, 34.8],\n",
       "       [34.8, 34.8, 34.8, 34.8],\n",
       "       [34.8, 34.8, 34.8, 34.8],\n",
       "       [34.8, 34.8, 34.8, 34.8],\n",
       "       [34.8, 34.8, 34.8, 34.8],\n",
       "       [34.8, 34.8, 34.8, 34.8],\n",
       "       [34.8, 34.8, 34.8, 34.8],\n",
       "       [34.8, 34.8, 34.8, 34.8],\n",
       "       [41.9, 41.9, 41.9, 41.9],\n",
       "       [41.9, 41.9, 41.9, 41.9],\n",
       "       [41.9, 41.9, 41.9, 41.9],\n",
       "       [41.9, 41.9, 41.9, 41.9],\n",
       "       [41.9, 41.9, 41.9, 41.9],\n",
       "       [41.9, 41.9, 41.9, 41.9],\n",
       "       [41.9, 41.9, 41.9, 41.9],\n",
       "       [41.9, 41.9, 41.9, 41.9],\n",
       "       [41.9, 41.9, 41.9, 41.9],\n",
       "       [41.9, 41.9, 41.9, 41.9],\n",
       "       [41.9, 41.9, 41.9, 41.9],\n",
       "       [41.9, 41.9, 41.9, 41.9],\n",
       "       [41.9, 41.9, 41.9, 41.9],\n",
       "       [41.9, 41.9, 41.9, 41.9],\n",
       "       [41.9, 41.9, 41.9, 41.9],\n",
       "       [41.9, 41.9, 41.9, 41.9],\n",
       "       [38.5, 38.5, 38.5, 38.5],\n",
       "       [38.5, 38.5, 38.5, 38.5],\n",
       "       [38.5, 38.5, 38.5, 38.5],\n",
       "       [38.5, 38.5, 38.5, 38.5],\n",
       "       [38.5, 38.5, 38.5, 38.5],\n",
       "       [38.5, 38.5, 38.5, 38.5],\n",
       "       [38.5, 38.5, 38.5, 38.5],\n",
       "       [38.5, 38.5, 38.5, 38.5],\n",
       "       [38.5, 38.5, 38.5, 38.5],\n",
       "       [38.5, 38.5, 38.5, 38.5],\n",
       "       [38.5, 38.5, 38.5, 38.5],\n",
       "       [38.5, 38.5, 38.5, 38.5],\n",
       "       [38.5, 38.5, 38.5, 38.5],\n",
       "       [38.5, 38.5, 38.5, 38.5],\n",
       "       [38.5, 38.5, 38.5, 38.5],\n",
       "       [38.5, 38.5, 38.5, 38.5],\n",
       "       [38.5, 38.5, 38.5, 38.5],\n",
       "       [38.5, 38.5, 38.5, 38.5],\n",
       "       [38.5, 38.5, 38.5, 38.5],\n",
       "       [38.5, 38.5, 38.5, 38.5],\n",
       "       [38.5, 38.5, 38.5, 38.5],\n",
       "       [38.5, 38.5, 38.5, 38.5],\n",
       "       [38.5, 38.5, 38.5, 38.5],\n",
       "       [38.5, 38.5, 38.5, 38.5],\n",
       "       [31.6, 31.6, 31.6, 31.6],\n",
       "       [31.6, 31.6, 31.6, 31.6],\n",
       "       [31.6, 31.6, 31.6, 31.6],\n",
       "       [31.6, 31.6, 31.6, 31.6],\n",
       "       [31.6, 31.6, 31.6, 31.6],\n",
       "       [31.6, 31.6, 31.6, 31.6],\n",
       "       [31.6, 31.6, 31.6, 31.6],\n",
       "       [31.6, 31.6, 31.6, 31.6],\n",
       "       [31.6, 31.6, 31.6, 31.6],\n",
       "       [31.6, 31.6, 31.6, 31.6],\n",
       "       [31.6, 31.6, 31.6, 31.6],\n",
       "       [31.6, 31.6, 31.6, 31.6],\n",
       "       [31.6, 31.6, 31.6, 31.6],\n",
       "       [31.6, 31.6, 31.6, 31.6],\n",
       "       [31.6, 31.6, 31.6, 31.6],\n",
       "       [31.6, 31.6, 31.6, 31.6],\n",
       "       [31.6, 31.6, 31.6, 31.6],\n",
       "       [31.6, 31.6, 31.6, 31.6],\n",
       "       [31.6, 31.6, 31.6, 31.6],\n",
       "       [31.6, 31.6, 31.6, 31.6],\n",
       "       [31.6, 31.6, 31.6, 31.6],\n",
       "       [31.9, 31.9, 31.9, 31.9],\n",
       "       [31.9, 31.9, 31.9, 31.9],\n",
       "       [31.9, 31.9, 31.9, 31.9],\n",
       "       [31.9, 31.9, 31.9, 31.9],\n",
       "       [31.9, 31.9, 31.9, 31.9],\n",
       "       [31.9, 31.9, 31.9, 31.9],\n",
       "       [31.9, 31.9, 31.9, 31.9],\n",
       "       [31.9, 31.9, 31.9, 31.9],\n",
       "       [31.9, 31.9, 31.9, 31.9],\n",
       "       [31.9, 31.9, 31.9, 31.9],\n",
       "       [31.9, 31.9, 31.9, 31.9],\n",
       "       [31.9, 31.9, 31.9, 31.9],\n",
       "       [31.9, 31.9, 31.9, 31.9],\n",
       "       [31.9, 31.9, 31.9, 31.9],\n",
       "       [31.9, 31.9, 31.9, 31.9],\n",
       "       [28.7, 28.7, 28.7, 28.7],\n",
       "       [28.7, 28.7, 28.7, 28.7],\n",
       "       [28.7, 28.7, 28.7, 28.7],\n",
       "       [28.7, 28.7, 28.7, 28.7],\n",
       "       [28.7, 28.7, 28.7, 28.7],\n",
       "       [28.7, 28.7, 28.7, 28.7],\n",
       "       [28.7, 28.7, 28.7, 28.7],\n",
       "       [28.7, 28.7, 28.7, 28.7],\n",
       "       [28.7, 28.7, 28.7, 28.7],\n",
       "       [28.7, 28.7, 28.7, 28.7],\n",
       "       [34.4, 34.4, 34.4, 34.4],\n",
       "       [34.4, 34.4, 34.4, 34.4],\n",
       "       [34.4, 34.4, 34.4, 34.4],\n",
       "       [34.4, 34.4, 34.4, 34.4],\n",
       "       [34.4, 34.4, 34.4, 34.4],\n",
       "       [34.4, 34.4, 34.4, 34.4],\n",
       "       [34.4, 34.4, 34.4, 34.4],\n",
       "       [34.4, 34.4, 34.4, 34.4],\n",
       "       [34.4, 34.4, 34.4, 34.4],\n",
       "       [34.4, 34.4, 34.4, 34.4]])"
      ]
     },
     "execution_count": 81,
     "metadata": {},
     "output_type": "execute_result"
    }
   ],
   "source": [
    "Gini_stack"
   ]
  },
  {
   "cell_type": "code",
   "execution_count": 61,
   "metadata": {},
   "outputs": [],
   "source": [
    "Gini_stack = np.stack((Gini, Gini, Gini, Gini))\n",
    "Gini_stack = Gini_stack.T"
   ]
  },
  {
   "cell_type": "code",
   "execution_count": 62,
   "metadata": {},
   "outputs": [
    {
     "data": {
      "text/plain": [
       "(4, 10, 244)"
      ]
     },
     "execution_count": 62,
     "metadata": {},
     "output_type": "execute_result"
    }
   ],
   "source": [
    "y.shape"
   ]
  },
  {
   "cell_type": "code",
   "execution_count": 63,
   "metadata": {},
   "outputs": [
    {
     "data": {
      "text/plain": [
       "(244, 4)"
      ]
     },
     "execution_count": 63,
     "metadata": {},
     "output_type": "execute_result"
    }
   ],
   "source": [
    "Gini_stack.shape"
   ]
  },
  {
   "cell_type": "code",
   "execution_count": 64,
   "metadata": {},
   "outputs": [],
   "source": [
    "idx_s = idx_s[:, None]\n",
    "#idx_g = idx_g[:,None]"
   ]
  },
  {
   "cell_type": "code",
   "execution_count": 65,
   "metadata": {},
   "outputs": [
    {
     "data": {
      "text/plain": [
       "array([[0],\n",
       "       [1],\n",
       "       [2],\n",
       "       [3]])"
      ]
     },
     "execution_count": 65,
     "metadata": {},
     "output_type": "execute_result"
    }
   ],
   "source": [
    "idx_s"
   ]
  },
  {
   "cell_type": "code",
   "execution_count": 66,
   "metadata": {},
   "outputs": [
    {
     "data": {
      "text/plain": [
       "array([  0,   1,   2,   3,   4,   5,   6,   7,   8,   9,  10,  11,  12,\n",
       "        13,  14,  15,  16,  17,  18,  19,  20,  21,  22,  23,  24,  25,\n",
       "        26,  27,  28,  29,  30,  31,  32,  33,  34,  35,  36,  37,  38,\n",
       "        39,  40,  41,  42,  43,  44,  45,  46,  47,  48,  49,  50,  51,\n",
       "        52,  53,  54,  55,  56,  57,  58,  59,  60,  61,  62,  63,  64,\n",
       "        65,  66,  67,  68,  69,  70,  71,  72,  73,  74,  75,  76,  77,\n",
       "        78,  79,  80,  81,  82,  83,  84,  85,  86,  87,  88,  89,  90,\n",
       "        91,  92,  93,  94,  95,  96,  97,  98,  99, 100, 101, 102, 103,\n",
       "       104, 105, 106, 107, 108, 109, 110, 111, 112, 113, 114, 115, 116,\n",
       "       117, 118, 119, 120, 121, 122, 123, 124, 125, 126, 127, 128, 129,\n",
       "       130, 131, 132, 133, 134, 135, 136, 137, 138, 139, 140, 141, 142,\n",
       "       143, 144, 145, 146, 147, 148, 149, 150, 151, 152, 153, 154, 155,\n",
       "       156, 157, 158, 159, 160, 161, 162, 163, 164, 165, 166, 167, 168,\n",
       "       169, 170, 171, 172, 173, 174, 175, 176, 177, 178, 179, 180, 181,\n",
       "       182, 183, 184, 185, 186, 187, 188, 189, 190, 191, 192, 193, 194,\n",
       "       195, 196, 197, 198, 199, 200, 201, 202, 203, 204, 205, 206, 207,\n",
       "       208, 209, 210, 211, 212, 213, 214, 215, 216, 217, 218, 219, 220,\n",
       "       221, 222, 223, 224, 225, 226, 227, 228, 229, 230, 231, 232, 233,\n",
       "       234, 235, 236, 237, 238, 239, 240, 241, 242, 243])"
      ]
     },
     "execution_count": 66,
     "metadata": {},
     "output_type": "execute_result"
    }
   ],
   "source": [
    "idx_g"
   ]
  },
  {
   "cell_type": "code",
   "execution_count": 67,
   "metadata": {},
   "outputs": [
    {
     "data": {
      "text/plain": [
       "array([[32.7, 32.7, 32.7, 32.7, 32.7, 32.7, 32.7, 32.7, 32.7, 32.7, 32.7,\n",
       "        32.7, 32.7, 32.7, 32.7, 32.7, 32.7, 32.7, 32.7, 32.7, 32.7, 32.7,\n",
       "        32.7, 37.5, 37.5, 37.5, 37.5, 37.5, 37.5, 37.5, 37.5, 37.5, 37.5,\n",
       "        37.5, 37.5, 37.5, 37.5, 37.5, 37.5, 37.5, 37.5, 37.5, 37.5, 37.5,\n",
       "        37.5, 37.5, 37.5, 37.5, 37.5, 37.5, 37.5, 37.5, 37.5, 37.5, 37.5,\n",
       "        37.5, 37.5, 37.5, 37.5, 37.5, 37.5, 25.3, 25.3, 25.3, 25.3, 25.3,\n",
       "        25.3, 25.3, 25.3, 25.3, 25.3, 25.3, 25.3, 25.3, 25.3, 25.3, 25.3,\n",
       "        25.3, 41.1, 41.1, 41.1, 41.1, 41.1, 41.1, 41.1, 41.1, 41.1, 41.1,\n",
       "        41.1, 41.1, 41.1, 41.1, 32.7, 32.7, 32.7, 32.7, 32.7, 32.7, 32.7,\n",
       "        32.7, 32.7, 32.7, 32.7, 32.7, 28.7, 28.7, 28.7, 28.7, 28.7, 34.8,\n",
       "        34.8, 34.8, 34.8, 34.8, 34.8, 32.7, 32.7, 32.7, 32.7, 32.7, 32.7,\n",
       "        32.7, 32.7, 32.7, 32.7, 32.7, 32.7, 28.7, 28.7, 26.1, 26.1, 26.1,\n",
       "        26.1, 26.1, 26.1, 26.1, 26.1, 26.1, 26.1, 26.1, 34.8, 34.8, 34.8,\n",
       "        34.8, 34.8, 34.8, 34.8, 34.8, 41.9, 41.9, 41.9, 41.9, 41.9, 41.9,\n",
       "        41.9, 41.9, 41.9, 41.9, 41.9, 41.9, 41.9, 41.9, 41.9, 41.9, 38.5,\n",
       "        38.5, 38.5, 38.5, 38.5, 38.5, 38.5, 38.5, 38.5, 38.5, 38.5, 38.5,\n",
       "        38.5, 38.5, 38.5, 38.5, 38.5, 38.5, 38.5, 38.5, 38.5, 38.5, 38.5,\n",
       "        38.5, 31.6, 31.6, 31.6, 31.6, 31.6, 31.6, 31.6, 31.6, 31.6, 31.6,\n",
       "        31.6, 31.6, 31.6, 31.6, 31.6, 31.6, 31.6, 31.6, 31.6, 31.6, 31.6,\n",
       "        31.9, 31.9, 31.9, 31.9, 31.9, 31.9, 31.9, 31.9, 31.9, 31.9, 31.9,\n",
       "        31.9, 31.9, 31.9, 31.9, 28.7, 28.7, 28.7, 28.7, 28.7, 28.7, 28.7,\n",
       "        28.7, 28.7, 28.7, 34.4, 34.4, 34.4, 34.4, 34.4, 34.4, 34.4, 34.4,\n",
       "        34.4, 34.4],\n",
       "       [32.7, 32.7, 32.7, 32.7, 32.7, 32.7, 32.7, 32.7, 32.7, 32.7, 32.7,\n",
       "        32.7, 32.7, 32.7, 32.7, 32.7, 32.7, 32.7, 32.7, 32.7, 32.7, 32.7,\n",
       "        32.7, 37.5, 37.5, 37.5, 37.5, 37.5, 37.5, 37.5, 37.5, 37.5, 37.5,\n",
       "        37.5, 37.5, 37.5, 37.5, 37.5, 37.5, 37.5, 37.5, 37.5, 37.5, 37.5,\n",
       "        37.5, 37.5, 37.5, 37.5, 37.5, 37.5, 37.5, 37.5, 37.5, 37.5, 37.5,\n",
       "        37.5, 37.5, 37.5, 37.5, 37.5, 37.5, 25.3, 25.3, 25.3, 25.3, 25.3,\n",
       "        25.3, 25.3, 25.3, 25.3, 25.3, 25.3, 25.3, 25.3, 25.3, 25.3, 25.3,\n",
       "        25.3, 41.1, 41.1, 41.1, 41.1, 41.1, 41.1, 41.1, 41.1, 41.1, 41.1,\n",
       "        41.1, 41.1, 41.1, 41.1, 32.7, 32.7, 32.7, 32.7, 32.7, 32.7, 32.7,\n",
       "        32.7, 32.7, 32.7, 32.7, 32.7, 28.7, 28.7, 28.7, 28.7, 28.7, 34.8,\n",
       "        34.8, 34.8, 34.8, 34.8, 34.8, 32.7, 32.7, 32.7, 32.7, 32.7, 32.7,\n",
       "        32.7, 32.7, 32.7, 32.7, 32.7, 32.7, 28.7, 28.7, 26.1, 26.1, 26.1,\n",
       "        26.1, 26.1, 26.1, 26.1, 26.1, 26.1, 26.1, 26.1, 34.8, 34.8, 34.8,\n",
       "        34.8, 34.8, 34.8, 34.8, 34.8, 41.9, 41.9, 41.9, 41.9, 41.9, 41.9,\n",
       "        41.9, 41.9, 41.9, 41.9, 41.9, 41.9, 41.9, 41.9, 41.9, 41.9, 38.5,\n",
       "        38.5, 38.5, 38.5, 38.5, 38.5, 38.5, 38.5, 38.5, 38.5, 38.5, 38.5,\n",
       "        38.5, 38.5, 38.5, 38.5, 38.5, 38.5, 38.5, 38.5, 38.5, 38.5, 38.5,\n",
       "        38.5, 31.6, 31.6, 31.6, 31.6, 31.6, 31.6, 31.6, 31.6, 31.6, 31.6,\n",
       "        31.6, 31.6, 31.6, 31.6, 31.6, 31.6, 31.6, 31.6, 31.6, 31.6, 31.6,\n",
       "        31.9, 31.9, 31.9, 31.9, 31.9, 31.9, 31.9, 31.9, 31.9, 31.9, 31.9,\n",
       "        31.9, 31.9, 31.9, 31.9, 28.7, 28.7, 28.7, 28.7, 28.7, 28.7, 28.7,\n",
       "        28.7, 28.7, 28.7, 34.4, 34.4, 34.4, 34.4, 34.4, 34.4, 34.4, 34.4,\n",
       "        34.4, 34.4],\n",
       "       [32.7, 32.7, 32.7, 32.7, 32.7, 32.7, 32.7, 32.7, 32.7, 32.7, 32.7,\n",
       "        32.7, 32.7, 32.7, 32.7, 32.7, 32.7, 32.7, 32.7, 32.7, 32.7, 32.7,\n",
       "        32.7, 37.5, 37.5, 37.5, 37.5, 37.5, 37.5, 37.5, 37.5, 37.5, 37.5,\n",
       "        37.5, 37.5, 37.5, 37.5, 37.5, 37.5, 37.5, 37.5, 37.5, 37.5, 37.5,\n",
       "        37.5, 37.5, 37.5, 37.5, 37.5, 37.5, 37.5, 37.5, 37.5, 37.5, 37.5,\n",
       "        37.5, 37.5, 37.5, 37.5, 37.5, 37.5, 25.3, 25.3, 25.3, 25.3, 25.3,\n",
       "        25.3, 25.3, 25.3, 25.3, 25.3, 25.3, 25.3, 25.3, 25.3, 25.3, 25.3,\n",
       "        25.3, 41.1, 41.1, 41.1, 41.1, 41.1, 41.1, 41.1, 41.1, 41.1, 41.1,\n",
       "        41.1, 41.1, 41.1, 41.1, 32.7, 32.7, 32.7, 32.7, 32.7, 32.7, 32.7,\n",
       "        32.7, 32.7, 32.7, 32.7, 32.7, 28.7, 28.7, 28.7, 28.7, 28.7, 34.8,\n",
       "        34.8, 34.8, 34.8, 34.8, 34.8, 32.7, 32.7, 32.7, 32.7, 32.7, 32.7,\n",
       "        32.7, 32.7, 32.7, 32.7, 32.7, 32.7, 28.7, 28.7, 26.1, 26.1, 26.1,\n",
       "        26.1, 26.1, 26.1, 26.1, 26.1, 26.1, 26.1, 26.1, 34.8, 34.8, 34.8,\n",
       "        34.8, 34.8, 34.8, 34.8, 34.8, 41.9, 41.9, 41.9, 41.9, 41.9, 41.9,\n",
       "        41.9, 41.9, 41.9, 41.9, 41.9, 41.9, 41.9, 41.9, 41.9, 41.9, 38.5,\n",
       "        38.5, 38.5, 38.5, 38.5, 38.5, 38.5, 38.5, 38.5, 38.5, 38.5, 38.5,\n",
       "        38.5, 38.5, 38.5, 38.5, 38.5, 38.5, 38.5, 38.5, 38.5, 38.5, 38.5,\n",
       "        38.5, 31.6, 31.6, 31.6, 31.6, 31.6, 31.6, 31.6, 31.6, 31.6, 31.6,\n",
       "        31.6, 31.6, 31.6, 31.6, 31.6, 31.6, 31.6, 31.6, 31.6, 31.6, 31.6,\n",
       "        31.9, 31.9, 31.9, 31.9, 31.9, 31.9, 31.9, 31.9, 31.9, 31.9, 31.9,\n",
       "        31.9, 31.9, 31.9, 31.9, 28.7, 28.7, 28.7, 28.7, 28.7, 28.7, 28.7,\n",
       "        28.7, 28.7, 28.7, 34.4, 34.4, 34.4, 34.4, 34.4, 34.4, 34.4, 34.4,\n",
       "        34.4, 34.4],\n",
       "       [32.7, 32.7, 32.7, 32.7, 32.7, 32.7, 32.7, 32.7, 32.7, 32.7, 32.7,\n",
       "        32.7, 32.7, 32.7, 32.7, 32.7, 32.7, 32.7, 32.7, 32.7, 32.7, 32.7,\n",
       "        32.7, 37.5, 37.5, 37.5, 37.5, 37.5, 37.5, 37.5, 37.5, 37.5, 37.5,\n",
       "        37.5, 37.5, 37.5, 37.5, 37.5, 37.5, 37.5, 37.5, 37.5, 37.5, 37.5,\n",
       "        37.5, 37.5, 37.5, 37.5, 37.5, 37.5, 37.5, 37.5, 37.5, 37.5, 37.5,\n",
       "        37.5, 37.5, 37.5, 37.5, 37.5, 37.5, 25.3, 25.3, 25.3, 25.3, 25.3,\n",
       "        25.3, 25.3, 25.3, 25.3, 25.3, 25.3, 25.3, 25.3, 25.3, 25.3, 25.3,\n",
       "        25.3, 41.1, 41.1, 41.1, 41.1, 41.1, 41.1, 41.1, 41.1, 41.1, 41.1,\n",
       "        41.1, 41.1, 41.1, 41.1, 32.7, 32.7, 32.7, 32.7, 32.7, 32.7, 32.7,\n",
       "        32.7, 32.7, 32.7, 32.7, 32.7, 28.7, 28.7, 28.7, 28.7, 28.7, 34.8,\n",
       "        34.8, 34.8, 34.8, 34.8, 34.8, 32.7, 32.7, 32.7, 32.7, 32.7, 32.7,\n",
       "        32.7, 32.7, 32.7, 32.7, 32.7, 32.7, 28.7, 28.7, 26.1, 26.1, 26.1,\n",
       "        26.1, 26.1, 26.1, 26.1, 26.1, 26.1, 26.1, 26.1, 34.8, 34.8, 34.8,\n",
       "        34.8, 34.8, 34.8, 34.8, 34.8, 41.9, 41.9, 41.9, 41.9, 41.9, 41.9,\n",
       "        41.9, 41.9, 41.9, 41.9, 41.9, 41.9, 41.9, 41.9, 41.9, 41.9, 38.5,\n",
       "        38.5, 38.5, 38.5, 38.5, 38.5, 38.5, 38.5, 38.5, 38.5, 38.5, 38.5,\n",
       "        38.5, 38.5, 38.5, 38.5, 38.5, 38.5, 38.5, 38.5, 38.5, 38.5, 38.5,\n",
       "        38.5, 31.6, 31.6, 31.6, 31.6, 31.6, 31.6, 31.6, 31.6, 31.6, 31.6,\n",
       "        31.6, 31.6, 31.6, 31.6, 31.6, 31.6, 31.6, 31.6, 31.6, 31.6, 31.6,\n",
       "        31.9, 31.9, 31.9, 31.9, 31.9, 31.9, 31.9, 31.9, 31.9, 31.9, 31.9,\n",
       "        31.9, 31.9, 31.9, 31.9, 28.7, 28.7, 28.7, 28.7, 28.7, 28.7, 28.7,\n",
       "        28.7, 28.7, 28.7, 34.4, 34.4, 34.4, 34.4, 34.4, 34.4, 34.4, 34.4,\n",
       "        34.4, 34.4]])"
      ]
     },
     "execution_count": 67,
     "metadata": {},
     "output_type": "execute_result"
    }
   ],
   "source": [
    "Gini_stack[idx_g, idx_s]"
   ]
  },
  {
   "cell_type": "code",
   "execution_count": 76,
   "metadata": {},
   "outputs": [
    {
     "data": {
      "text/plain": [
       "array([[32.7, 32.7, 32.7, 32.7],\n",
       "       [32.7, 32.7, 32.7, 32.7],\n",
       "       [32.7, 32.7, 32.7, 32.7],\n",
       "       [32.7, 32.7, 32.7, 32.7],\n",
       "       [32.7, 32.7, 32.7, 32.7],\n",
       "       [32.7, 32.7, 32.7, 32.7],\n",
       "       [32.7, 32.7, 32.7, 32.7],\n",
       "       [32.7, 32.7, 32.7, 32.7],\n",
       "       [32.7, 32.7, 32.7, 32.7],\n",
       "       [32.7, 32.7, 32.7, 32.7],\n",
       "       [32.7, 32.7, 32.7, 32.7],\n",
       "       [32.7, 32.7, 32.7, 32.7],\n",
       "       [32.7, 32.7, 32.7, 32.7],\n",
       "       [32.7, 32.7, 32.7, 32.7],\n",
       "       [32.7, 32.7, 32.7, 32.7],\n",
       "       [32.7, 32.7, 32.7, 32.7],\n",
       "       [32.7, 32.7, 32.7, 32.7],\n",
       "       [32.7, 32.7, 32.7, 32.7],\n",
       "       [32.7, 32.7, 32.7, 32.7],\n",
       "       [32.7, 32.7, 32.7, 32.7],\n",
       "       [32.7, 32.7, 32.7, 32.7],\n",
       "       [32.7, 32.7, 32.7, 32.7],\n",
       "       [32.7, 32.7, 32.7, 32.7],\n",
       "       [37.5, 37.5, 37.5, 37.5],\n",
       "       [37.5, 37.5, 37.5, 37.5],\n",
       "       [37.5, 37.5, 37.5, 37.5],\n",
       "       [37.5, 37.5, 37.5, 37.5],\n",
       "       [37.5, 37.5, 37.5, 37.5],\n",
       "       [37.5, 37.5, 37.5, 37.5],\n",
       "       [37.5, 37.5, 37.5, 37.5],\n",
       "       [37.5, 37.5, 37.5, 37.5],\n",
       "       [37.5, 37.5, 37.5, 37.5],\n",
       "       [37.5, 37.5, 37.5, 37.5],\n",
       "       [37.5, 37.5, 37.5, 37.5],\n",
       "       [37.5, 37.5, 37.5, 37.5],\n",
       "       [37.5, 37.5, 37.5, 37.5],\n",
       "       [37.5, 37.5, 37.5, 37.5],\n",
       "       [37.5, 37.5, 37.5, 37.5],\n",
       "       [37.5, 37.5, 37.5, 37.5],\n",
       "       [37.5, 37.5, 37.5, 37.5],\n",
       "       [37.5, 37.5, 37.5, 37.5],\n",
       "       [37.5, 37.5, 37.5, 37.5],\n",
       "       [37.5, 37.5, 37.5, 37.5],\n",
       "       [37.5, 37.5, 37.5, 37.5],\n",
       "       [37.5, 37.5, 37.5, 37.5],\n",
       "       [37.5, 37.5, 37.5, 37.5],\n",
       "       [37.5, 37.5, 37.5, 37.5],\n",
       "       [37.5, 37.5, 37.5, 37.5],\n",
       "       [37.5, 37.5, 37.5, 37.5],\n",
       "       [37.5, 37.5, 37.5, 37.5],\n",
       "       [37.5, 37.5, 37.5, 37.5],\n",
       "       [37.5, 37.5, 37.5, 37.5],\n",
       "       [37.5, 37.5, 37.5, 37.5],\n",
       "       [37.5, 37.5, 37.5, 37.5],\n",
       "       [37.5, 37.5, 37.5, 37.5],\n",
       "       [37.5, 37.5, 37.5, 37.5],\n",
       "       [37.5, 37.5, 37.5, 37.5],\n",
       "       [37.5, 37.5, 37.5, 37.5],\n",
       "       [37.5, 37.5, 37.5, 37.5],\n",
       "       [37.5, 37.5, 37.5, 37.5],\n",
       "       [37.5, 37.5, 37.5, 37.5],\n",
       "       [25.3, 25.3, 25.3, 25.3],\n",
       "       [25.3, 25.3, 25.3, 25.3],\n",
       "       [25.3, 25.3, 25.3, 25.3],\n",
       "       [25.3, 25.3, 25.3, 25.3],\n",
       "       [25.3, 25.3, 25.3, 25.3],\n",
       "       [25.3, 25.3, 25.3, 25.3],\n",
       "       [25.3, 25.3, 25.3, 25.3],\n",
       "       [25.3, 25.3, 25.3, 25.3],\n",
       "       [25.3, 25.3, 25.3, 25.3],\n",
       "       [25.3, 25.3, 25.3, 25.3],\n",
       "       [25.3, 25.3, 25.3, 25.3],\n",
       "       [25.3, 25.3, 25.3, 25.3],\n",
       "       [25.3, 25.3, 25.3, 25.3],\n",
       "       [25.3, 25.3, 25.3, 25.3],\n",
       "       [25.3, 25.3, 25.3, 25.3],\n",
       "       [25.3, 25.3, 25.3, 25.3],\n",
       "       [25.3, 25.3, 25.3, 25.3],\n",
       "       [41.1, 41.1, 41.1, 41.1],\n",
       "       [41.1, 41.1, 41.1, 41.1],\n",
       "       [41.1, 41.1, 41.1, 41.1],\n",
       "       [41.1, 41.1, 41.1, 41.1],\n",
       "       [41.1, 41.1, 41.1, 41.1],\n",
       "       [41.1, 41.1, 41.1, 41.1],\n",
       "       [41.1, 41.1, 41.1, 41.1],\n",
       "       [41.1, 41.1, 41.1, 41.1],\n",
       "       [41.1, 41.1, 41.1, 41.1],\n",
       "       [41.1, 41.1, 41.1, 41.1],\n",
       "       [41.1, 41.1, 41.1, 41.1],\n",
       "       [41.1, 41.1, 41.1, 41.1],\n",
       "       [41.1, 41.1, 41.1, 41.1],\n",
       "       [41.1, 41.1, 41.1, 41.1],\n",
       "       [32.7, 32.7, 32.7, 32.7],\n",
       "       [32.7, 32.7, 32.7, 32.7],\n",
       "       [32.7, 32.7, 32.7, 32.7],\n",
       "       [32.7, 32.7, 32.7, 32.7],\n",
       "       [32.7, 32.7, 32.7, 32.7],\n",
       "       [32.7, 32.7, 32.7, 32.7],\n",
       "       [32.7, 32.7, 32.7, 32.7],\n",
       "       [32.7, 32.7, 32.7, 32.7],\n",
       "       [32.7, 32.7, 32.7, 32.7],\n",
       "       [32.7, 32.7, 32.7, 32.7],\n",
       "       [32.7, 32.7, 32.7, 32.7],\n",
       "       [32.7, 32.7, 32.7, 32.7],\n",
       "       [28.7, 28.7, 28.7, 28.7],\n",
       "       [28.7, 28.7, 28.7, 28.7],\n",
       "       [28.7, 28.7, 28.7, 28.7],\n",
       "       [28.7, 28.7, 28.7, 28.7],\n",
       "       [28.7, 28.7, 28.7, 28.7],\n",
       "       [34.8, 34.8, 34.8, 34.8],\n",
       "       [34.8, 34.8, 34.8, 34.8],\n",
       "       [34.8, 34.8, 34.8, 34.8],\n",
       "       [34.8, 34.8, 34.8, 34.8],\n",
       "       [34.8, 34.8, 34.8, 34.8],\n",
       "       [34.8, 34.8, 34.8, 34.8],\n",
       "       [32.7, 32.7, 32.7, 32.7],\n",
       "       [32.7, 32.7, 32.7, 32.7],\n",
       "       [32.7, 32.7, 32.7, 32.7],\n",
       "       [32.7, 32.7, 32.7, 32.7],\n",
       "       [32.7, 32.7, 32.7, 32.7],\n",
       "       [32.7, 32.7, 32.7, 32.7],\n",
       "       [32.7, 32.7, 32.7, 32.7],\n",
       "       [32.7, 32.7, 32.7, 32.7],\n",
       "       [32.7, 32.7, 32.7, 32.7],\n",
       "       [32.7, 32.7, 32.7, 32.7],\n",
       "       [32.7, 32.7, 32.7, 32.7],\n",
       "       [32.7, 32.7, 32.7, 32.7],\n",
       "       [28.7, 28.7, 28.7, 28.7],\n",
       "       [28.7, 28.7, 28.7, 28.7],\n",
       "       [26.1, 26.1, 26.1, 26.1],\n",
       "       [26.1, 26.1, 26.1, 26.1],\n",
       "       [26.1, 26.1, 26.1, 26.1],\n",
       "       [26.1, 26.1, 26.1, 26.1],\n",
       "       [26.1, 26.1, 26.1, 26.1],\n",
       "       [26.1, 26.1, 26.1, 26.1],\n",
       "       [26.1, 26.1, 26.1, 26.1],\n",
       "       [26.1, 26.1, 26.1, 26.1],\n",
       "       [26.1, 26.1, 26.1, 26.1],\n",
       "       [26.1, 26.1, 26.1, 26.1],\n",
       "       [26.1, 26.1, 26.1, 26.1],\n",
       "       [34.8, 34.8, 34.8, 34.8],\n",
       "       [34.8, 34.8, 34.8, 34.8],\n",
       "       [34.8, 34.8, 34.8, 34.8],\n",
       "       [34.8, 34.8, 34.8, 34.8],\n",
       "       [34.8, 34.8, 34.8, 34.8],\n",
       "       [34.8, 34.8, 34.8, 34.8],\n",
       "       [34.8, 34.8, 34.8, 34.8],\n",
       "       [34.8, 34.8, 34.8, 34.8],\n",
       "       [41.9, 41.9, 41.9, 41.9],\n",
       "       [41.9, 41.9, 41.9, 41.9],\n",
       "       [41.9, 41.9, 41.9, 41.9],\n",
       "       [41.9, 41.9, 41.9, 41.9],\n",
       "       [41.9, 41.9, 41.9, 41.9],\n",
       "       [41.9, 41.9, 41.9, 41.9],\n",
       "       [41.9, 41.9, 41.9, 41.9],\n",
       "       [41.9, 41.9, 41.9, 41.9],\n",
       "       [41.9, 41.9, 41.9, 41.9],\n",
       "       [41.9, 41.9, 41.9, 41.9],\n",
       "       [41.9, 41.9, 41.9, 41.9],\n",
       "       [41.9, 41.9, 41.9, 41.9],\n",
       "       [41.9, 41.9, 41.9, 41.9],\n",
       "       [41.9, 41.9, 41.9, 41.9],\n",
       "       [41.9, 41.9, 41.9, 41.9],\n",
       "       [41.9, 41.9, 41.9, 41.9],\n",
       "       [38.5, 38.5, 38.5, 38.5],\n",
       "       [38.5, 38.5, 38.5, 38.5],\n",
       "       [38.5, 38.5, 38.5, 38.5],\n",
       "       [38.5, 38.5, 38.5, 38.5],\n",
       "       [38.5, 38.5, 38.5, 38.5],\n",
       "       [38.5, 38.5, 38.5, 38.5],\n",
       "       [38.5, 38.5, 38.5, 38.5],\n",
       "       [38.5, 38.5, 38.5, 38.5],\n",
       "       [38.5, 38.5, 38.5, 38.5],\n",
       "       [38.5, 38.5, 38.5, 38.5],\n",
       "       [38.5, 38.5, 38.5, 38.5],\n",
       "       [38.5, 38.5, 38.5, 38.5],\n",
       "       [38.5, 38.5, 38.5, 38.5],\n",
       "       [38.5, 38.5, 38.5, 38.5],\n",
       "       [38.5, 38.5, 38.5, 38.5],\n",
       "       [38.5, 38.5, 38.5, 38.5],\n",
       "       [38.5, 38.5, 38.5, 38.5],\n",
       "       [38.5, 38.5, 38.5, 38.5],\n",
       "       [38.5, 38.5, 38.5, 38.5],\n",
       "       [38.5, 38.5, 38.5, 38.5],\n",
       "       [38.5, 38.5, 38.5, 38.5],\n",
       "       [38.5, 38.5, 38.5, 38.5],\n",
       "       [38.5, 38.5, 38.5, 38.5],\n",
       "       [38.5, 38.5, 38.5, 38.5],\n",
       "       [31.6, 31.6, 31.6, 31.6],\n",
       "       [31.6, 31.6, 31.6, 31.6],\n",
       "       [31.6, 31.6, 31.6, 31.6],\n",
       "       [31.6, 31.6, 31.6, 31.6],\n",
       "       [31.6, 31.6, 31.6, 31.6],\n",
       "       [31.6, 31.6, 31.6, 31.6],\n",
       "       [31.6, 31.6, 31.6, 31.6],\n",
       "       [31.6, 31.6, 31.6, 31.6],\n",
       "       [31.6, 31.6, 31.6, 31.6],\n",
       "       [31.6, 31.6, 31.6, 31.6],\n",
       "       [31.6, 31.6, 31.6, 31.6],\n",
       "       [31.6, 31.6, 31.6, 31.6],\n",
       "       [31.6, 31.6, 31.6, 31.6],\n",
       "       [31.6, 31.6, 31.6, 31.6],\n",
       "       [31.6, 31.6, 31.6, 31.6],\n",
       "       [31.6, 31.6, 31.6, 31.6],\n",
       "       [31.6, 31.6, 31.6, 31.6],\n",
       "       [31.6, 31.6, 31.6, 31.6],\n",
       "       [31.6, 31.6, 31.6, 31.6],\n",
       "       [31.6, 31.6, 31.6, 31.6],\n",
       "       [31.6, 31.6, 31.6, 31.6],\n",
       "       [31.9, 31.9, 31.9, 31.9],\n",
       "       [31.9, 31.9, 31.9, 31.9],\n",
       "       [31.9, 31.9, 31.9, 31.9],\n",
       "       [31.9, 31.9, 31.9, 31.9],\n",
       "       [31.9, 31.9, 31.9, 31.9],\n",
       "       [31.9, 31.9, 31.9, 31.9],\n",
       "       [31.9, 31.9, 31.9, 31.9],\n",
       "       [31.9, 31.9, 31.9, 31.9],\n",
       "       [31.9, 31.9, 31.9, 31.9],\n",
       "       [31.9, 31.9, 31.9, 31.9],\n",
       "       [31.9, 31.9, 31.9, 31.9],\n",
       "       [31.9, 31.9, 31.9, 31.9],\n",
       "       [31.9, 31.9, 31.9, 31.9],\n",
       "       [31.9, 31.9, 31.9, 31.9],\n",
       "       [31.9, 31.9, 31.9, 31.9],\n",
       "       [28.7, 28.7, 28.7, 28.7],\n",
       "       [28.7, 28.7, 28.7, 28.7],\n",
       "       [28.7, 28.7, 28.7, 28.7],\n",
       "       [28.7, 28.7, 28.7, 28.7],\n",
       "       [28.7, 28.7, 28.7, 28.7],\n",
       "       [28.7, 28.7, 28.7, 28.7],\n",
       "       [28.7, 28.7, 28.7, 28.7],\n",
       "       [28.7, 28.7, 28.7, 28.7],\n",
       "       [28.7, 28.7, 28.7, 28.7],\n",
       "       [28.7, 28.7, 28.7, 28.7],\n",
       "       [34.4, 34.4, 34.4, 34.4],\n",
       "       [34.4, 34.4, 34.4, 34.4],\n",
       "       [34.4, 34.4, 34.4, 34.4],\n",
       "       [34.4, 34.4, 34.4, 34.4],\n",
       "       [34.4, 34.4, 34.4, 34.4],\n",
       "       [34.4, 34.4, 34.4, 34.4],\n",
       "       [34.4, 34.4, 34.4, 34.4],\n",
       "       [34.4, 34.4, 34.4, 34.4],\n",
       "       [34.4, 34.4, 34.4, 34.4],\n",
       "       [34.4, 34.4, 34.4, 34.4]])"
      ]
     },
     "execution_count": 76,
     "metadata": {},
     "output_type": "execute_result"
    }
   ],
   "source": [
    "Gini_stack"
   ]
  },
  {
   "cell_type": "code",
   "execution_count": 73,
   "metadata": {
    "scrolled": true
   },
   "outputs": [
    {
     "ename": "ValueError",
     "evalue": "Input dimension mis-match. (input[0].shape[0] = 4, input[1].shape[0] = 10)",
     "output_type": "error",
     "traceback": [
      "\u001b[1;31m---------------------------------------------------------------------------\u001b[0m",
      "\u001b[1;31mValueError\u001b[0m                                Traceback (most recent call last)",
      "\u001b[1;32m<ipython-input-73-f61d1028afb1>\u001b[0m in \u001b[0;36m<module>\u001b[1;34m\u001b[0m\n\u001b[0;32m     16\u001b[0m     \u001b[1;31m### with time\u001b[0m\u001b[1;33m\u001b[0m\u001b[1;33m\u001b[0m\u001b[1;33m\u001b[0m\u001b[0m\n\u001b[0;32m     17\u001b[0m \u001b[1;33m\u001b[0m\u001b[0m\n\u001b[1;32m---> 18\u001b[1;33m     \u001b[0mtester\u001b[0m \u001b[1;33m=\u001b[0m \u001b[1;33m-\u001b[0m\u001b[0mgamma\u001b[0m \u001b[1;33m*\u001b[0m \u001b[0mt_stack\u001b[0m\u001b[1;33m\u001b[0m\u001b[1;33m\u001b[0m\u001b[0m\n\u001b[0m\u001b[0;32m     19\u001b[0m \u001b[1;33m\u001b[0m\u001b[0m\n\u001b[0;32m     20\u001b[0m     \u001b[0mtest_2\u001b[0m \u001b[1;33m=\u001b[0m \u001b[0mpm\u001b[0m\u001b[1;33m.\u001b[0m\u001b[0mmath\u001b[0m\u001b[1;33m.\u001b[0m\u001b[0mdot\u001b[0m\u001b[1;33m(\u001b[0m\u001b[0mtester\u001b[0m\u001b[1;33m,\u001b[0m \u001b[0mc_0\u001b[0m\u001b[1;33m)\u001b[0m\u001b[1;33m\u001b[0m\u001b[1;33m\u001b[0m\u001b[0m\n",
      "\u001b[1;32m~\\anaconda3\\envs\\cogmod\\lib\\site-packages\\theano\\tensor\\var.py\u001b[0m in \u001b[0;36m__mul__\u001b[1;34m(self, other)\u001b[0m\n\u001b[0;32m    126\u001b[0m         \u001b[1;31m# and the return value in that case\u001b[0m\u001b[1;33m\u001b[0m\u001b[1;33m\u001b[0m\u001b[1;33m\u001b[0m\u001b[0m\n\u001b[0;32m    127\u001b[0m         \u001b[1;32mtry\u001b[0m\u001b[1;33m:\u001b[0m\u001b[1;33m\u001b[0m\u001b[1;33m\u001b[0m\u001b[0m\n\u001b[1;32m--> 128\u001b[1;33m             \u001b[1;32mreturn\u001b[0m \u001b[0mtheano\u001b[0m\u001b[1;33m.\u001b[0m\u001b[0mtensor\u001b[0m\u001b[1;33m.\u001b[0m\u001b[0mmul\u001b[0m\u001b[1;33m(\u001b[0m\u001b[0mself\u001b[0m\u001b[1;33m,\u001b[0m \u001b[0mother\u001b[0m\u001b[1;33m)\u001b[0m\u001b[1;33m\u001b[0m\u001b[1;33m\u001b[0m\u001b[0m\n\u001b[0m\u001b[0;32m    129\u001b[0m         \u001b[1;32mexcept\u001b[0m \u001b[1;33m(\u001b[0m\u001b[0mNotImplementedError\u001b[0m\u001b[1;33m,\u001b[0m \u001b[0mTypeError\u001b[0m\u001b[1;33m)\u001b[0m\u001b[1;33m:\u001b[0m\u001b[1;33m\u001b[0m\u001b[1;33m\u001b[0m\u001b[0m\n\u001b[0;32m    130\u001b[0m             \u001b[1;32mreturn\u001b[0m \u001b[0mNotImplemented\u001b[0m\u001b[1;33m\u001b[0m\u001b[1;33m\u001b[0m\u001b[0m\n",
      "\u001b[1;32m~\\anaconda3\\envs\\cogmod\\lib\\site-packages\\theano\\graph\\op.py\u001b[0m in \u001b[0;36m__call__\u001b[1;34m(self, *inputs, **kwargs)\u001b[0m\n\u001b[0;32m    251\u001b[0m \u001b[1;33m\u001b[0m\u001b[0m\n\u001b[0;32m    252\u001b[0m         \u001b[1;32mif\u001b[0m \u001b[0mconfig\u001b[0m\u001b[1;33m.\u001b[0m\u001b[0mcompute_test_value\u001b[0m \u001b[1;33m!=\u001b[0m \u001b[1;34m\"off\"\u001b[0m\u001b[1;33m:\u001b[0m\u001b[1;33m\u001b[0m\u001b[1;33m\u001b[0m\u001b[0m\n\u001b[1;32m--> 253\u001b[1;33m             \u001b[0mcompute_test_value\u001b[0m\u001b[1;33m(\u001b[0m\u001b[0mnode\u001b[0m\u001b[1;33m)\u001b[0m\u001b[1;33m\u001b[0m\u001b[1;33m\u001b[0m\u001b[0m\n\u001b[0m\u001b[0;32m    254\u001b[0m \u001b[1;33m\u001b[0m\u001b[0m\n\u001b[0;32m    255\u001b[0m         \u001b[1;32mif\u001b[0m \u001b[0mself\u001b[0m\u001b[1;33m.\u001b[0m\u001b[0mdefault_output\u001b[0m \u001b[1;32mis\u001b[0m \u001b[1;32mnot\u001b[0m \u001b[1;32mNone\u001b[0m\u001b[1;33m:\u001b[0m\u001b[1;33m\u001b[0m\u001b[1;33m\u001b[0m\u001b[0m\n",
      "\u001b[1;32m~\\anaconda3\\envs\\cogmod\\lib\\site-packages\\theano\\graph\\op.py\u001b[0m in \u001b[0;36mcompute_test_value\u001b[1;34m(node)\u001b[0m\n\u001b[0;32m    128\u001b[0m     \u001b[0mthunk\u001b[0m\u001b[1;33m.\u001b[0m\u001b[0moutputs\u001b[0m \u001b[1;33m=\u001b[0m \u001b[1;33m[\u001b[0m\u001b[0mstorage_map\u001b[0m\u001b[1;33m[\u001b[0m\u001b[0mv\u001b[0m\u001b[1;33m]\u001b[0m \u001b[1;32mfor\u001b[0m \u001b[0mv\u001b[0m \u001b[1;32min\u001b[0m \u001b[0mnode\u001b[0m\u001b[1;33m.\u001b[0m\u001b[0moutputs\u001b[0m\u001b[1;33m]\u001b[0m\u001b[1;33m\u001b[0m\u001b[1;33m\u001b[0m\u001b[0m\n\u001b[0;32m    129\u001b[0m \u001b[1;33m\u001b[0m\u001b[0m\n\u001b[1;32m--> 130\u001b[1;33m     \u001b[0mrequired\u001b[0m \u001b[1;33m=\u001b[0m \u001b[0mthunk\u001b[0m\u001b[1;33m(\u001b[0m\u001b[1;33m)\u001b[0m\u001b[1;33m\u001b[0m\u001b[1;33m\u001b[0m\u001b[0m\n\u001b[0m\u001b[0;32m    131\u001b[0m     \u001b[1;32massert\u001b[0m \u001b[1;32mnot\u001b[0m \u001b[0mrequired\u001b[0m  \u001b[1;31m# We provided all inputs\u001b[0m\u001b[1;33m\u001b[0m\u001b[1;33m\u001b[0m\u001b[0m\n\u001b[0;32m    132\u001b[0m \u001b[1;33m\u001b[0m\u001b[0m\n",
      "\u001b[1;32m~\\anaconda3\\envs\\cogmod\\lib\\site-packages\\theano\\graph\\op.py\u001b[0m in \u001b[0;36mrval\u001b[1;34m()\u001b[0m\n\u001b[0;32m    604\u001b[0m \u001b[1;33m\u001b[0m\u001b[0m\n\u001b[0;32m    605\u001b[0m         \u001b[1;32mdef\u001b[0m \u001b[0mrval\u001b[0m\u001b[1;33m(\u001b[0m\u001b[1;33m)\u001b[0m\u001b[1;33m:\u001b[0m\u001b[1;33m\u001b[0m\u001b[1;33m\u001b[0m\u001b[0m\n\u001b[1;32m--> 606\u001b[1;33m             \u001b[0mthunk\u001b[0m\u001b[1;33m(\u001b[0m\u001b[1;33m)\u001b[0m\u001b[1;33m\u001b[0m\u001b[1;33m\u001b[0m\u001b[0m\n\u001b[0m\u001b[0;32m    607\u001b[0m             \u001b[1;32mfor\u001b[0m \u001b[0mo\u001b[0m \u001b[1;32min\u001b[0m \u001b[0mnode\u001b[0m\u001b[1;33m.\u001b[0m\u001b[0moutputs\u001b[0m\u001b[1;33m:\u001b[0m\u001b[1;33m\u001b[0m\u001b[1;33m\u001b[0m\u001b[0m\n\u001b[0;32m    608\u001b[0m                 \u001b[0mcompute_map\u001b[0m\u001b[1;33m[\u001b[0m\u001b[0mo\u001b[0m\u001b[1;33m]\u001b[0m\u001b[1;33m[\u001b[0m\u001b[1;36m0\u001b[0m\u001b[1;33m]\u001b[0m \u001b[1;33m=\u001b[0m \u001b[1;32mTrue\u001b[0m\u001b[1;33m\u001b[0m\u001b[1;33m\u001b[0m\u001b[0m\n",
      "\u001b[1;32m~\\anaconda3\\envs\\cogmod\\lib\\site-packages\\theano\\link\\c\\basic.py\u001b[0m in \u001b[0;36m__call__\u001b[1;34m(self)\u001b[0m\n\u001b[0;32m   1769\u001b[0m                 \u001b[0mprint\u001b[0m\u001b[1;33m(\u001b[0m\u001b[0mself\u001b[0m\u001b[1;33m.\u001b[0m\u001b[0merror_storage\u001b[0m\u001b[1;33m,\u001b[0m \u001b[0mfile\u001b[0m\u001b[1;33m=\u001b[0m\u001b[0msys\u001b[0m\u001b[1;33m.\u001b[0m\u001b[0mstderr\u001b[0m\u001b[1;33m)\u001b[0m\u001b[1;33m\u001b[0m\u001b[1;33m\u001b[0m\u001b[0m\n\u001b[0;32m   1770\u001b[0m                 \u001b[1;32mraise\u001b[0m\u001b[1;33m\u001b[0m\u001b[1;33m\u001b[0m\u001b[0m\n\u001b[1;32m-> 1771\u001b[1;33m             \u001b[1;32mraise\u001b[0m \u001b[0mexc_value\u001b[0m\u001b[1;33m.\u001b[0m\u001b[0mwith_traceback\u001b[0m\u001b[1;33m(\u001b[0m\u001b[0mexc_trace\u001b[0m\u001b[1;33m)\u001b[0m\u001b[1;33m\u001b[0m\u001b[1;33m\u001b[0m\u001b[0m\n\u001b[0m\u001b[0;32m   1772\u001b[0m \u001b[1;33m\u001b[0m\u001b[0m\n\u001b[0;32m   1773\u001b[0m \u001b[1;33m\u001b[0m\u001b[0m\n",
      "\u001b[1;31mValueError\u001b[0m: Input dimension mis-match. (input[0].shape[0] = 4, input[1].shape[0] = 10)"
     ]
    }
   ],
   "source": [
    "with pm.Model() as m:\n",
    "    ## priors\n",
    "    beta0_c0 = pm.HalfNormal(\"beta0_c0\", 1)\n",
    "    betaGini_c0 = pm.Normal(\"betaGini_c0\", 0, 1)\n",
    "    \n",
    "    beta0_gamma = pm.HalfNormal(\"beta0_gamma\", 1)\n",
    "    betaGini_gamma = pm.Normal(\"betaGini_gamma\", 0, 1)\n",
    "    \n",
    "    ## group_level\n",
    "    sigma_c = pm.Gamma(\"sigma_c\", 1, 1, shape = (ngroups, groupSize))\n",
    "    \n",
    "    c_0 = pm.Deterministic(\"c_0\", beta0_c0 + betaGini_c0 * Gini_stack[idx_g, idx_s])\n",
    "    \n",
    "    gamma = pm.Deterministic(\"gamma\", beta0_gamma + betaGini_gamma * Gini_stack[idx_g, idx_s])\n",
    "    \n",
    "    ### with time \n",
    "    \n",
    "    tester = -gamma * t_stack\n",
    "    \n",
    "    test_2 = pm.math.dot(tester, c_0)\n",
    "    \n",
    "    mu_c = pm.Deterministic(\"mu_c\", \n",
    "                            c_0 * pm.math.exp(pm.math.dot(t_stack, -gamma))) ## this is gonna be fucked\n",
    "    \n",
    "    ## likelihood\n",
    "    \n",
    "    y_pred = pm.Normal(\"y_pred\", mu = mu_c, sigma = sigma_c, observed = y)\n",
    "    \n",
    "    "
   ]
  },
  {
   "cell_type": "markdown",
   "metadata": {},
   "source": [
    "### Preferences:\n",
    "\n",
    "$$pvec = p_0 + \\beta_p \\cdot tokenvalues $$\n",
    "\n",
    "$$p_t = pvec[Gb_t]$$\n",
    "\n",
    "where Gb_t is the belief of what the other person will do at time T"
   ]
  },
  {
   "cell_type": "markdown",
   "metadata": {},
   "source": [
    "$$Gb_t = \\gamma ( Gb_{t-1}) + (1-\\gamma) (G_{a_{t-1}})$$"
   ]
  },
  {
   "cell_type": "markdown",
   "metadata": {},
   "source": [
    "$$c_t = \\omega_t (Gb_t) + (1-\\omega_t) (p_t)$$\n",
    "\n",
    "$$\\omega_t = \\omega_{t-1}(1-\\lambda)$$"
   ]
  },
  {
   "cell_type": "markdown",
   "metadata": {},
   "source": [
    "### Getting the hierachical model\n",
    "\n",
    "$$B^P_{g,s} \\sim Beta(Shape_{g,s,1}, Shape_{g,s,2})$$"
   ]
  },
  {
   "cell_type": "markdown",
   "metadata": {},
   "source": [
    "$$Shape_1 = \\mu B^P_{g,s} + \\sigma_{g,s}$$\n",
    "$$Shape_2 = (1 - \\mu B^P_{g,s}) + \\sigma_{g,s}$$\n",
    "\n",
    "$$Probit(\\mu B^P_{g,s}) = \\beta_0^P + \\beta^P_{Gini} \\cdot Gini$$"
   ]
  },
  {
   "cell_type": "code",
   "execution_count": 40,
   "metadata": {},
   "outputs": [
    {
     "data": {
      "text/plain": [
       "array([0, 1, 2, 3, 4, 5, 6, 7, 8, 9])"
      ]
     },
     "execution_count": 40,
     "metadata": {},
     "output_type": "execute_result"
    }
   ],
   "source": [
    "t"
   ]
  },
  {
   "cell_type": "code",
   "execution_count": null,
   "metadata": {},
   "outputs": [],
   "source": []
  }
 ],
 "metadata": {
  "kernelspec": {
   "display_name": "Python 3",
   "language": "python",
   "name": "python3"
  },
  "language_info": {
   "codemirror_mode": {
    "name": "ipython",
    "version": 3
   },
   "file_extension": ".py",
   "mimetype": "text/x-python",
   "name": "python",
   "nbconvert_exporter": "python",
   "pygments_lexer": "ipython3",
   "version": "3.8.5"
  }
 },
 "nbformat": 4,
 "nbformat_minor": 4
}
