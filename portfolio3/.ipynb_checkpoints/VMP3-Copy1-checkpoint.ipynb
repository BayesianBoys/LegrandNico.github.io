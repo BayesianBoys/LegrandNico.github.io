{
 "cells": [
  {
   "cell_type": "code",
   "execution_count": 1,
   "metadata": {},
   "outputs": [],
   "source": [
    "import pandas as pd\n",
    "import pymc3 as pm\n",
    "import numpy as np\n",
    "import theano\n",
    "import theano.tensor as tt"
   ]
  },
  {
   "cell_type": "code",
   "execution_count": 2,
   "metadata": {},
   "outputs": [],
   "source": [
    "data = pd.read_csv(\"HerrmannThoeniGaechterDATA.csv\", skiprows=3)"
   ]
  },
  {
   "cell_type": "code",
   "execution_count": 3,
   "metadata": {},
   "outputs": [
    {
     "data": {
      "text/plain": [
       "65880"
      ]
     },
     "execution_count": 3,
     "metadata": {},
     "output_type": "execute_result"
    }
   ],
   "source": [
    "len(data)"
   ]
  },
  {
   "cell_type": "code",
   "execution_count": 4,
   "metadata": {},
   "outputs": [
    {
     "data": {
      "text/html": [
       "<div>\n",
       "<style scoped>\n",
       "    .dataframe tbody tr th:only-of-type {\n",
       "        vertical-align: middle;\n",
       "    }\n",
       "\n",
       "    .dataframe tbody tr th {\n",
       "        vertical-align: top;\n",
       "    }\n",
       "\n",
       "    .dataframe thead th {\n",
       "        text-align: right;\n",
       "    }\n",
       "</style>\n",
       "<table border=\"1\" class=\"dataframe\">\n",
       "  <thead>\n",
       "    <tr style=\"text-align: right;\">\n",
       "      <th></th>\n",
       "      <th>sessionid</th>\n",
       "      <th>groupid</th>\n",
       "      <th>mgroupid</th>\n",
       "      <th>subjectid</th>\n",
       "      <th>p</th>\n",
       "      <th>secseq</th>\n",
       "      <th>city</th>\n",
       "      <th>period</th>\n",
       "      <th>senderscontribution</th>\n",
       "      <th>otherscontribution</th>\n",
       "      <th>...</th>\n",
       "      <th>civic</th>\n",
       "      <th>ruleoflaw</th>\n",
       "      <th>female</th>\n",
       "      <th>age</th>\n",
       "      <th>numknown</th>\n",
       "      <th>singlechild</th>\n",
       "      <th>ageu21</th>\n",
       "      <th>urbanbackground</th>\n",
       "      <th>middleclass</th>\n",
       "      <th>membership</th>\n",
       "    </tr>\n",
       "  </thead>\n",
       "  <tbody>\n",
       "    <tr>\n",
       "      <th>0</th>\n",
       "      <td>011108KA</td>\n",
       "      <td>703</td>\n",
       "      <td>703</td>\n",
       "      <td>701</td>\n",
       "      <td>N-experiment</td>\n",
       "      <td>0</td>\n",
       "      <td>Samara</td>\n",
       "      <td>1</td>\n",
       "      <td>20</td>\n",
       "      <td>18</td>\n",
       "      <td>...</td>\n",
       "      <td>8.050114</td>\n",
       "      <td>-0.884283</td>\n",
       "      <td>1</td>\n",
       "      <td>22.0</td>\n",
       "      <td>16.0</td>\n",
       "      <td>0.0</td>\n",
       "      <td>0</td>\n",
       "      <td>1.0</td>\n",
       "      <td>0.0</td>\n",
       "      <td>0.0</td>\n",
       "    </tr>\n",
       "    <tr>\n",
       "      <th>1</th>\n",
       "      <td>011108KA</td>\n",
       "      <td>703</td>\n",
       "      <td>703</td>\n",
       "      <td>701</td>\n",
       "      <td>N-experiment</td>\n",
       "      <td>0</td>\n",
       "      <td>Samara</td>\n",
       "      <td>1</td>\n",
       "      <td>20</td>\n",
       "      <td>10</td>\n",
       "      <td>...</td>\n",
       "      <td>8.050114</td>\n",
       "      <td>-0.884283</td>\n",
       "      <td>1</td>\n",
       "      <td>22.0</td>\n",
       "      <td>16.0</td>\n",
       "      <td>0.0</td>\n",
       "      <td>0</td>\n",
       "      <td>1.0</td>\n",
       "      <td>0.0</td>\n",
       "      <td>0.0</td>\n",
       "    </tr>\n",
       "    <tr>\n",
       "      <th>2</th>\n",
       "      <td>011108KA</td>\n",
       "      <td>703</td>\n",
       "      <td>703</td>\n",
       "      <td>701</td>\n",
       "      <td>N-experiment</td>\n",
       "      <td>0</td>\n",
       "      <td>Samara</td>\n",
       "      <td>1</td>\n",
       "      <td>20</td>\n",
       "      <td>10</td>\n",
       "      <td>...</td>\n",
       "      <td>8.050114</td>\n",
       "      <td>-0.884283</td>\n",
       "      <td>1</td>\n",
       "      <td>22.0</td>\n",
       "      <td>16.0</td>\n",
       "      <td>0.0</td>\n",
       "      <td>0</td>\n",
       "      <td>1.0</td>\n",
       "      <td>0.0</td>\n",
       "      <td>0.0</td>\n",
       "    </tr>\n",
       "    <tr>\n",
       "      <th>3</th>\n",
       "      <td>011108KA</td>\n",
       "      <td>702</td>\n",
       "      <td>702</td>\n",
       "      <td>702</td>\n",
       "      <td>N-experiment</td>\n",
       "      <td>0</td>\n",
       "      <td>Samara</td>\n",
       "      <td>1</td>\n",
       "      <td>10</td>\n",
       "      <td>10</td>\n",
       "      <td>...</td>\n",
       "      <td>8.050114</td>\n",
       "      <td>-0.884283</td>\n",
       "      <td>1</td>\n",
       "      <td>21.0</td>\n",
       "      <td>10.0</td>\n",
       "      <td>0.0</td>\n",
       "      <td>0</td>\n",
       "      <td>1.0</td>\n",
       "      <td>1.0</td>\n",
       "      <td>1.0</td>\n",
       "    </tr>\n",
       "    <tr>\n",
       "      <th>4</th>\n",
       "      <td>011108KA</td>\n",
       "      <td>702</td>\n",
       "      <td>702</td>\n",
       "      <td>702</td>\n",
       "      <td>N-experiment</td>\n",
       "      <td>0</td>\n",
       "      <td>Samara</td>\n",
       "      <td>1</td>\n",
       "      <td>10</td>\n",
       "      <td>20</td>\n",
       "      <td>...</td>\n",
       "      <td>8.050114</td>\n",
       "      <td>-0.884283</td>\n",
       "      <td>1</td>\n",
       "      <td>21.0</td>\n",
       "      <td>10.0</td>\n",
       "      <td>0.0</td>\n",
       "      <td>0</td>\n",
       "      <td>1.0</td>\n",
       "      <td>1.0</td>\n",
       "      <td>1.0</td>\n",
       "    </tr>\n",
       "  </tbody>\n",
       "</table>\n",
       "<p>5 rows × 22 columns</p>\n",
       "</div>"
      ],
      "text/plain": [
       "  sessionid  groupid  mgroupid  subjectid             p  secseq    city  \\\n",
       "0  011108KA      703       703        701  N-experiment       0  Samara   \n",
       "1  011108KA      703       703        701  N-experiment       0  Samara   \n",
       "2  011108KA      703       703        701  N-experiment       0  Samara   \n",
       "3  011108KA      702       702        702  N-experiment       0  Samara   \n",
       "4  011108KA      702       702        702  N-experiment       0  Samara   \n",
       "\n",
       "   period  senderscontribution  otherscontribution  ...     civic  ruleoflaw  \\\n",
       "0       1                   20                  18  ...  8.050114  -0.884283   \n",
       "1       1                   20                  10  ...  8.050114  -0.884283   \n",
       "2       1                   20                  10  ...  8.050114  -0.884283   \n",
       "3       1                   10                  10  ...  8.050114  -0.884283   \n",
       "4       1                   10                  20  ...  8.050114  -0.884283   \n",
       "\n",
       "   female   age  numknown  singlechild  ageu21  urbanbackground  middleclass  \\\n",
       "0       1  22.0      16.0          0.0       0              1.0          0.0   \n",
       "1       1  22.0      16.0          0.0       0              1.0          0.0   \n",
       "2       1  22.0      16.0          0.0       0              1.0          0.0   \n",
       "3       1  21.0      10.0          0.0       0              1.0          1.0   \n",
       "4       1  21.0      10.0          0.0       0              1.0          1.0   \n",
       "\n",
       "   membership  \n",
       "0         0.0  \n",
       "1         0.0  \n",
       "2         0.0  \n",
       "3         1.0  \n",
       "4         1.0  \n",
       "\n",
       "[5 rows x 22 columns]"
      ]
     },
     "execution_count": 4,
     "metadata": {},
     "output_type": "execute_result"
    }
   ],
   "source": [
    "data.head()"
   ]
  },
  {
   "cell_type": "code",
   "execution_count": 5,
   "metadata": {},
   "outputs": [],
   "source": [
    "## constants\n",
    "groupSize = 4\n",
    "ntrials = 10\n",
    "pi = 1.4\n",
    "ntokens = 20\n",
    "vals = list(range(21)) #possible values to contribute - from 0 to 20 tokens"
   ]
  },
  {
   "cell_type": "markdown",
   "metadata": {},
   "source": [
    "## Prelim checks"
   ]
  },
  {
   "cell_type": "code",
   "execution_count": 6,
   "metadata": {},
   "outputs": [
    {
     "data": {
      "text/plain": [
       "1120"
      ]
     },
     "execution_count": 6,
     "metadata": {},
     "output_type": "execute_result"
    }
   ],
   "source": [
    "len(set(data[\"subjectid\"])) #should be 1120"
   ]
  },
  {
   "cell_type": "code",
   "execution_count": 7,
   "metadata": {},
   "outputs": [
    {
     "data": {
      "text/plain": [
       "280"
      ]
     },
     "execution_count": 7,
     "metadata": {},
     "output_type": "execute_result"
    }
   ],
   "source": [
    "len(set(data[\"groupid\"]))"
   ]
  },
  {
   "cell_type": "code",
   "execution_count": 8,
   "metadata": {},
   "outputs": [
    {
     "data": {
      "text/plain": [
       "sessionid               object\n",
       "groupid                  int64\n",
       "mgroupid                 int64\n",
       "subjectid                int64\n",
       "p                       object\n",
       "secseq                   int64\n",
       "city                    object\n",
       "period                   int64\n",
       "senderscontribution      int64\n",
       "otherscontribution       int64\n",
       "punishment             float64\n",
       "recpun                 float64\n",
       "civic                  float64\n",
       "ruleoflaw              float64\n",
       "female                   int64\n",
       "age                    float64\n",
       "numknown               float64\n",
       "singlechild            float64\n",
       "ageu21                   int64\n",
       "urbanbackground        float64\n",
       "middleclass            float64\n",
       "membership             float64\n",
       "dtype: object"
      ]
     },
     "execution_count": 8,
     "metadata": {},
     "output_type": "execute_result"
    }
   ],
   "source": [
    "data.dtypes"
   ]
  },
  {
   "cell_type": "code",
   "execution_count": 9,
   "metadata": {},
   "outputs": [],
   "source": [
    "def get_gini(city):\n",
    "    if city == \"Melbourne\":\n",
    "        return 34.3\n",
    "    if city == \"Minsk\":\n",
    "        return 25.3\n",
    "    if city == \"Chengdu\":\n",
    "        return 38.5\n",
    "    if city == \"Copenhagen\":\n",
    "        return 28.7\n",
    "    if city == \"Bonn\":\n",
    "        return 31.9\n",
    "    if city == \"Athens\":\n",
    "        return 34.4\n",
    "    if city == \"Seoul\":\n",
    "        return 31.6\n",
    "    if city == \"Samara\":\n",
    "        return 37.5\n",
    "    if city == \"Zurich\":\n",
    "        return 32.7\n",
    "    if city == \"St. Gallen\":\n",
    "        return 32.7\n",
    "    if city == \"Istanbul\":\n",
    "        return 41.9\n",
    "    if city == \"Nottingham\":\n",
    "        return 34.8\n",
    "    if city == \"Dnipropetrovs'k\":\n",
    "        return 26.1\n",
    "    if city == \"Boston\":\n",
    "        return 41.1\n",
    "    \n",
    "data[\"gini\"] = data[\"city\"].apply(lambda x: get_gini(x))"
   ]
  },
  {
   "cell_type": "code",
   "execution_count": 10,
   "metadata": {},
   "outputs": [],
   "source": [
    "#data = data[data[\"gini\"].isna() == False]\n",
    "#data = data.dropna()"
   ]
  },
  {
   "cell_type": "code",
   "execution_count": 11,
   "metadata": {},
   "outputs": [
    {
     "data": {
      "text/plain": [
       "65880"
      ]
     },
     "execution_count": 11,
     "metadata": {},
     "output_type": "execute_result"
    }
   ],
   "source": [
    "len(data)"
   ]
  },
  {
   "cell_type": "code",
   "execution_count": 12,
   "metadata": {},
   "outputs": [],
   "source": [
    "redDat = data.iloc[::3, :] #get only every third row, the others are other responses that we don't need"
   ]
  },
  {
   "cell_type": "code",
   "execution_count": 13,
   "metadata": {},
   "outputs": [],
   "source": [
    "redDat.reset_index(inplace = True, drop = True)"
   ]
  },
  {
   "cell_type": "code",
   "execution_count": 14,
   "metadata": {},
   "outputs": [],
   "source": [
    "group_names = set(redDat[\"groupid\"])\n",
    "group_names = sorted(list(group_names))\n",
    "ngroups = len(group_names)\n",
    "\n",
    "### DOES SOMETHING FUCKED HERE\n",
    "\n",
    "subject_names = set(redDat[\"subjectid\"])\n",
    "nsubjects = len(subject_names)\n",
    "ngroups = 269"
   ]
  },
  {
   "cell_type": "code",
   "execution_count": 15,
   "metadata": {},
   "outputs": [],
   "source": [
    "## No punish initialized\n",
    "c_no_punish = np.zeros(shape = (groupSize, ntrials, ngroups))\n",
    "Ga_no_punish = np.zeros(shape = (ntrials, ngroups))\n",
    "Gc_no_punish = np.zeros(shape = (groupSize, ntrials, ngroups))\n",
    "\n",
    "#punished initialized\n",
    "c_punish = np.zeros(shape = (groupSize, ntrials, ngroups))\n",
    "Ga_punish = np.zeros(shape = (ntrials, ngroups))\n",
    "Gc_punish = np.zeros(shape = (groupSize, ntrials, ngroups))\n",
    "\n",
    "#missing vector\n",
    "missing = np.zeros(shape = (ngroups))"
   ]
  },
  {
   "cell_type": "code",
   "execution_count": 16,
   "metadata": {},
   "outputs": [],
   "source": [
    "for g in range(ngroups):\n",
    "    ### fancy way of fixing missing data - they will just become 0, \n",
    "    # and their position is then logged in \"missing\"-vector\n",
    "    try: \n",
    "        #no punish\n",
    "        c_no_punish[:,:,g][0] = redDat[(redDat[\"groupid\"] == group_names[g]) & (redDat[\"p\"] == \"N-experiment\")][\"senderscontribution\"][0:10].values\n",
    "        c_no_punish[:,:,g][1] = redDat[(redDat[\"groupid\"] == group_names[g]) & (redDat[\"p\"] == \"N-experiment\")][\"senderscontribution\"][10:20].values\n",
    "        c_no_punish[:,:,g][2] = redDat[(redDat[\"groupid\"] == group_names[g]) & (redDat[\"p\"] == \"N-experiment\")][\"senderscontribution\"][20:30].values\n",
    "        c_no_punish[:,:,g][3] = redDat[(redDat[\"groupid\"] == group_names[g]) & (redDat[\"p\"] == \"N-experiment\")][\"senderscontribution\"][30:40].values\n",
    "        \n",
    "        #punish\n",
    "        c_punish[:,:,g][0] = redDat[(redDat[\"groupid\"] == group_names[g]) & (redDat[\"p\"] == \"P-experiment\")][\"senderscontribution\"][0:10].values\n",
    "        c_punish[:,:,g][1] = redDat[(redDat[\"groupid\"] == group_names[g]) & (redDat[\"p\"] == \"P-experiment\")][\"senderscontribution\"][10:20].values\n",
    "        c_punish[:,:,g][2] = redDat[(redDat[\"groupid\"] == group_names[g]) & (redDat[\"p\"] == \"P-experiment\")][\"senderscontribution\"][20:30].values\n",
    "        c_punish[:,:,g][3] = redDat[(redDat[\"groupid\"] == group_names[g]) & (redDat[\"p\"] == \"P-experiment\")][\"senderscontribution\"][30:40].values\n",
    "    \n",
    "    except: #could be more general... \n",
    "        missing[g] = 1\n",
    "    \n",
    "    #make \"Ga\"\n",
    "    \n",
    "    Ga_no_punish[:,g] = c_no_punish[:,:,g].mean(axis=0)\n",
    "    Ga_punish[:,g] = c_punish[:,:,g].mean(axis=0)\n",
    "    \n",
    "    #make \"Gc\"\n",
    "    for s in range(groupSize):\n",
    "        Gc_no_punish[:,:,g][s] = np.delete(c_no_punish[:,:,g], s, 0).sum(axis=0) #just gives a single number though...\n",
    "        Gc_punish[:,:,g][s] = np.delete(c_punish[:,:,g], s, 0).sum(axis=0)"
   ]
  },
  {
   "cell_type": "markdown",
   "metadata": {},
   "source": [
    "### Concat the different conditions"
   ]
  },
  {
   "cell_type": "code",
   "execution_count": 17,
   "metadata": {},
   "outputs": [],
   "source": [
    "c = np.zeros(shape = (groupSize, ntrials, ngroups, 2))\n",
    "Ga = np.zeros(shape = (ntrials, ngroups, 2))"
   ]
  },
  {
   "cell_type": "code",
   "execution_count": 18,
   "metadata": {},
   "outputs": [
    {
     "data": {
      "text/plain": [
       "(4, 10, 269, 2)"
      ]
     },
     "execution_count": 18,
     "metadata": {},
     "output_type": "execute_result"
    }
   ],
   "source": [
    "c.shape"
   ]
  },
  {
   "cell_type": "code",
   "execution_count": 19,
   "metadata": {},
   "outputs": [],
   "source": [
    "c[:,:,:,0] = c_no_punish\n",
    "c[:,:,:,1] = c_punish\n",
    "\n",
    "Ga[:,:,0] = Ga_no_punish\n",
    "Ga[:,:,1] = Ga_punish"
   ]
  },
  {
   "cell_type": "markdown",
   "metadata": {},
   "source": [
    "### Gini Coefficient"
   ]
  },
  {
   "cell_type": "code",
   "execution_count": 20,
   "metadata": {},
   "outputs": [],
   "source": [
    "Gini = np.zeros(shape = ngroups)\n",
    "for g in range(ngroups):\n",
    "    Gini[g] = redDat[(redDat[\"groupid\"] == group_names[g]) & (redDat[\"p\"] == \"P-experiment\")][\"gini\"].values.mean()"
   ]
  },
  {
   "cell_type": "code",
   "execution_count": 21,
   "metadata": {},
   "outputs": [],
   "source": [
    "mask = np.isnan(Gini) == False"
   ]
  },
  {
   "cell_type": "code",
   "execution_count": 22,
   "metadata": {},
   "outputs": [],
   "source": [
    "Ga_punish = Ga_punish[:,mask]\n",
    "Ga_no_punish = Ga_no_punish[:,mask]\n",
    "\n",
    "c = c[:,:,mask,:]\n",
    "Ga = Ga[:,mask,:]\n",
    "#Gc = Gc[:,:,mask,:]\n",
    "Gini = Gini[mask]\n",
    "\n",
    "#get new ngroups\n",
    "ngroups = len(Gini)"
   ]
  },
  {
   "cell_type": "markdown",
   "metadata": {},
   "source": [
    "### Prelim check\n",
    "\n",
    "First we need to add all contributions in a group and multiply them by 1.4 and calculate the Pearson correlation between Gini coefficients and the earnings.\n"
   ]
  },
  {
   "cell_type": "markdown",
   "metadata": {},
   "source": [
    "### Heat map\n",
    "\n",
    "Lower Quartile (Gini < 31.6)\n",
    "Upper Quartile (Gini > 37.5)"
   ]
  },
  {
   "cell_type": "markdown",
   "metadata": {},
   "source": [
    "## Decay model\n",
    "\n",
    "$$c_{g,s,t}^\\mu = c^0_{g,s} \\cdot e^{-\\gamma_{s,g} \\cdot t}$$\n",
    "\n",
    "$$c^0_{g,s} = \\beta^c_0 + \\beta^c_{Gini} \\cdot Gini_g$$\n",
    "\n",
    "$$\\gamma_{s,g} = \\beta^\\gamma_0 + \\beta^\\gamma_{Gini} \\cdot Gini_g$$"
   ]
  },
  {
   "cell_type": "code",
   "execution_count": 23,
   "metadata": {},
   "outputs": [],
   "source": [
    "y = c[:,:,:,0]"
   ]
  },
  {
   "cell_type": "code",
   "execution_count": 24,
   "metadata": {},
   "outputs": [],
   "source": [
    "idx_g = np.arange(ngroups)\n",
    "idx_s = np.array([0,1,2,3])\n",
    "t = np.arange(ntrials)"
   ]
  },
  {
   "cell_type": "code",
   "execution_count": 25,
   "metadata": {},
   "outputs": [],
   "source": [
    "t_stack = np.stack((t,t,t,t))\n",
    "t_stack = t_stack.T"
   ]
  },
  {
   "cell_type": "code",
   "execution_count": 26,
   "metadata": {},
   "outputs": [],
   "source": [
    "Gini_stack = np.stack((Gini, Gini, Gini, Gini))\n",
    "Gini_stack = Gini_stack.T"
   ]
  },
  {
   "cell_type": "code",
   "execution_count": 29,
   "metadata": {},
   "outputs": [],
   "source": [
    "idx_s = idx_s[:, None]"
   ]
  },
  {
   "cell_type": "code",
   "execution_count": 35,
   "metadata": {},
   "outputs": [],
   "source": [
    "import math"
   ]
  },
  {
   "cell_type": "code",
   "execution_count": 41,
   "metadata": {},
   "outputs": [],
   "source": [
    "t_stacky = t_stack[:, :, None]"
   ]
  },
  {
   "cell_type": "code",
   "execution_count": 46,
   "metadata": {},
   "outputs": [],
   "source": [
    "y = np.reshape(y, (10, 4, 244));"
   ]
  },
  {
   "cell_type": "code",
   "execution_count": 51,
   "metadata": {
    "scrolled": true
   },
   "outputs": [],
   "source": [
    "with pm.Model() as m:\n",
    "    ## priors\n",
    "    beta0_c0 = pm.HalfNormal(\"beta0_c0\", sigma = 1)\n",
    "    betaGini_c0 = pm.Normal(\"betaGini_c0\", 0, 1)\n",
    "    \n",
    "    beta0_gamma = pm.HalfNormal(\"beta0_gamma\", sigma = 1)\n",
    "    betaGini_gamma = pm.Normal(\"betaGini_gamma\", 0, 1)\n",
    "    \n",
    "    ## group_level\n",
    "    sigma_c = pm.Gamma(\"sigma_c\", 1, 1) #, shape = (1, len(idx_s), len(idx_g)))\n",
    "    \n",
    "    c_0 = pm.Deterministic(\"c_0\", beta0_c0 + betaGini_c0 * Gini_stack[idx_g, idx_s])\n",
    "    \n",
    "    gamma = pm.Deterministic(\"gamma\", beta0_gamma + betaGini_gamma * Gini_stack[idx_g, idx_s])\n",
    "    \n",
    "    ## mu. \n",
    "    mu_c = c_0 * pm.math.exp(-gamma * t_stacky)\n",
    "\n",
    "    ## likelihood\n",
    "    y_pred = pm.Normal(\"y_pred\", mu = mu_c, sigma = sigma_c, observed = y)\n",
    "    \n",
    "    "
   ]
  },
  {
   "cell_type": "code",
   "execution_count": 54,
   "metadata": {
    "scrolled": true
   },
   "outputs": [
    {
     "name": "stderr",
     "output_type": "stream",
     "text": [
      "Auto-assigning NUTS sampler...\n",
      "Initializing NUTS using jitter+adapt_diag...\n",
      "Sequential sampling (1 chains in 1 job)\n",
      "NUTS: [sigma_c, betaGini_gamma, beta0_gamma, betaGini_c0, beta0_c0]\n"
     ]
    },
    {
     "data": {
      "text/html": [
       "\n",
       "    <div>\n",
       "        <style>\n",
       "            /* Turns off some styling */\n",
       "            progress {\n",
       "                /* gets rid of default border in Firefox and Opera. */\n",
       "                border: none;\n",
       "                /* Needs to be in here for Safari polyfill so background images work as expected. */\n",
       "                background-size: auto;\n",
       "            }\n",
       "            .progress-bar-interrupted, .progress-bar-interrupted::-webkit-progress-bar {\n",
       "                background: #F44336;\n",
       "            }\n",
       "        </style>\n",
       "      <progress value='2000' class='' max='2000' style='width:300px; height:20px; vertical-align: middle;'></progress>\n",
       "      100.00% [2000/2000 00:55<00:00 Sampling chain 0, 0 divergences]\n",
       "    </div>\n",
       "    "
      ],
      "text/plain": [
       "<IPython.core.display.HTML object>"
      ]
     },
     "metadata": {},
     "output_type": "display_data"
    },
    {
     "name": "stderr",
     "output_type": "stream",
     "text": [
      "Sampling 1 chain for 1_000 tune and 1_000 draw iterations (1_000 + 1_000 draws total) took 55 seconds.\n",
      "Only one chain was sampled, this makes it impossible to run some convergence checks\n"
     ]
    }
   ],
   "source": [
    "with m: \n",
    "    m_idata = pm.sample(chains = 1, # breaks with 2 chains.\n",
    "                       return_inferencedata = True,\n",
    "                       random_seed = 42) "
   ]
  },
  {
   "cell_type": "code",
   "execution_count": 55,
   "metadata": {},
   "outputs": [],
   "source": [
    "import arviz as az"
   ]
  },
  {
   "cell_type": "code",
   "execution_count": 56,
   "metadata": {
    "scrolled": true
   },
   "outputs": [
    {
     "data": {
      "text/plain": [
       "array([[<AxesSubplot:title={'center':'betaGini_c0'}>,\n",
       "        <AxesSubplot:title={'center':'betaGini_c0'}>],\n",
       "       [<AxesSubplot:title={'center':'betaGini_gamma'}>,\n",
       "        <AxesSubplot:title={'center':'betaGini_gamma'}>],\n",
       "       [<AxesSubplot:title={'center':'beta0_c0'}>,\n",
       "        <AxesSubplot:title={'center':'beta0_c0'}>],\n",
       "       [<AxesSubplot:title={'center':'beta0_gamma'}>,\n",
       "        <AxesSubplot:title={'center':'beta0_gamma'}>],\n",
       "       [<AxesSubplot:title={'center':'sigma_c'}>,\n",
       "        <AxesSubplot:title={'center':'sigma_c'}>]], dtype=object)"
      ]
     },
     "execution_count": 56,
     "metadata": {},
     "output_type": "execute_result"
    },
    {
     "data": {
      "image/png": "[encoded data removed]",
      "text/plain": [
       "<Figure size 864x720 with 10 Axes>"
      ]
     },
     "metadata": {
      "needs_background": "light"
     },
     "output_type": "display_data"
    }
   ],
   "source": [
    "az.plot_trace(m_idata, var_names = [\"betaGini_c0\",\n",
    "                                   \"betaGini_gamma\",\n",
    "                                   \"beta0_c0\",\n",
    "                                   \"beta0_gamma\",\n",
    "                                   \"sigma_c\"])"
   ]
  },
  {
   "cell_type": "code",
   "execution_count": 57,
   "metadata": {},
   "outputs": [
    {
     "data": {
      "image/svg+xml": [
       "<?xml version=\"1.0\" encoding=\"UTF-8\" standalone=\"no\"?>\n",
       "<!DOCTYPE svg PUBLIC \"-//W3C//DTD SVG 1.1//EN\"\n",
       " \"http://www.w3.org/Graphics/SVG/1.1/DTD/svg11.dtd\">\n",
       "<!-- Generated by graphviz version 2.47.1 (20210418.0311)\n",
       " -->\n",
       "<!-- Pages: 1 -->\n",
       "<svg width=\"713pt\" height=\"344pt\"\n",
       " viewBox=\"0.00 0.00 712.98 343.88\" xmlns=\"http://www.w3.org/2000/svg\" xmlns:xlink=\"http://www.w3.org/1999/xlink\">\n",
       "<g id=\"graph0\" class=\"graph\" transform=\"scale(1 1) rotate(0) translate(4 339.88)\">\n",
       "<polygon fill=\"white\" stroke=\"transparent\" points=\"-4,4 -4,-339.88 708.98,-339.88 708.98,4 -4,4\"/>\n",
       "<g id=\"clust1\" class=\"cluster\">\n",
       "<title>cluster4 x 244</title>\n",
       "<path fill=\"none\" stroke=\"black\" d=\"M264.56,-129.95C264.56,-129.95 498.56,-129.95 498.56,-129.95 504.56,-129.95 510.56,-135.95 510.56,-141.95 510.56,-141.95 510.56,-209.95 510.56,-209.95 510.56,-215.95 504.56,-221.95 498.56,-221.95 498.56,-221.95 264.56,-221.95 264.56,-221.95 258.56,-221.95 252.56,-215.95 252.56,-209.95 252.56,-209.95 252.56,-141.95 252.56,-141.95 252.56,-135.95 258.56,-129.95 264.56,-129.95\"/>\n",
       "<text text-anchor=\"middle\" x=\"475.56\" y=\"-137.75\" font-family=\"Times-Roman\" font-size=\"14.00\">4 x 244</text>\n",
       "</g>\n",
       "<g id=\"clust2\" class=\"cluster\">\n",
       "<title>cluster10 x 4 x 244</title>\n",
       "<path fill=\"none\" stroke=\"black\" d=\"M401.56,-8C401.56,-8 491.56,-8 491.56,-8 497.56,-8 503.56,-14 503.56,-20 503.56,-20 503.56,-109.95 503.56,-109.95 503.56,-115.95 497.56,-121.95 491.56,-121.95 491.56,-121.95 401.56,-121.95 401.56,-121.95 395.56,-121.95 389.56,-115.95 389.56,-109.95 389.56,-109.95 389.56,-20 389.56,-20 389.56,-14 395.56,-8 401.56,-8\"/>\n",
       "<text text-anchor=\"middle\" x=\"451.06\" y=\"-15.8\" font-family=\"Times-Roman\" font-size=\"14.00\">10 x 4 x 244</text>\n",
       "</g>\n",
       "<!-- beta0_gamma -->\n",
       "<g id=\"node1\" class=\"node\">\n",
       "<title>beta0_gamma</title>\n",
       "<ellipse fill=\"none\" stroke=\"black\" cx=\"85.56\" cy=\"-298.41\" rx=\"85.62\" ry=\"37.45\"/>\n",
       "<text text-anchor=\"middle\" x=\"85.56\" y=\"-309.71\" font-family=\"Times-Roman\" font-size=\"14.00\">beta0_gamma</text>\n",
       "<text text-anchor=\"middle\" x=\"85.56\" y=\"-294.71\" font-family=\"Times-Roman\" font-size=\"14.00\">~</text>\n",
       "<text text-anchor=\"middle\" x=\"85.56\" y=\"-279.71\" font-family=\"Times-Roman\" font-size=\"14.00\">HalfNormal</text>\n",
       "</g>\n",
       "<!-- gamma -->\n",
       "<g id=\"node6\" class=\"node\">\n",
       "<title>gamma</title>\n",
       "<polygon fill=\"none\" stroke=\"black\" points=\"372.56,-213.95 260.56,-213.95 260.56,-160.95 372.56,-160.95 372.56,-213.95\"/>\n",
       "<text text-anchor=\"middle\" x=\"316.56\" y=\"-198.75\" font-family=\"Times-Roman\" font-size=\"14.00\">gamma</text>\n",
       "<text text-anchor=\"middle\" x=\"316.56\" y=\"-183.75\" font-family=\"Times-Roman\" font-size=\"14.00\">~</text>\n",
       "<text text-anchor=\"middle\" x=\"316.56\" y=\"-168.75\" font-family=\"Times-Roman\" font-size=\"14.00\">Deterministic</text>\n",
       "</g>\n",
       "<!-- beta0_gamma&#45;&gt;gamma -->\n",
       "<g id=\"edge3\" class=\"edge\">\n",
       "<title>beta0_gamma&#45;&gt;gamma</title>\n",
       "<path fill=\"none\" stroke=\"black\" d=\"M142.66,-270.47C176.14,-254.68 218.51,-234.7 253.04,-218.41\"/>\n",
       "<polygon fill=\"black\" stroke=\"black\" points=\"254.55,-221.57 262.1,-214.14 251.56,-215.24 254.55,-221.57\"/>\n",
       "</g>\n",
       "<!-- beta0_c0 -->\n",
       "<g id=\"node2\" class=\"node\">\n",
       "<title>beta0_c0</title>\n",
       "<ellipse fill=\"none\" stroke=\"black\" cx=\"474.56\" cy=\"-298.41\" rx=\"69.09\" ry=\"37.45\"/>\n",
       "<text text-anchor=\"middle\" x=\"474.56\" y=\"-309.71\" font-family=\"Times-Roman\" font-size=\"14.00\">beta0_c0</text>\n",
       "<text text-anchor=\"middle\" x=\"474.56\" y=\"-294.71\" font-family=\"Times-Roman\" font-size=\"14.00\">~</text>\n",
       "<text text-anchor=\"middle\" x=\"474.56\" y=\"-279.71\" font-family=\"Times-Roman\" font-size=\"14.00\">HalfNormal</text>\n",
       "</g>\n",
       "<!-- c_0 -->\n",
       "<g id=\"node7\" class=\"node\">\n",
       "<title>c_0</title>\n",
       "<polygon fill=\"none\" stroke=\"black\" points=\"502.56,-213.95 390.56,-213.95 390.56,-160.95 502.56,-160.95 502.56,-213.95\"/>\n",
       "<text text-anchor=\"middle\" x=\"446.56\" y=\"-198.75\" font-family=\"Times-Roman\" font-size=\"14.00\">c_0</text>\n",
       "<text text-anchor=\"middle\" x=\"446.56\" y=\"-183.75\" font-family=\"Times-Roman\" font-size=\"14.00\">~</text>\n",
       "<text text-anchor=\"middle\" x=\"446.56\" y=\"-168.75\" font-family=\"Times-Roman\" font-size=\"14.00\">Deterministic</text>\n",
       "</g>\n",
       "<!-- beta0_c0&#45;&gt;c_0 -->\n",
       "<g id=\"edge1\" class=\"edge\">\n",
       "<title>beta0_c0&#45;&gt;c_0</title>\n",
       "<path fill=\"none\" stroke=\"black\" d=\"M465.24,-261.13C462.18,-249.25 458.8,-236.08 455.76,-224.24\"/>\n",
       "<polygon fill=\"black\" stroke=\"black\" points=\"459.07,-223.06 453.19,-214.25 452.29,-224.8 459.07,-223.06\"/>\n",
       "</g>\n",
       "<!-- betaGini_c0 -->\n",
       "<g id=\"node3\" class=\"node\">\n",
       "<title>betaGini_c0</title>\n",
       "<ellipse fill=\"none\" stroke=\"black\" cx=\"633.56\" cy=\"-298.41\" rx=\"71.34\" ry=\"37.45\"/>\n",
       "<text text-anchor=\"middle\" x=\"633.56\" y=\"-309.71\" font-family=\"Times-Roman\" font-size=\"14.00\">betaGini_c0</text>\n",
       "<text text-anchor=\"middle\" x=\"633.56\" y=\"-294.71\" font-family=\"Times-Roman\" font-size=\"14.00\">~</text>\n",
       "<text text-anchor=\"middle\" x=\"633.56\" y=\"-279.71\" font-family=\"Times-Roman\" font-size=\"14.00\">Normal</text>\n",
       "</g>\n",
       "<!-- betaGini_c0&#45;&gt;c_0 -->\n",
       "<g id=\"edge2\" class=\"edge\">\n",
       "<title>betaGini_c0&#45;&gt;c_0</title>\n",
       "<path fill=\"none\" stroke=\"black\" d=\"M586.37,-269.91C559.82,-254.44 526.59,-235.08 499.2,-219.12\"/>\n",
       "<polygon fill=\"black\" stroke=\"black\" points=\"500.92,-216.08 490.52,-214.07 497.4,-222.13 500.92,-216.08\"/>\n",
       "</g>\n",
       "<!-- sigma_c -->\n",
       "<g id=\"node4\" class=\"node\">\n",
       "<title>sigma_c</title>\n",
       "<ellipse fill=\"none\" stroke=\"black\" cx=\"573.56\" cy=\"-187.45\" rx=\"53.07\" ry=\"37.45\"/>\n",
       "<text text-anchor=\"middle\" x=\"573.56\" y=\"-198.75\" font-family=\"Times-Roman\" font-size=\"14.00\">sigma_c</text>\n",
       "<text text-anchor=\"middle\" x=\"573.56\" y=\"-183.75\" font-family=\"Times-Roman\" font-size=\"14.00\">~</text>\n",
       "<text text-anchor=\"middle\" x=\"573.56\" y=\"-168.75\" font-family=\"Times-Roman\" font-size=\"14.00\">Gamma</text>\n",
       "</g>\n",
       "<!-- y_pred -->\n",
       "<g id=\"node8\" class=\"node\">\n",
       "<title>y_pred</title>\n",
       "<ellipse fill=\"lightgrey\" stroke=\"black\" cx=\"446.56\" cy=\"-76.48\" rx=\"48.58\" ry=\"37.45\"/>\n",
       "<text text-anchor=\"middle\" x=\"446.56\" y=\"-87.78\" font-family=\"Times-Roman\" font-size=\"14.00\">y_pred</text>\n",
       "<text text-anchor=\"middle\" x=\"446.56\" y=\"-72.78\" font-family=\"Times-Roman\" font-size=\"14.00\">~</text>\n",
       "<text text-anchor=\"middle\" x=\"446.56\" y=\"-57.78\" font-family=\"Times-Roman\" font-size=\"14.00\">Normal</text>\n",
       "</g>\n",
       "<!-- sigma_c&#45;&gt;y_pred -->\n",
       "<g id=\"edge5\" class=\"edge\">\n",
       "<title>sigma_c&#45;&gt;y_pred</title>\n",
       "<path fill=\"none\" stroke=\"black\" d=\"M543.51,-156.49C534.4,-147.73 524.24,-138.28 514.56,-129.95 506.59,-123.1 497.86,-116.04 489.38,-109.41\"/>\n",
       "<polygon fill=\"black\" stroke=\"black\" points=\"491.42,-106.56 481.37,-103.21 487.14,-112.1 491.42,-106.56\"/>\n",
       "</g>\n",
       "<!-- betaGini_gamma -->\n",
       "<g id=\"node5\" class=\"node\">\n",
       "<title>betaGini_gamma</title>\n",
       "<ellipse fill=\"none\" stroke=\"black\" cx=\"288.56\" cy=\"-298.41\" rx=\"98.99\" ry=\"37.45\"/>\n",
       "<text text-anchor=\"middle\" x=\"288.56\" y=\"-309.71\" font-family=\"Times-Roman\" font-size=\"14.00\">betaGini_gamma</text>\n",
       "<text text-anchor=\"middle\" x=\"288.56\" y=\"-294.71\" font-family=\"Times-Roman\" font-size=\"14.00\">~</text>\n",
       "<text text-anchor=\"middle\" x=\"288.56\" y=\"-279.71\" font-family=\"Times-Roman\" font-size=\"14.00\">Normal</text>\n",
       "</g>\n",
       "<!-- betaGini_gamma&#45;&gt;gamma -->\n",
       "<g id=\"edge4\" class=\"edge\">\n",
       "<title>betaGini_gamma&#45;&gt;gamma</title>\n",
       "<path fill=\"none\" stroke=\"black\" d=\"M297.96,-260.82C301.01,-248.97 304.38,-235.84 307.41,-224.05\"/>\n",
       "<polygon fill=\"black\" stroke=\"black\" points=\"310.87,-224.66 309.97,-214.11 304.09,-222.92 310.87,-224.66\"/>\n",
       "</g>\n",
       "<!-- gamma&#45;&gt;y_pred -->\n",
       "<g id=\"edge6\" class=\"edge\">\n",
       "<title>gamma&#45;&gt;y_pred</title>\n",
       "<path fill=\"none\" stroke=\"black\" d=\"M345.49,-160.91C356.68,-151.14 369.64,-139.94 381.56,-129.95 389.23,-123.53 397.49,-116.75 405.46,-110.28\"/>\n",
       "<polygon fill=\"black\" stroke=\"black\" points=\"407.73,-112.95 413.3,-103.94 403.33,-107.51 407.73,-112.95\"/>\n",
       "</g>\n",
       "<!-- c_0&#45;&gt;y_pred -->\n",
       "<g id=\"edge7\" class=\"edge\">\n",
       "<title>c_0&#45;&gt;y_pred</title>\n",
       "<path fill=\"none\" stroke=\"black\" d=\"M446.56,-160.9C446.56,-149.99 446.56,-136.9 446.56,-124.36\"/>\n",
       "<polygon fill=\"black\" stroke=\"black\" points=\"450.06,-124.01 446.56,-114.01 443.06,-124.01 450.06,-124.01\"/>\n",
       "</g>\n",
       "</g>\n",
       "</svg>\n"
      ],
      "text/plain": [
       "<graphviz.dot.Digraph at 0x7f3da7eb5490>"
      ]
     },
     "execution_count": 57,
     "metadata": {},
     "output_type": "execute_result"
    }
   ],
   "source": [
    "pm.model_to_graphviz(m)"
   ]
  },
  {
   "cell_type": "code",
   "execution_count": 58,
   "metadata": {},
   "outputs": [
    {
     "data": {
      "text/html": [
       "\n",
       "    <div>\n",
       "        <style>\n",
       "            /* Turns off some styling */\n",
       "            progress {\n",
       "                /* gets rid of default border in Firefox and Opera. */\n",
       "                border: none;\n",
       "                /* Needs to be in here for Safari polyfill so background images work as expected. */\n",
       "                background-size: auto;\n",
       "            }\n",
       "            .progress-bar-interrupted, .progress-bar-interrupted::-webkit-progress-bar {\n",
       "                background: #F44336;\n",
       "            }\n",
       "        </style>\n",
       "      <progress value='1000' class='' max='1000' style='width:300px; height:20px; vertical-align: middle;'></progress>\n",
       "      100.00% [1000/1000 00:05<00:00]\n",
       "    </div>\n",
       "    "
      ],
      "text/plain": [
       "<IPython.core.display.HTML object>"
      ]
     },
     "metadata": {},
     "output_type": "display_data"
    }
   ],
   "source": [
    "with m: \n",
    "    m_post = pm.sample_posterior_predictive(m_idata,\n",
    "                                           random_seed = 42)"
   ]
  },
  {
   "cell_type": "code",
   "execution_count": 59,
   "metadata": {},
   "outputs": [],
   "source": [
    "maxs = np.where(Gini == Gini.max())\n",
    "mins = np.where(Gini == Gini.min())"
   ]
  },
  {
   "cell_type": "code",
   "execution_count": 60,
   "metadata": {},
   "outputs": [
    {
     "data": {
      "text/plain": [
       "(10, 244)"
      ]
     },
     "execution_count": 60,
     "metadata": {},
     "output_type": "execute_result"
    }
   ],
   "source": [
    "y_mean = m_post[\"y_pred\"].mean(axis = 0) # mean over samples\n",
    "y_mean = y_mean.mean(axis = 1) # mean over participants \n",
    "y_mean.shape"
   ]
  },
  {
   "cell_type": "code",
   "execution_count": 61,
   "metadata": {},
   "outputs": [],
   "source": [
    "y_high = y_mean[:, maxs[0]]\n",
    "y_low = y_mean[:, mins[0]]"
   ]
  },
  {
   "cell_type": "code",
   "execution_count": 62,
   "metadata": {},
   "outputs": [],
   "source": [
    "y_high_mean = y_high.mean(axis = 1)\n",
    "y_low_mean = y_low.mean(axis = 1)"
   ]
  },
  {
   "cell_type": "code",
   "execution_count": 63,
   "metadata": {},
   "outputs": [],
   "source": [
    "import matplotlib.pyplot as plt"
   ]
  },
  {
   "cell_type": "code",
   "execution_count": 68,
   "metadata": {},
   "outputs": [],
   "source": [
    "y_high_std = y_high.std(axis = 1)\n",
    "y_low_std = y_high.std(axis = 1)"
   ]
  },
  {
   "cell_type": "code",
   "execution_count": 74,
   "metadata": {},
   "outputs": [],
   "source": [
    "std = 3"
   ]
  },
  {
   "cell_type": "code",
   "execution_count": 80,
   "metadata": {},
   "outputs": [
    {
     "data": {
      "text/plain": [
       "<matplotlib.legend.Legend at 0x7f3da7987940>"
      ]
     },
     "execution_count": 80,
     "metadata": {},
     "output_type": "execute_result"
    },
    {
     "data": {
      "image/png": "[encoded data removed]",
      "text/plain": [
       "<Figure size 432x288 with 1 Axes>"
      ]
     },
     "metadata": {
      "needs_background": "light"
     },
     "output_type": "display_data"
    }
   ],
   "source": [
    "# reproducing Josh w. uncertainty (3 sd). \n",
    "plt.plot(y_high_mean, color = \"r\", label = \"high Gini\")\n",
    "plt.plot(y_low_mean, color = \"b\", label = \"low Gini\")\n",
    "plt.fill_between(t, y_high_mean - std*y_high_std, y_high_mean + std*y_high_std,\n",
    "                alpha = 0.2, color = \"r\")\n",
    "plt.fill_between(t, y_low_mean - std*y_low_std, y_low_mean + std*y_low_std,\n",
    "                alpha = 0.2, color = \"b\")\n",
    "plt.title(\"Decay of cooperation in high vs. low gini-coefficient conditions\")\n",
    "plt.legend()"
   ]
  },
  {
   "cell_type": "markdown",
   "metadata": {},
   "source": [
    "### Preferences:\n",
    "\n",
    "$$pvec = p_0 + \\beta_p \\cdot tokenvalues $$\n",
    "\n",
    "$$p_t = pvec[Gb_t]$$\n",
    "\n",
    "where Gb_t is the belief of what the other person will do at time T"
   ]
  },
  {
   "cell_type": "markdown",
   "metadata": {},
   "source": [
    "$$Gb_t = \\gamma ( Gb_{t-1}) + (1-\\gamma) (G_{a_{t-1}})$$"
   ]
  },
  {
   "cell_type": "markdown",
   "metadata": {},
   "source": [
    "$$c_t = \\omega_t (Gb_t) + (1-\\omega_t) (p_t)$$\n",
    "\n",
    "$$\\omega_t = \\omega_{t-1}(1-\\lambda)$$"
   ]
  },
  {
   "cell_type": "markdown",
   "metadata": {},
   "source": [
    "### Getting the hierachical model\n",
    "\n",
    "$$B^P_{g,s} \\sim Beta(Shape_{g,s,1}, Shape_{g,s,2})$$"
   ]
  },
  {
   "cell_type": "markdown",
   "metadata": {},
   "source": [
    "$$Shape_1 = \\mu B^P_{g,s} + \\sigma_{g,s}$$\n",
    "$$Shape_2 = (1 - \\mu B^P_{g,s}) + \\sigma_{g,s}$$\n",
    "\n",
    "$$Probit(\\mu B^P_{g,s}) = \\beta_0^P + \\beta^P_{Gini} \\cdot Gini$$"
   ]
  },
  {
   "cell_type": "code",
   "execution_count": 87,
   "metadata": {},
   "outputs": [
    {
     "data": {
      "text/plain": [
       "array([ 0,  1,  2,  3,  4,  5,  6,  7,  8,  9, 10, 11, 12, 13, 14, 15, 16,\n",
       "       17, 18, 19, 20])"
      ]
     },
     "execution_count": 87,
     "metadata": {},
     "output_type": "execute_result"
    }
   ],
   "source": [
    "# hard-coded (brilliant) parameters\n",
    "pi = 1.4\n",
    "ntokens = 20\n",
    "vals = np.arange(0, 21) # or 1-21"
   ]
  },
  {
   "cell_type": "code",
   "execution_count": 85,
   "metadata": {},
   "outputs": [],
   "source": [
    "# https://books.google.dk/books?id=ys8oDwAAQBAJ&pg=PA114&lpg=PA114&dq=probit+transformation+theano&source=bl&ots=uK3a2NXdVY&sig=ACfU3U1zANvv3Kz6qBmu3RAFnMw3cqkPHQ&hl=da&sa=X&ved=2ahUKEwjd4riAoMnwAhUlg_0HHc3vD_gQ6AEwEnoECA8QAw#v=onepage&q=probit%20transformation%20theano&f=false\n",
    "def probit_phi(x): \n",
    "    mu = 0\n",
    "    sd = 1\n",
    "    return 0.5 * (1 + tt.erf((x - mu) / sd * tt.sqrt(2)))"
   ]
  },
  {
   "cell_type": "code",
   "execution_count": 84,
   "metadata": {},
   "outputs": [
    {
     "ename": "NameError",
     "evalue": "name 'mu_pbeta_probit' is not defined",
     "output_type": "error",
     "traceback": [
      "\u001b[0;31m---------------------------------------------------------------\u001b[0m",
      "\u001b[0;31mNameError\u001b[0m                     Traceback (most recent call last)",
      "\u001b[0;32m<ipython-input-84-02c7caf1a374>\u001b[0m in \u001b[0;36m<module>\u001b[0;34m\u001b[0m\n\u001b[1;32m      5\u001b[0m     \u001b[0mbetaGini_pbeta\u001b[0m \u001b[0;34m=\u001b[0m \u001b[0mpm\u001b[0m\u001b[0;34m.\u001b[0m\u001b[0mNormal\u001b[0m\u001b[0;34m(\u001b[0m\u001b[0;34m\"betaGini_pbeta\"\u001b[0m\u001b[0;34m,\u001b[0m \u001b[0;36m0\u001b[0m\u001b[0;34m,\u001b[0m\u001b[0;36m1\u001b[0m\u001b[0;34m)\u001b[0m\u001b[0;34m\u001b[0m\u001b[0;34m\u001b[0m\u001b[0m\n\u001b[1;32m      6\u001b[0m \u001b[0;34m\u001b[0m\u001b[0m\n\u001b[0;32m----> 7\u001b[0;31m     \u001b[0mmu_pbeta_probit\u001b[0m \u001b[0;34m<\u001b[0m\u001b[0;34m-\u001b[0m \u001b[0mbeta0_pbeta\u001b[0m \u001b[0;34m+\u001b[0m \u001b[0;34m(\u001b[0m\u001b[0mbetaGini_pbeta\u001b[0m\u001b[0;34m*\u001b[0m\u001b[0;34m(\u001b[0m\u001b[0mGini\u001b[0m\u001b[0;34m[\u001b[0m\u001b[0midx_g\u001b[0m\u001b[0;34m,\u001b[0m \u001b[0midx_s\u001b[0m\u001b[0;34m]\u001b[0m\u001b[0;34m)\u001b[0m\u001b[0;34m)\u001b[0m\u001b[0;34m\u001b[0m\u001b[0;34m\u001b[0m\u001b[0m\n\u001b[0m\u001b[1;32m      8\u001b[0m \u001b[0;34m\u001b[0m\u001b[0m\n\u001b[1;32m      9\u001b[0m \u001b[0;31m## group_level\u001b[0m\u001b[0;34m\u001b[0m\u001b[0;34m\u001b[0m\u001b[0;34m\u001b[0m\u001b[0m\n",
      "\u001b[0;31mNameError\u001b[0m: name 'mu_pbeta_probit' is not defined"
     ]
    }
   ],
   "source": [
    "with pm.Model() as m1: \n",
    "    \n",
    "    # priors\n",
    "    beta0_pbeta = pm.Normal(\"beta0_pbeta\", 0,1) \n",
    "    betaGini_pbeta = pm.Normal(\"betaGini_pbeta\", 0,1)\n",
    "    \n",
    "    mu_pbeta_probit = beta0_pbeta + (betaGini_pbeta*(Gini[idx_g, idx_s]))\n",
    "    # concentration parameter\n",
    "    sigma_pbeta = pm.Uniform(\"sigma_pbeta\", 1,100, shape = (1, len(idx_s), len(idx_g))) \n",
    "    \n",
    "    # reparameterising beta prior for slope of beliefs/preferences  in CC model \n",
    "    mu_pbeta = probit_phi(mu_pbeta_probit) # probit descale - - mean for cond is lower than overall\n",
    "    shape1_pbeta = mu_pbeta * sigma_pbeta\n",
    "    shape2_pbeta = (1 - mu_pbeta) * sigma_pbeta\n",
    "    \n",
    "    ###### model level priors ######\n",
    "    #initial weighting of beliefs about others contributions in choice of own contribution, relative to prefs\n",
    "    omega1 = pm.Beta(\"omega1\", 1, 1, shape = (1, len(idx_s), len(idx_g))) \n",
    "    \n",
    "    #decay rate in weighting of beliefs about others - prefs dominate over time\n",
    "    lambda1 = pm.Beta(\"lambda1\", 1, 1, shape = (1, len(idx_s), len(idx_g)))\n",
    "    \n",
    "    #parameter weighting of beliefs about what others will contribute, relative to observed contribution\n",
    "    gamma = pm.Beta(\"gamma\", 1, 1, shape = (1, len(idx_s), len(idx_g)))\n",
    "\n",
    "    #~ dunif(0,20) #intercept of linear model relating preferred contributions to possible contribution values\n",
    "    p0 = np.zeros(shape = (idx_s, idx_g)) #??\n",
    "\n",
    "    #slope of linear model relating preferred contributions to possible contribution values\n",
    "    pbeta = pm.Beta(\"pbeta\", shape1_pbeta+1, shape2_pbeta+1) #dbeta(shape1_pbeta[s,g]+1,shape2_pbeta[s,g]+1)\n",
    "    \n",
    "    # vals (0-20)\n",
    "    pvals[s,i,g] <- p0[s,g] + (pbeta[s,g] * vals[i]) \n"
   ]
  },
  {
   "cell_type": "code",
   "execution_count": null,
   "metadata": {},
   "outputs": [],
   "source": [
    "# "
   ]
  }
 ],
 "metadata": {
  "kernelspec": {
   "display_name": "Python 3",
   "language": "python",
   "name": "python3"
  },
  "language_info": {
   "codemirror_mode": {
    "name": "ipython",
    "version": 3
   },
   "file_extension": ".py",
   "mimetype": "text/x-python",
   "name": "python",
   "nbconvert_exporter": "python",
   "pygments_lexer": "ipython3",
   "version": "3.9.2"
  }
 },
 "nbformat": 4,
 "nbformat_minor": 4
}
