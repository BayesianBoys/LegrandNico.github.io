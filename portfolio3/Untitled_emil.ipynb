{
 "cells": [
  {
   "cell_type": "code",
   "execution_count": null,
   "metadata": {},
   "outputs": [],
   "source": [
    "import pandas as pd\n",
    "import pymc3 as pm\n",
    "import numpy as np\n",
    "import theano\n",
    "import theano.tensor as tt\n"
   ]
  },
  {
   "cell_type": "code",
   "execution_count": null,
   "metadata": {},
   "outputs": [],
   "source": [
    "data = pd.read_csv(\"HerrmannThoeniGaechterDATA.csv\", skiprows=3)"
   ]
  },
  {
   "cell_type": "code",
   "execution_count": null,
   "metadata": {},
   "outputs": [],
   "source": [
    "len(data)"
   ]
  },
  {
   "cell_type": "code",
   "execution_count": null,
   "metadata": {},
   "outputs": [],
   "source": [
    "data.head()"
   ]
  },
  {
   "cell_type": "code",
   "execution_count": null,
   "metadata": {},
   "outputs": [],
   "source": [
    "## constants\n",
    "groupSize = 4\n",
    "ntrials = 10\n",
    "pi = 1.4\n",
    "ntokens = 20\n",
    "vals = list(range(21)) #possible values to contribute - from 0 to 20 tokens"
   ]
  },
  {
   "cell_type": "markdown",
   "metadata": {},
   "source": [
    "## Prelim checks"
   ]
  },
  {
   "cell_type": "code",
   "execution_count": null,
   "metadata": {},
   "outputs": [],
   "source": [
    "len(set(data[\"subjectid\"])) #should be 1120"
   ]
  },
  {
   "cell_type": "code",
   "execution_count": null,
   "metadata": {},
   "outputs": [],
   "source": [
    "len(set(data[\"groupid\"]))"
   ]
  },
  {
   "cell_type": "code",
   "execution_count": null,
   "metadata": {},
   "outputs": [],
   "source": [
    "data.dtypes"
   ]
  },
  {
   "cell_type": "code",
   "execution_count": null,
   "metadata": {},
   "outputs": [],
   "source": [
    "def get_gini(city):\n",
    "    if city == \"Melbourne\":\n",
    "        return 34.3\n",
    "    if city == \"Minsk\":\n",
    "        return 25.3\n",
    "    if city == \"Chengdu\":\n",
    "        return 38.5\n",
    "    if city == \"Copenhagen\":\n",
    "        return 28.7\n",
    "    if city == \"Bonn\":\n",
    "        return 31.9\n",
    "    if city == \"Athens\":\n",
    "        return 34.4\n",
    "    if city == \"Seoul\":\n",
    "        return 31.6\n",
    "    if city == \"Samara\":\n",
    "        return 37.5\n",
    "    if city == \"Zurich\":\n",
    "        return 32.7\n",
    "    if city == \"St. Gallen\":\n",
    "        return 32.7\n",
    "    if city == \"Istanbul\":\n",
    "        return 41.9\n",
    "    if city == \"Nottingham\":\n",
    "        return 34.8\n",
    "    if city == \"Dnipropetrovs'k\":\n",
    "        return 26.1\n",
    "    if city == \"Boston\":\n",
    "        return 41.1\n",
    "    \n",
    "data[\"gini\"] = data[\"city\"].apply(lambda x: get_gini(x))"
   ]
  },
  {
   "cell_type": "code",
   "execution_count": null,
   "metadata": {},
   "outputs": [],
   "source": [
    "#data = data[data[\"gini\"].isna() == False]\n",
    "#data = data.dropna()"
   ]
  },
  {
   "cell_type": "code",
   "execution_count": null,
   "metadata": {},
   "outputs": [],
   "source": [
    "len(data)"
   ]
  },
  {
   "cell_type": "code",
   "execution_count": null,
   "metadata": {},
   "outputs": [],
   "source": [
    "redDat = data.iloc[::3, :] #get only every third row, the others are other responses that we don't need"
   ]
  },
  {
   "cell_type": "code",
   "execution_count": null,
   "metadata": {},
   "outputs": [],
   "source": [
    "redDat.reset_index(inplace = True, drop = True)"
   ]
  },
  {
   "cell_type": "code",
   "execution_count": null,
   "metadata": {},
   "outputs": [],
   "source": [
    "group_names = set(redDat[\"groupid\"])\n",
    "group_names = sorted(list(group_names))\n",
    "ngroups = len(group_names)\n",
    "\n",
    "### DOES SOMETHING FUCKED HERE\n",
    "\n",
    "subject_names = set(redDat[\"subjectid\"])\n",
    "nsubjects = len(subject_names)\n",
    "ngroups = 269"
   ]
  },
  {
   "cell_type": "code",
   "execution_count": null,
   "metadata": {},
   "outputs": [],
   "source": [
    "## No punish initialized\n",
    "c_no_punish = np.zeros(shape = (groupSize, ntrials, ngroups))\n",
    "Ga_no_punish = np.zeros(shape = (ntrials, ngroups))\n",
    "Gc_no_punish = np.zeros(shape = (groupSize, ntrials, ngroups))\n",
    "\n",
    "#punished initialized\n",
    "c_punish = np.zeros(shape = (groupSize, ntrials, ngroups))\n",
    "Ga_punish = np.zeros(shape = (ntrials, ngroups))\n",
    "Gc_punish = np.zeros(shape = (groupSize, ntrials, ngroups))\n",
    "\n",
    "#missing vector\n",
    "missing = np.zeros(shape = (ngroups))"
   ]
  },
  {
   "cell_type": "code",
   "execution_count": null,
   "metadata": {},
   "outputs": [],
   "source": [
    "for g in range(ngroups):\n",
    "    ### fancy way of fixing missing data - they will just become 0, \n",
    "    # and their position is then logged in \"missing\"-vector\n",
    "    try: \n",
    "        #no punish\n",
    "        c_no_punish[:,:,g][0] = redDat[(redDat[\"groupid\"] == group_names[g]) & (redDat[\"p\"] == \"N-experiment\")][\"senderscontribution\"][0:10].values\n",
    "        c_no_punish[:,:,g][1] = redDat[(redDat[\"groupid\"] == group_names[g]) & (redDat[\"p\"] == \"N-experiment\")][\"senderscontribution\"][10:20].values\n",
    "        c_no_punish[:,:,g][2] = redDat[(redDat[\"groupid\"] == group_names[g]) & (redDat[\"p\"] == \"N-experiment\")][\"senderscontribution\"][20:30].values\n",
    "        c_no_punish[:,:,g][3] = redDat[(redDat[\"groupid\"] == group_names[g]) & (redDat[\"p\"] == \"N-experiment\")][\"senderscontribution\"][30:40].values\n",
    "        \n",
    "        #punish\n",
    "        c_punish[:,:,g][0] = redDat[(redDat[\"groupid\"] == group_names[g]) & (redDat[\"p\"] == \"P-experiment\")][\"senderscontribution\"][0:10].values\n",
    "        c_punish[:,:,g][1] = redDat[(redDat[\"groupid\"] == group_names[g]) & (redDat[\"p\"] == \"P-experiment\")][\"senderscontribution\"][10:20].values\n",
    "        c_punish[:,:,g][2] = redDat[(redDat[\"groupid\"] == group_names[g]) & (redDat[\"p\"] == \"P-experiment\")][\"senderscontribution\"][20:30].values\n",
    "        c_punish[:,:,g][3] = redDat[(redDat[\"groupid\"] == group_names[g]) & (redDat[\"p\"] == \"P-experiment\")][\"senderscontribution\"][30:40].values\n",
    "    \n",
    "    except: #could be more general... \n",
    "        missing[g] = 1\n",
    "    \n",
    "    #make \"Ga\"\n",
    "    \n",
    "    Ga_no_punish[:,g] = c_no_punish[:,:,g].mean(axis=0)\n",
    "    Ga_punish[:,g] = c_punish[:,:,g].mean(axis=0)\n",
    "    \n",
    "    #make \"Gc\"\n",
    "    for s in range(groupSize):\n",
    "        Gc_no_punish[:,:,g][s] = np.delete(c_no_punish[:,:,g], s, 0).sum(axis=0) #just gives a single number though...\n",
    "        Gc_punish[:,:,g][s] = np.delete(c_punish[:,:,g], s, 0).sum(axis=0)"
   ]
  },
  {
   "cell_type": "markdown",
   "metadata": {},
   "source": [
    "### Concat the different conditions"
   ]
  },
  {
   "cell_type": "code",
   "execution_count": null,
   "metadata": {},
   "outputs": [],
   "source": [
    "c = np.zeros(shape = (groupSize, ntrials, ngroups, 2))\n",
    "Ga = np.zeros(shape = (ntrials, ngroups, 2))"
   ]
  },
  {
   "cell_type": "code",
   "execution_count": null,
   "metadata": {},
   "outputs": [],
   "source": [
    "c.shape"
   ]
  },
  {
   "cell_type": "code",
   "execution_count": null,
   "metadata": {},
   "outputs": [],
   "source": [
    "c[:,:,:,0] = c_no_punish\n",
    "c[:,:,:,1] = c_punish\n",
    "\n",
    "Ga[:,:,0] = Ga_no_punish\n",
    "Ga[:,:,1] = Ga_punish"
   ]
  },
  {
   "cell_type": "markdown",
   "metadata": {},
   "source": [
    "### Gini Coefficient"
   ]
  },
  {
   "cell_type": "code",
   "execution_count": null,
   "metadata": {},
   "outputs": [],
   "source": [
    "Gini = np.zeros(shape = ngroups)\n",
    "for g in range(ngroups):\n",
    "    Gini[g] = redDat[(redDat[\"groupid\"] == group_names[g]) & (redDat[\"p\"] == \"P-experiment\")][\"gini\"].values.mean()"
   ]
  },
  {
   "cell_type": "code",
   "execution_count": null,
   "metadata": {},
   "outputs": [],
   "source": [
    "mask = np.isnan(Gini) == False"
   ]
  },
  {
   "cell_type": "code",
   "execution_count": null,
   "metadata": {},
   "outputs": [],
   "source": [
    "#Ga_punish = Ga_punish[:,mask]\n",
    "#Ga_no_punish = Ga_no_punish[:,mask]\n",
    "\n",
    "c = c[:,:,mask,:]\n",
    "Ga = Ga[:,mask,:]\n",
    "#Gc = Gc[:,:,mask,:]\n",
    "Gini = Gini[mask]\n",
    "\n",
    "#get new ngroups\n",
    "ngroups = len(Gini)"
   ]
  },
  {
   "cell_type": "markdown",
   "metadata": {},
   "source": [
    "### Prelim check\n",
    "\n",
    "First we need to add all contributions in a group and multiply them by 1.4 and calculate the Pearson correlation between Gini coefficients and the earnings.\n"
   ]
  },
  {
   "cell_type": "markdown",
   "metadata": {},
   "source": [
    "### Heat map\n",
    "\n",
    "Lower Quartile (Gini < 31.6)\n",
    "Upper Quartile (Gini > 37.5)"
   ]
  },
  {
   "cell_type": "markdown",
   "metadata": {},
   "source": [
    "## Decay model\n",
    "\n",
    "$$c_{g,s,t}^\\mu = c^0_{g,s} \\cdot e^{-\\gamma_{s,g} \\cdot t}$$\n",
    "\n",
    "$$c^0_{g,s} = \\beta^c_0 + \\beta^c_{Gini} \\cdot Gini_g$$\n",
    "\n",
    "$$\\gamma_{s,g} = \\beta^\\gamma_0 + \\beta^\\gamma_{Gini} \\cdot Gini_g$$"
   ]
  },
  {
   "cell_type": "code",
   "execution_count": null,
   "metadata": {},
   "outputs": [],
   "source": [
    "y = c[:,:,:,0]"
   ]
  },
  {
   "cell_type": "code",
   "execution_count": null,
   "metadata": {},
   "outputs": [],
   "source": [
    "idx_g = np.arange(ngroups)\n",
    "idx_s = np.array([0,1,2,3])\n",
    "t = np.arange(ntrials)"
   ]
  },
  {
   "cell_type": "code",
   "execution_count": null,
   "metadata": {},
   "outputs": [],
   "source": [
    "t_stack = np.stack((t,t,t,t))\n",
    "t_stack = t_stack.T\n"
   ]
  },
  {
   "cell_type": "code",
   "execution_count": 85,
   "metadata": {},
   "outputs": [
    {
     "output_type": "execute_result",
     "data": {
      "text/plain": [
       "array([[0, 0, 0, 0],\n",
       "       [1, 1, 1, 1],\n",
       "       [2, 2, 2, 2],\n",
       "       [3, 3, 3, 3],\n",
       "       [4, 4, 4, 4],\n",
       "       [5, 5, 5, 5],\n",
       "       [6, 6, 6, 6],\n",
       "       [7, 7, 7, 7],\n",
       "       [8, 8, 8, 8],\n",
       "       [9, 9, 9, 9]])"
      ]
     },
     "metadata": {},
     "execution_count": 85
    }
   ],
   "source": [
    "t_stack"
   ]
  },
  {
   "cell_type": "code",
   "execution_count": null,
   "metadata": {},
   "outputs": [],
   "source": [
    "Gini_stack = np.stack((Gini, Gini, Gini, Gini))\n",
    "Gini_stack = Gini_stack.T"
   ]
  },
  {
   "cell_type": "code",
   "execution_count": null,
   "metadata": {},
   "outputs": [],
   "source": [
    "y.shape"
   ]
  },
  {
   "cell_type": "code",
   "execution_count": null,
   "metadata": {},
   "outputs": [],
   "source": [
    "Gini_stack.shape"
   ]
  },
  {
   "cell_type": "code",
   "execution_count": null,
   "metadata": {},
   "outputs": [],
   "source": [
    "idx_s = idx_s[:, None]\n",
    "#idx_g = idx_g[:,None]"
   ]
  },
  {
   "cell_type": "code",
   "execution_count": null,
   "metadata": {},
   "outputs": [],
   "source": [
    "idx_s"
   ]
  },
  {
   "cell_type": "code",
   "execution_count": null,
   "metadata": {},
   "outputs": [],
   "source": [
    "idx_g"
   ]
  },
  {
   "cell_type": "code",
   "execution_count": null,
   "metadata": {},
   "outputs": [],
   "source": [
    "Gini_stack[idx_g, idx_s]"
   ]
  },
  {
   "cell_type": "code",
   "execution_count": null,
   "metadata": {},
   "outputs": [],
   "source": [
    "Gini_stack"
   ]
  },
  {
   "cell_type": "code",
   "execution_count": null,
   "metadata": {
    "scrolled": true
   },
   "outputs": [],
   "source": [
    "with pm.Model() as m:\n",
    "    ## priors\n",
    "    beta0_c0 = pm.HalfNormal(\"beta0_c0\", 1)\n",
    "    betaGini_c0 = pm.Normal(\"betaGini_c0\", 0, 1)\n",
    "    \n",
    "    beta0_gamma = pm.HalfNormal(\"beta0_gamma\", 1)\n",
    "    betaGini_gamma = pm.Normal(\"betaGini_gamma\", 0, 1)\n",
    "    \n",
    "    ## group_level\n",
    "    sigma_c = pm.Gamma(\"sigma_c\", 1, 1, shape = (ngroups, groupSize))\n",
    "    \n",
    "    c_0 = pm.Deterministic(\"c_0\", beta0_c0 + betaGini_c0 * Gini_stack[idx_g, idx_s])\n",
    "    \n",
    "    gamma = pm.Deterministic(\"gamma\", beta0_gamma + betaGini_gamma * Gini_stack[idx_g, idx_s])\n",
    "    \n",
    "    ### with time \n",
    "    \n",
    "    tester = pm.math.dot(t_stack, -gamma)\n",
    "    \n",
    "    #test_2 = pm.math.dot(tester, c_0)\n",
    "    \n",
    "    mu_c = pm.Deterministic(\"mu_c\", \n",
    "                            pm.math.dot(c_0, pm.math.exp(pm.math.dot(t_stack, -gamma)))) ## this is gonna be fucked\n",
    "    \n",
    "    ## likelihood\n",
    "    \n",
    "    y_pred = pm.Normal(\"y_pred\", mu = mu_c, sigma = sigma_c, observed = y)\n",
    "    \n",
    "    "
   ]
  },
  {
   "cell_type": "code",
   "execution_count": 77,
   "metadata": {},
   "outputs": [
    {
     "output_type": "execute_result",
     "data": {
      "text/plain": [
       "244"
      ]
     },
     "metadata": {},
     "execution_count": 77
    }
   ],
   "source": []
  },
  {
   "cell_type": "code",
   "execution_count": 88,
   "metadata": {},
   "outputs": [],
   "source": [
    "with pm.Model() as m:\n",
    "    ## priors\n",
    "    beta0_c0 = pm.HalfNormal(\"beta0_c0\", 1)\n",
    "    betaGini_c0 = pm.Normal(\"betaGini_c0\", 0, 1)\n",
    "    \n",
    "    beta0_gamma = pm.HalfNormal(\"beta0_gamma\", 1)\n",
    "    betaGini_gamma = pm.Normal(\"betaGini_gamma\", 0, 1)\n",
    "    \n",
    "    ## group_level\n",
    "    sigma_c = pm.Gamma(\"sigma_c\", 1, 1, shape = (ngroups, groupSize)) \n",
    "    \n",
    "    c_0 = pm.Deterministic(\"c_0\", beta0_c0 + betaGini_c0 * Gini_stack[idx_g, idx_s])\n",
    "    \n",
    "    gamma = pm.Deterministic(\"gamma\", beta0_gamma + betaGini_gamma * Gini_stack[idx_g, idx_s])\n",
    "    \n",
    "    ### with time \n",
    "    \n",
    "    mu_c = pm.Deterministic(\"mu_c\", pm.math.dot(c_0, pm.math.exp(pm.math.dot(t_stack, -gamma)))) ## this is gonna be fucked\n",
    "    \n",
    "    ## likelihood\n",
    "    \n",
    "    y_pred = pm.Normal(\"y_pred\", mu = mu_c, sigma = sigma_c, observed = y)\n",
    "    \n",
    "    "
   ]
  },
  {
   "cell_type": "markdown",
   "metadata": {},
   "source": [
    "### Preferences:\n",
    "\n",
    "$$pvec = p_0 + \\beta_p \\cdot tokenvalues $$\n",
    "\n",
    "$$p_t = pvec[Gb_t]$$\n",
    "\n",
    "where Gb_t is the belief of what the other person will do at time T"
   ]
  },
  {
   "cell_type": "markdown",
   "metadata": {},
   "source": [
    "$$Gb_t = \\gamma ( Gb_{t-1}) + (1-\\gamma) (G_{a_{t-1}})$$"
   ]
  },
  {
   "cell_type": "markdown",
   "metadata": {},
   "source": [
    "$$c_t = \\omega_t (Gb_t) + (1-\\omega_t) (p_t)$$\n",
    "\n",
    "$$\\omega_t = \\omega_{t-1}(1-\\lambda)$$"
   ]
  },
  {
   "cell_type": "markdown",
   "metadata": {},
   "source": [
    "### Getting the hierachical model\n",
    "\n",
    "$$B^P_{g,s} \\sim Beta(Shape_{g,s,1}, Shape_{g,s,2})$$"
   ]
  },
  {
   "cell_type": "markdown",
   "metadata": {},
   "source": [
    "$$Shape_1 = \\mu B^P_{g,s} + \\sigma_{g,s}$$\n",
    "$$Shape_2 = (1 - \\mu B^P_{g,s}) + \\sigma_{g,s}$$\n",
    "\n",
    "$$Probit(\\mu B^P_{g,s}) = \\beta_0^P + \\beta^P_{Gini} \\cdot Gini$$"
   ]
  }
 ],
 "metadata": {
  "kernelspec": {
   "name": "python385jvsc74a57bd05698216558bfa99e9d0f38da36571f7d9dccffc67e29b4443301a5ed3d75bbb7",
   "display_name": "Python 3.8.5 64-bit ('CM': conda)"
  },
  "language_info": {
   "codemirror_mode": {
    "name": "ipython",
    "version": 3
   },
   "file_extension": ".py",
   "mimetype": "text/x-python",
   "name": "python",
   "nbconvert_exporter": "python",
   "pygments_lexer": "ipython3",
   "version": "3.8.5"
  },
  "metadata": {
   "interpreter": {
    "hash": "5698216558bfa99e9d0f38da36571f7d9dccffc67e29b4443301a5ed3d75bbb7"
   }
  }
 },
 "nbformat": 4,
 "nbformat_minor": 4
}